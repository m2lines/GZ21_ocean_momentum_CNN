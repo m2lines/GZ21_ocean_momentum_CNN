{
 "cells": [
  {
   "cell_type": "markdown",
   "metadata": {},
   "source": [
    "# Code to generate Figure 6 "
   ]
  },
  {
   "cell_type": "code",
   "execution_count": 1,
   "metadata": {},
   "outputs": [
    {
     "name": "stdout",
     "output_type": "stream",
     "text": [
      "To load the net from the paper, use the function load_paper_net().\n"
     ]
    }
   ],
   "source": [
    "from gz21_ocean_momentum.analysis.utils import plot_dataset, GlobalPlotter\n",
    "import xarray as xr\n",
    "from dask.diagnostics import ProgressBar\n",
    "import matplotlib.pyplot as plt\n",
    "import numpy as np\n",
    "import cmocean"
   ]
  },
  {
   "cell_type": "markdown",
   "metadata": {},
   "source": [
    "## Steps\n",
    "### Locate forcing data\n",
    "* `forcings_ctrl_path` should point to forcing data generated using the control CM2.6 dataset.\n",
    "* `forcings_1pct_path` should point to forcing data generated using the annual 1% CO2 increase CM2.6 dataset.\n",
    "\n",
    "See the Jupyter notebook README and the example CLI configs for help selecting/generating these."
   ]
  },
  {
   "cell_type": "code",
   "execution_count": 2,
   "metadata": {},
   "outputs": [],
   "source": [
    "forcings_ctrl_path = \"~/sh/gz21/gz21/tmp/generated/forcings/paper-fig-1-ctrl-n100\"\n",
    "forcings_1pct_path = \"~/sh/gz21/gz21/tmp/generated/forcings/paper-fig-1-ctrl-n100\""
   ]
  },
  {
   "cell_type": "markdown",
   "metadata": {},
   "source": [
    "### Various parameters"
   ]
  },
  {
   "cell_type": "code",
   "execution_count": 3,
   "metadata": {},
   "outputs": [],
   "source": [
    "plt.rcParams[\"figure.figsize\"] = (4, 4 / 1.618)\n",
    "var_name = 'vsurf'"
   ]
  },
  {
   "cell_type": "markdown",
   "metadata": {},
   "source": [
    "### The rest"
   ]
  },
  {
   "cell_type": "code",
   "execution_count": null,
   "metadata": {},
   "outputs": [],
   "source": [
    "data_control = xr.open_zarr(forcings_ctrl_path)\n",
    "data_1pct    = xr.open_zarr(forcings_1pct_path)\n",
    "\n",
    "data_control = data_control.rename(dict(xu_ocean='longitude', yu_ocean='latitude'))\n",
    "data_1pct    = data_1pct.rename(dict(xu_ocean='longitude', yu_ocean='latitude'))\n",
    "\n",
    "# Rescale the forcing\n",
    "for var in ('S_x', 'S_y'):\n",
    "    data_control[var] /= 1e-7\n",
    "    data_1pct[var] /= 1e-7\n",
    "\n",
    "# Remove the seasonal means\n",
    "seasonal_groupby_control = data_control.groupby('time.month').mean()\n",
    "seasonal_groupby_1pct = data_1pct.groupby('time.month').mean()\n",
    "\n",
    "data_control = data_control.groupby('time.month') - seasonal_groupby_control\n",
    "data_1pct = data_1pct.groupby('time.month') - seasonal_groupby_1pct"
   ]
  },
  {
   "cell_type": "code",
   "execution_count": null,
   "metadata": {},
   "outputs": [],
   "source": [
    "var_control = data_control[var_name].std(dim='time')\n",
    "var_1pct = data_1pct[var_name].std(dim='time')\n",
    "with ProgressBar():\n",
    "    var_control = var_control.compute()\n",
    "    var_1pct = var_1pct.compute()"
   ]
  },
  {
   "cell_type": "code",
   "execution_count": null,
   "metadata": {},
   "outputs": [],
   "source": [
    "diff =  var_1pct - var_control\n",
    "r_diff = diff / var_control"
   ]
  },
  {
   "cell_type": "code",
   "execution_count": null,
   "metadata": {},
   "outputs": [],
   "source": [
    "#%matplotlib notebook #this option does not work with jupyterlab\n",
    "%matplotlib widget\n",
    "\n",
    "plotter = GlobalPlotter(cbar=True, margin=4)\n",
    "plotter.x_ticks = np.arange(-150., 151., 50)\n",
    "plotter.y_ticks = np.arange(-80., 81., 20)\n",
    "\n",
    "ax=plotter.plot(diff, vmin=-0.05, vmax=0.05, cmap=cmocean.cm.delta, lon=0., colorbar_label='m/s')"
   ]
  },
  {
   "cell_type": "code",
   "execution_count": null,
   "metadata": {},
   "outputs": [],
   "source": [
    "plt.savefig('r_diff_' + var_name + '.jpg', dpi=400)"
   ]
  },
  {
   "cell_type": "code",
   "execution_count": null,
   "metadata": {
    "scrolled": true
   },
   "outputs": [],
   "source": [
    "uv_plotter = plotter\n",
    "def apply_complete_mask(array):\n",
    "    mask = uv_plotter.borders\n",
    "    mask2 = uv_plotter.mask\n",
    "    mask = mask.interp({k: array.coords[k] for k in ['longitude', 'latitude']})\n",
    "    mask2 = mask2.interp({k: array.coords[k] for k in ['longitude', 'latitude']})\n",
    "    array = array.where(np.isnan(mask) & (~np.isnan(mask2)))\n",
    "    #array = array.sel(latitude=slice(pred['latitude'][0], pred['latitude'][-1]))\n",
    "    return array\n",
    "apply_complete_mask(r_diff).sel(latitude=slice(-60, 60)).mean().compute()"
   ]
  }
 ],
 "metadata": {
  "kernelspec": {
   "display_name": "Python 3 (ipykernel)",
   "language": "python",
   "name": "python3"
  },
  "language_info": {
   "codemirror_mode": {
    "name": "ipython",
    "version": 3
   },
   "file_extension": ".py",
   "mimetype": "text/x-python",
   "name": "python",
   "nbconvert_exporter": "python",
   "pygments_lexer": "ipython3",
   "version": "3.11.6"
  }
 },
 "nbformat": 4,
 "nbformat_minor": 4
}
