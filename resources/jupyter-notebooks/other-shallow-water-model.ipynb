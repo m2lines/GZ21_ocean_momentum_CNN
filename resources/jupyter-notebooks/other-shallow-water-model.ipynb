{
 "cells": [
  {
   "cell_type": "code",
   "execution_count": null,
   "id": "electronic-latitude",
   "metadata": {},
   "outputs": [],
   "source": [
    "import mlflow\n",
    "import xarray as xr\n",
    "import matplotlib.pyplot as plt\n",
    "import os,sys\n",
    "sys.path.insert(1, os.path.join(os.getcwd()  , '../../src/gz21_ocean_momentum'))\n",
    "from utils import select_experiment, select_run\n",
    "\n",
    "%env MLFLOW_TRACKING_URI /scratch/ag7531/mlruns"
   ]
  },
  {
   "cell_type": "code",
   "execution_count": null,
   "id": "spread-giant",
   "metadata": {},
   "outputs": [],
   "source": [
    "%env MLFLOW_TRACKING_URI"
   ]
  },
  {
   "cell_type": "code",
   "execution_count": null,
   "id": "indirect-violin",
   "metadata": {},
   "outputs": [],
   "source": [
    "exp_id, _ = select_experiment()"
   ]
  },
  {
   "cell_type": "code",
   "execution_count": null,
   "id": "apart-found",
   "metadata": {},
   "outputs": [],
   "source": [
    "runs=mlflow.search_runs(experiment_ids=(exp_id,))"
   ]
  },
  {
   "cell_type": "code",
   "execution_count": null,
   "id": "solved-cable",
   "metadata": {},
   "outputs": [],
   "source": [
    "runs"
   ]
  },
  {
   "cell_type": "code",
   "execution_count": null,
   "id": "later-invalid",
   "metadata": {},
   "outputs": [],
   "source": [
    "import os\n",
    "os.listdir(runs.iloc[7]['artifact_uri'])"
   ]
  },
  {
   "cell_type": "code",
   "execution_count": null,
   "id": "shaped-jumping",
   "metadata": {},
   "outputs": [],
   "source": [
    "def load_data_from_run(i_run: int):\n",
    "    run = runs.iloc[i_run]\n",
    "    filenames = os.listdir(run['artifact_uri'])\n",
    "    datasets = []\n",
    "    for fn in filenames:\n",
    "        print(f'Loading {fn}')\n",
    "        name = fn.split('_')[0]\n",
    "        datasets.append(xr.open_dataset(os.path.join(run['artifact_uri'], fn)))\n",
    "    return datasets"
   ]
  },
  {
   "cell_type": "code",
   "execution_count": null,
   "id": "metric-combination",
   "metadata": {},
   "outputs": [],
   "source": [
    "low_rez_datas = [load_data_from_run(i) for i in (9, 2, 6, 7)]\n",
    "data_h = load_data_from_run(0)"
   ]
  },
  {
   "cell_type": "code",
   "execution_count": null,
   "id": "normal-dress",
   "metadata": {},
   "outputs": [],
   "source": [
    "#!/usr/bin/env python3\n",
    "# -*- coding: utf-8 -*-\n",
    "\"\"\"\n",
    "Created on Sun Dec  6 13:21:28 2020\n",
    "\n",
    "@author: arthur\n",
    "\"\"\"\n",
    "from scipy.ndimage import gaussian_filter\n",
    "import numpy as np\n",
    "\n",
    "def coarsen(data, factor):\n",
    "    data = xr.apply_ufunc(lambda x: gaussian_filter(x, factor / 2), data,\n",
    "                          input_core_dims=[['x', 'y']],\n",
    "                         output_cor_dims=[['x', 'y']])\n",
    "    data = data.coarsen(factor)\n",
    "    return data.mean()\n",
    "\n",
    "def kinetic_energy(u: np.ndarray, v: np.ndarray, model):\n",
    "    if u.shape != v.shape:\n",
    "        u = model.h2mat(model.IuT.dot(u.flatten()))\n",
    "        v = model.h2mat(model.IvT.dot(v.flatten()))\n",
    "    return np.mean(u**2 + v**2)\n",
    "\n",
    "def uv2Tgrid(u: np.ndarray, v: np.ndarray, model):\n",
    "    if u.ndim == 3:\n",
    "        uv = [uv2Tgrid(u[i, ...], v[i, ...], model)\n",
    "              for i in range(u.shape[0])]\n",
    "        u = np.stack((uv[i][0] for i in range(u.shape[0])))\n",
    "        v = np.stack((uv[i][1] for i in range(u.shape[0])))\n",
    "        return u, v\n",
    "    u = model.h2mat(model.IuT.dot(u.flatten()))\n",
    "    v = model.h2mat(model.IvT.dot(v.flatten()))\n",
    "    return u, v\n",
    "\n",
    "def get_kinetic_energy_ts(u: np.ndarray, v: np.ndarray, model):\n",
    "    n = u.shape[0]\n",
    "    kE_time_series = np.zeros(n)\n",
    "    for i in range(n):\n",
    "        kE_time_series[i] = kinetic_energy(u[i, ...], v[i, ...], model)\n",
    "    return kE_time_series\n",
    "\n",
    "def stream_function(u: np.ndarray, v: np.ndarray, model):\n",
    "    if u.ndim == 3:\n",
    "        s = [stream_function(u[i, ...], v[i, ...], model)\n",
    "             for i in range(u.shape[0])]\n",
    "        return np.stack(s, 0)\n",
    "    if u.shape != v.shape:\n",
    "        u = model.h2mat(model.IuT.dot(u.flatten()))\n",
    "        v = model.h2mat(model.IvT.dot(v.flatten()))\n",
    "    minus_v = -v\n",
    "    s = np.cumsum(minus_v, axis=1)\n",
    "    s += np.cumsum(u, axis=0)\n",
    "    return s\n",
    "\n",
    "def cum_mean(data: np.ndarray, axis=0):\n",
    "    n = data.shape[axis]\n",
    "    ns = np.arange(n).reshape((n, 1, 1)) + 1\n",
    "    return 1 / ns * np.cumsum(data, axis)\n",
    "\n",
    "def eke_spec_avg(u,v,dx,dy, model):\n",
    "    \"\"\" Computes a wavenumber-frequency plot for 3D (t,x,y) data via radial (k = sqrt(kx**2 + ky**2)) integration. TODO: correct normalisation, so that the integral in normal space corresponds to the integral in Fourier space.\n",
    "    \"\"\"\n",
    "    if u.shape != v.shape:\n",
    "        u, v = uv2Tgrid(u, v, model)\n",
    "    \n",
    "    nt,ny,nx = np.shape(u)\n",
    "    kx = (1/(dx))*np.hstack((np.arange(0,(nx+1)/2.),np.arange(-nx/2.+1,0)))/float(nx)\n",
    "    ky = (1/(dy))*np.hstack((np.arange(0,(ny+1)/2.),np.arange(-ny/2.+1,0)))/float(ny)\n",
    "\n",
    "    kxx,kyy = np.meshgrid(kx,ky)\n",
    "    # radial distance from kx,ky = 0\n",
    "    kk = np.sqrt(kxx**2 + kyy**2) \n",
    "\n",
    "    if nx >= ny: #kill negative wavenumbers\n",
    "        k  = kx[:int(nx/2)+1]\n",
    "    else:\n",
    "        k  = ky[:int(ny/2)+1]\n",
    "\n",
    "    dk = k[1] - k[0]\n",
    "\n",
    "    # 2D FFT average\n",
    "    p_eke = np.empty((nt,ny,nx))\n",
    "    nxy2 = nx**2*ny**2\n",
    "\n",
    "    for i in range(nt):\n",
    "        pu = abs(np.fft.fft2(u[i,:,:]))**2/nxy2\n",
    "        pv = abs(np.fft.fft2(v[i,:,:]))**2/nxy2\n",
    "        p_eke[i,:,:] = pu+pv\n",
    "        if ((i+1)/nt*100 % 5) < (i/nt*100 % 5):\n",
    "            print(str(int((i+1)/nt*100.))+'%')\n",
    "    \n",
    "    p_eke_avg = .5*p_eke.mean(axis=0)\n",
    "\n",
    "    # create radial coordinates, associated with k[i]\n",
    "    rcoords = []\n",
    "    for i in range(len(k)):\n",
    "        rcoords.append(np.where(kk<k[i]))\n",
    "\n",
    "    # mulitply by dk to have the corresponding integral\n",
    "    eke_spec = np.zeros(len(k))\n",
    "    for i in range(len(k)):\n",
    "        eke_spec[i] = np.sum(p_eke_avg[rcoords[i][0],rcoords[i][1]])\n",
    "    \n",
    "    eke_spec = np.diff(eke_spec) / dk\n",
    "    k = (k[:-1] + k[1:])/2.\n",
    "\n",
    "    return k,eke_spec"
   ]
  },
  {
   "cell_type": "code",
   "execution_count": null,
   "id": "european-supplier",
   "metadata": {},
   "outputs": [],
   "source": [
    "import sys\n",
    "sys.path.append('/home/ag7531/code/swe_stochastic_param/')\n",
    "from shallowwater import ShallowWaterModel"
   ]
  },
  {
   "cell_type": "code",
   "execution_count": null,
   "id": "removed-colombia",
   "metadata": {},
   "outputs": [],
   "source": [
    "size = 3840\n",
    "model_l = ShallowWaterModel(Nx=size // 10 // 4, Ny=size // 10 // 4, Lx=size * 1e3, Ly = size * 1e3)\n",
    "model_h = ShallowWaterModel(Nx=size // 10 // 1, Ny=size // 10 // 1, Lx=size * 1e3, Ly = size * 1e3)"
   ]
  },
  {
   "cell_type": "code",
   "execution_count": null,
   "id": "waiting-entrepreneur",
   "metadata": {},
   "outputs": [],
   "source": [
    "import cmocean\n",
    "def my_plot(data):\n",
    "    plt.imshow(data, vmin=-1, vmax=1, origin='lower', cmap=cmocean.cm.delta)\n"
   ]
  },
  {
   "cell_type": "code",
   "execution_count": null,
   "id": "specific-botswana",
   "metadata": {},
   "outputs": [],
   "source": [
    "# Low rez no param\n",
    "new_low_rez_datas = []\n",
    "for data in low_rez_datas:\n",
    "    u = data[0]['u'].values\n",
    "    v = data[4]['v'].values\n",
    "    eta = data[3]['eta']\n",
    "    u, v = uv2Tgrid(u, v, model_l)\n",
    "    da_u = xr.DataArray(u, dims=eta.dims, coords=eta.coords)\n",
    "    da_v = xr.DataArray(v, dims=eta.dims, coords=eta.coords)\n",
    "    dataset_l = xr.Dataset(dict(u=da_u, v=da_v, eta=eta))\n",
    "    dataset_l['kE'] = 1/2 * (dataset_l['u']**2 + dataset_l['v']**2)\n",
    "    dataset_l = dataset_l.rename(dict(t='time'))\n",
    "    new_low_rez_datas.append(dataset_l)\n",
    "    print('ok')\n",
    "low_rez_datas = new_low_rez_datas"
   ]
  },
  {
   "cell_type": "code",
   "execution_count": null,
   "id": "pacific-moses",
   "metadata": {},
   "outputs": [],
   "source": [
    "def coarsen(data, factor):\n",
    "    data = xr.apply_ufunc(lambda x: gaussian_filter(x, factor / 2), data, input_core_dims=[['time']], \n",
    "                         output_core_dims=[['time']])\n",
    "    data = data.coarsen(dict(x=factor, y=factor))\n",
    "    return data.mean()\n",
    "\n",
    "# high rez \n",
    "u = data_h[0]['u'].values\n",
    "v = data_h[4]['v'].values\n",
    "eta = data_h[3]['eta']\n",
    "u, v = uv2Tgrid(u, v, model_h)\n",
    "da_u = xr.DataArray(u, dims=eta.dims, coords=eta.coords)\n",
    "da_v = xr.DataArray(v, dims=eta.dims, coords=eta.coords)\n",
    "dataset_h = xr.Dataset(dict(u=da_u, v=da_v, eta=eta))\n",
    "dataset_h = dataset_h.rename(dict(t='time'))\n",
    "dataset_h = coarsen(dataset_h, 4)"
   ]
  },
  {
   "cell_type": "code",
   "execution_count": null,
   "id": "reserved-korea",
   "metadata": {},
   "outputs": [],
   "source": [
    "dataset_h['kE'] = 1/2 * (dataset_h['u']**2 + dataset_h['v']**2)"
   ]
  },
  {
   "cell_type": "code",
   "execution_count": null,
   "id": "fiscal-objective",
   "metadata": {},
   "outputs": [],
   "source": [
    "dataset_h['time'] = data.time"
   ]
  },
  {
   "cell_type": "code",
   "execution_count": null,
   "id": "aging-termination",
   "metadata": {},
   "outputs": [],
   "source": [
    "dataset_h"
   ]
  },
  {
   "cell_type": "code",
   "execution_count": null,
   "id": "small-conspiracy",
   "metadata": {},
   "outputs": [],
   "source": [
    "%matplotlib notebook\n",
    "plt.rcParams[\"figure.figsize\"] = (4 * 2, 4 * 2 / 1.618)\n",
    "\n",
    "plt.figure()\n",
    "for data in low_rez_datas:\n",
    "    plt.plot(data['kE'].mean(dim=('x', 'y')))\n",
    "plt.plot(dataset_h['kE'].mean(dim=('x', 'y')))\n",
    "plt.ylabel(r'$m^2/s^2$')\n",
    "plt.xlabel('day')"
   ]
  },
  {
   "cell_type": "code",
   "execution_count": null,
   "id": "subsequent-giving",
   "metadata": {},
   "outputs": [],
   "source": [
    "plt.savefig('online_kE.jpg', dpi=400)"
   ]
  },
  {
   "cell_type": "code",
   "execution_count": null,
   "id": "upset-complaint",
   "metadata": {},
   "outputs": [],
   "source": [
    "kE_dataset = xr.Dataset()"
   ]
  },
  {
   "cell_type": "code",
   "execution_count": null,
   "id": "found-quantum",
   "metadata": {},
   "outputs": [],
   "source": [
    "for i, data in enumerate(low_rez_datas):\n",
    "    kE_dataset['low_rez_' + str(i)] = data['kE']\n",
    "kE_dataset['high_rez'] = dataset_h['kE']"
   ]
  },
  {
   "cell_type": "code",
   "execution_count": null,
   "id": "seeing-description",
   "metadata": {},
   "outputs": [],
   "source": [
    "kE_dataset"
   ]
  },
  {
   "cell_type": "code",
   "execution_count": null,
   "id": "medical-honey",
   "metadata": {},
   "outputs": [],
   "source": [
    "kE_dataset['low_rez_2'].nbytes / 1e9"
   ]
  },
  {
   "cell_type": "code",
   "execution_count": null,
   "id": "young-policy",
   "metadata": {},
   "outputs": [],
   "source": [
    "kE_dataset.to_zarr('/scratch/ag7531/paper_plots_data/' + var + '_' + func + '_l', mode='w')"
   ]
  },
  {
   "cell_type": "code",
   "execution_count": null,
   "id": "second-toronto",
   "metadata": {},
   "outputs": [],
   "source": [
    "dataset_h = dataset_h.isel(time=slice(1000, None))\n",
    "for i in range(4):\n",
    "    low_rez_datas[i] = low_rez_datas[i].isel(time=slice(1000, None))"
   ]
  },
  {
   "cell_type": "code",
   "execution_count": null,
   "id": "mental-rocket",
   "metadata": {},
   "outputs": [],
   "source": [
    "dataset_h"
   ]
  },
  {
   "cell_type": "code",
   "execution_count": null,
   "id": "protected-herald",
   "metadata": {},
   "outputs": [],
   "source": [
    "import numpy as np\n",
    "import matplotlib\n",
    "var = 'eta'\n",
    "func = 'std'\n",
    "cmaps = dict(mean=cmocean.cm.delta, std=cmocean.cm.matter)\n",
    "args = dict(mean=dict(), std=dict(norm=matplotlib.colors.LogNorm()))\n",
    "vmins=dict(mean=-1.96, std=0.5)\n",
    "vmaxs=dict(mean=1.96, std=3)\n",
    "vmins2=dict(mean=0, std=0.0001)\n",
    "extent = (0, 3840, 0, 3840)"
   ]
  },
  {
   "cell_type": "code",
   "execution_count": null,
   "id": "third-absorption",
   "metadata": {},
   "outputs": [],
   "source": [
    "fig = plt.figure()\n",
    "# Determine limits\n",
    "std_h = getattr(dataset_h[var], func)(dim='time').std()\n",
    "for i in range(3):\n",
    "    plt.subplot(1, 3, i + 1)\n",
    "    if i < 2:\n",
    "        im = plt.imshow(getattr(low_rez_datas[i][var], func)(dim='time'), cmap=cmaps[func], **args[func], \n",
    "                                                          vmin=std_h*vmins[func] + vmins2[func],\n",
    "                                                          vmax=std_h*vmaxs[func], origin='lower',\n",
    "                                                          extent=extent)\n",
    "    else:\n",
    "        im = plt.imshow(getattr(dataset_h[var], func)(dim='time'), cmap=cmaps[func], **args[func],\n",
    "                                              vmin=std_h*vmins[func] + vmins2[func],\n",
    "                                                          vmax=std_h*vmaxs[func], origin='lower',\n",
    "                                                            extent=extent)\n",
    "    if i > 0:\n",
    "        im.axes.set_yticks([])\n",
    "    if i == 0:\n",
    "        im.axes.set_xlabel('km')\n",
    "        im.axes.set_ylabel('km')\n",
    "fig.subplots_adjust(right=0.8)\n",
    "cbar_ax = fig.add_axes([0.85, 0.3, 0.025, 0.4])\n",
    "fig.colorbar(im, cax=cbar_ax, label='m')"
   ]
  },
  {
   "cell_type": "code",
   "execution_count": null,
   "id": "professional-wagon",
   "metadata": {},
   "outputs": [],
   "source": [
    "plt.savefig(var + '_' + func + '_l.jpg', dpi=400)"
   ]
  },
  {
   "cell_type": "code",
   "execution_count": null,
   "id": "cultural-cooperation",
   "metadata": {},
   "outputs": [],
   "source": [
    "plt.figure()\n",
    "getattr(dataset_h[var], func)(dim='time').plot(cmap=cmaps[func], **args[func],\n",
    "                                              vmin=std_h*vmins[func] + vmins2[func],\n",
    "                                                          vmax=std_h*vmaxs[func])\n"
   ]
  },
  {
   "cell_type": "code",
   "execution_count": null,
   "id": "circular-yukon",
   "metadata": {},
   "outputs": [],
   "source": [
    "plt.savefig(var + '_' + func + '_h.jpg', dpi=400)"
   ]
  },
  {
   "cell_type": "code",
   "execution_count": null,
   "id": "infrared-reset",
   "metadata": {},
   "outputs": [],
   "source": [
    "low_rez_datas[0]"
   ]
  },
  {
   "cell_type": "code",
   "execution_count": null,
   "id": "flexible-pierre",
   "metadata": {},
   "outputs": [],
   "source": [
    "plt.figure()\n",
    "colors=['b', 'g', 'r', 'c']\n",
    "for i in range(2):\n",
    "    # low rez\n",
    "    m = low_rez_datas[i]['kE'].mean()\n",
    "    s = low_rez_datas[i]['kE'].std()\n",
    "    low_rez_datas[i]['kE'].plot.hist(bins=np.linspace(0.01, 1, 99), density=True, log=True, histtype='step', color=colors[i], linewidth=2)\n",
    "    plt.axvline(m, color=colors[i], linewidth=3)\n",
    "    plt.axvline(s, color=colors[i], linestyle='--', linewidth=3)\n",
    "# high-rez\n",
    "m = dataset_h['kE'].mean()\n",
    "s = dataset_h['kE'].std()\n",
    "dataset_h['kE'].plot.hist(bins=np.linspace(0.01, 1, 99), density=True, log=True, histtype='step', color='m', linewidth=2)\n",
    "plt.axvline(m, color='m', linewidth=3)\n",
    "plt.axvline(s, color='m', linestyle='--', linewidth=3)"
   ]
  },
  {
   "cell_type": "code",
   "execution_count": null,
   "id": "challenging-valentine",
   "metadata": {},
   "outputs": [],
   "source": [
    "plt.savefig('kE_hist_2.jpg', dpi=400)"
   ]
  },
  {
   "cell_type": "code",
   "execution_count": null,
   "id": "objective-adventure",
   "metadata": {},
   "outputs": [],
   "source": [
    "plt.figure()\n",
    "_ = dataset_h['kE'].plot.hist(bins=np.linspace(0, 1, 100), density=True, log=True)\n",
    "m = dataset_h['kE'].mean()\n",
    "s = dataset_h['kE'].std()\n",
    "plt.axvline(m, color='r')\n",
    "plt.axvline(s, color='g')"
   ]
  },
  {
   "cell_type": "code",
   "execution_count": null,
   "id": "hungarian-chassis",
   "metadata": {},
   "outputs": [],
   "source": [
    "plt.savefig('kE_hist_h.jpg', dpi=400)"
   ]
  },
  {
   "cell_type": "code",
   "execution_count": null,
   "id": "proof-afternoon",
   "metadata": {},
   "outputs": [],
   "source": []
  }
 ],
 "metadata": {
  "kernelspec": {
   "display_name": "Python 3 (ipykernel)",
   "language": "python",
   "name": "python3"
  },
  "language_info": {
   "codemirror_mode": {
    "name": "ipython",
    "version": 3
   },
   "file_extension": ".py",
   "mimetype": "text/x-python",
   "name": "python",
   "nbconvert_exporter": "python",
   "pygments_lexer": "ipython3",
   "version": "3.11.2"
  }
 },
 "nbformat": 4,
 "nbformat_minor": 5
}
