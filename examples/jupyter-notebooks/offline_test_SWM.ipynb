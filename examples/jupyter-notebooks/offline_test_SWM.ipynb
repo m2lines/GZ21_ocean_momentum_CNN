{
 "cells": [
  {
   "cell_type": "code",
   "execution_count": 1,
   "id": "stuffed-ratio",
   "metadata": {},
   "outputs": [
    {
     "name": "stdout",
     "output_type": "stream",
     "text": [
      "To load the net from the paper, use the function load_paper_net().\n",
      "env: MLFLOW_TRACKING_URI=/home/marion/workspace/gz21_ocean_momentum/examples/jupyter-notebooks/../../mlruns\n"
     ]
    }
   ],
   "source": [
    "import mlflow\n",
    "import xarray as xr\n",
    "import matplotlib.pyplot as plt\n",
    "import os,sys\n",
    "sys.path.insert(1, os.path.join(os.getcwd()  , '../../src/gz21_ocean_momentum'))\n",
    "from utils import select_experiment, select_run\n",
    "\n",
    "mlruns_path=os.path.join(os.getcwd(), '../../mlruns')\n",
    "%env MLFLOW_TRACKING_URI $mlruns_path"
   ]
  },
  {
   "cell_type": "code",
   "execution_count": 2,
   "id": "failing-occasion",
   "metadata": {},
   "outputs": [],
   "source": [
    "def load_data_from_run(i_run: int):\n",
    "    run = runs.iloc[i_run]\n",
    "    print(run)\n",
    "    filenames = os.listdir(run['artifact_uri'])\n",
    "    datasets = []\n",
    "    for fn in filenames:\n",
    "        print(f'Loading {fn}')\n",
    "        name = fn.split('_')[0]\n",
    "        datasets.append(xr.open_dataset(os.path.join(run['artifact_uri'], fn)))\n",
    "    return datasets"
   ]
  },
  {
   "cell_type": "code",
   "execution_count": 3,
   "id": "liable-amendment",
   "metadata": {},
   "outputs": [
    {
     "name": "stdout",
     "output_type": "stream",
     "text": [
      "568040818937566888 :  test2\n",
      "302083951441703666 :  testrun\n",
      "0 :  Default\n"
     ]
    },
    {
     "name": "stdin",
     "output_type": "stream",
     "text": [
      "Select the id of an experiment:  568040818937566888\n"
     ]
    }
   ],
   "source": [
    "exp_id, _ = select_experiment(default_selection='22')\n",
    "runs=mlflow.search_runs(experiment_ids=(exp_id,))"
   ]
  },
  {
   "cell_type": "code",
   "execution_count": 4,
   "id": "familiar-lucas",
   "metadata": {},
   "outputs": [
    {
     "name": "stdout",
     "output_type": "stream",
     "text": [
      "run_id                                                 5766a8e8547e4785829b507784493848\n",
      "experiment_id                                                        568040818937566888\n",
      "status                                                                         FINISHED\n",
      "artifact_uri                          file:///home/marion/workspace/gz21_ocean_momen...\n",
      "start_time                                             2023-08-14 14:56:47.615000+00:00\n",
      "end_time                                               2023-08-14 14:59:22.214000+00:00\n",
      "metrics.test loss                                                              -0.90139\n",
      "metrics.R2                                                                     0.447976\n",
      "metrics.train loss                                                            -1.170045\n",
      "metrics.Inf Norm                                                              10.040836\n",
      "params.print_every                                                                   20\n",
      "params.source.experiment_id                                          568040818937566888\n",
      "params.test_split                                                                  0.85\n",
      "params.batchsize                                                                      4\n",
      "params.n_epochs                                                                     200\n",
      "params.run_id                                          2308027e434047899cef078149f98edb\n",
      "params.exp_id                                                        568040818937566888\n",
      "params.weight_decay                                                                0.00\n",
      "params.n_epochs_actual                                                               34\n",
      "params.transformation_cls_name                                        SoftPlusTransform\n",
      "params.model_cls_name                                                          FullyCNN\n",
      "params.submodel                                                              transform3\n",
      "params.source.run_id                                   2308027e434047899cef078149f98edb\n",
      "params.loss_cls_name                                      HeteroskedasticGaussianLossV2\n",
      "params.train_split                                                                  0.8\n",
      "params.features_transform_cls_name                                                 None\n",
      "params.targets_transform_cls_name                                                  None\n",
      "params.learning_rate                                             0/5e-4/15/5e-5/30/5e-6\n",
      "params.model_module_name                                                 models.models1\n",
      "params.time_indices                                                                   0\n",
      "params.long_max                                                                    None\n",
      "params.chunk_size                                                                  None\n",
      "params.lat_min                                                                     None\n",
      "params.global                                                                      None\n",
      "params.lat_max                                                                     None\n",
      "params.ntimes                                                                      None\n",
      "params.long_min                                                                    None\n",
      "params.factor                                                                      None\n",
      "params.CO2                                                                         None\n",
      "tags.mlflow.source.type                                                         PROJECT\n",
      "tags.mlflow.runName                                                amazing-squirrel-195\n",
      "tags.mlflow.project.backend                                                       local\n",
      "tags.mlflow.source.git.repoURL           git@github.com:m2lines/gz21_ocean_momentum.git\n",
      "tags.mlflow.source.git.commit                  f83a5c8f81cea6ffe84f38f12ae31689918b18e6\n",
      "tags.mlflow.gitRepoURL                   git@github.com:m2lines/gz21_ocean_momentum.git\n",
      "tags.mlflow.source.name               file:///home/marion/workspace/gz21_ocean_momentum\n",
      "tags.mlflow.user                                                                 marion\n",
      "tags.mlflow.project.entryPoint                                                    train\n",
      "Name: 0, dtype: object\n"
     ]
    },
    {
     "ename": "FileNotFoundError",
     "evalue": "[Errno 2] No such file or directory: 'file:///home/marion/workspace/gz21_ocean_momentum/mlruns/568040818937566888/5766a8e8547e4785829b507784493848/artifacts'",
     "output_type": "error",
     "traceback": [
      "\u001b[0;31m---------------------------------------------------------------------------\u001b[0m",
      "\u001b[0;31mFileNotFoundError\u001b[0m                         Traceback (most recent call last)",
      "Cell \u001b[0;32mIn[4], line 1\u001b[0m\n\u001b[0;32m----> 1\u001b[0m datasets \u001b[38;5;241m=\u001b[39m \u001b[43mload_data_from_run\u001b[49m\u001b[43m(\u001b[49m\u001b[38;5;241;43m0\u001b[39;49m\u001b[43m)\u001b[49m\n",
      "Cell \u001b[0;32mIn[2], line 4\u001b[0m, in \u001b[0;36mload_data_from_run\u001b[0;34m(i_run)\u001b[0m\n\u001b[1;32m      2\u001b[0m run \u001b[38;5;241m=\u001b[39m runs\u001b[38;5;241m.\u001b[39miloc[i_run]\n\u001b[1;32m      3\u001b[0m \u001b[38;5;28mprint\u001b[39m(run)\n\u001b[0;32m----> 4\u001b[0m filenames \u001b[38;5;241m=\u001b[39m \u001b[43mos\u001b[49m\u001b[38;5;241;43m.\u001b[39;49m\u001b[43mlistdir\u001b[49m\u001b[43m(\u001b[49m\u001b[43mrun\u001b[49m\u001b[43m[\u001b[49m\u001b[38;5;124;43m'\u001b[39;49m\u001b[38;5;124;43martifact_uri\u001b[39;49m\u001b[38;5;124;43m'\u001b[39;49m\u001b[43m]\u001b[49m\u001b[43m)\u001b[49m\n\u001b[1;32m      5\u001b[0m datasets \u001b[38;5;241m=\u001b[39m []\n\u001b[1;32m      6\u001b[0m \u001b[38;5;28;01mfor\u001b[39;00m fn \u001b[38;5;129;01min\u001b[39;00m filenames:\n",
      "\u001b[0;31mFileNotFoundError\u001b[0m: [Errno 2] No such file or directory: 'file:///home/marion/workspace/gz21_ocean_momentum/mlruns/568040818937566888/5766a8e8547e4785829b507784493848/artifacts'"
     ]
    }
   ],
   "source": [
    "datasets = load_data_from_run(0)"
   ]
  },
  {
   "cell_type": "code",
   "execution_count": null,
   "id": "regular-shoot",
   "metadata": {},
   "outputs": [],
   "source": [
    "u = datasets[0]\n",
    "v = datasets[4]\n",
    "eta = datasets[3]\n",
    "u = u.interp(dict(x=eta.x, y=eta.y))\n",
    "v = v.interp(dict(x=eta.x, y=eta.y))"
   ]
  },
  {
   "cell_type": "code",
   "execution_count": null,
   "id": "faced-tiffany",
   "metadata": {},
   "outputs": [],
   "source": [
    "uv_high_rez = xr.merge((u, v)).rename(dict(x='xu_ocean', y='yu_ocean', t='time', u='usurf', v='vsurf'))"
   ]
  },
  {
   "cell_type": "code",
   "execution_count": null,
   "id": "guided-justice",
   "metadata": {},
   "outputs": [],
   "source": [
    "uv_high_rez"
   ]
  },
  {
   "cell_type": "code",
   "execution_count": null,
   "id": "bridal-nurse",
   "metadata": {},
   "outputs": [],
   "source": [
    "from data.coarse import eddy_forcing\n",
    "import numpy as np"
   ]
  },
  {
   "cell_type": "code",
   "execution_count": null,
   "id": "silent-wound",
   "metadata": {},
   "outputs": [],
   "source": [
    "dxu = xr.DataArray(dims=('xu_ocean', 'yu_ocean'), data=np.ones((384, 384)) * 1e4,\n",
    "                  coords=dict(xu_ocean=uv_high_rez.xu_ocean, yu_ocean=uv_high_rez.yu_ocean))\n",
    "dyu = xr.DataArray(dims=('xu_ocean', 'yu_ocean'), data=np.ones((384, 384)) * 1e4,\n",
    "                  coords=dict(xu_ocean=uv_high_rez.xu_ocean, yu_ocean=uv_high_rez.yu_ocean))\n",
    "grid_data = xr.Dataset(dict(dxu=dxu, dyu=dyu))\n",
    "grid_data"
   ]
  },
  {
   "cell_type": "code",
   "execution_count": null,
   "id": "bizarre-beads",
   "metadata": {},
   "outputs": [],
   "source": [
    "uv_high_rez = uv_high_rez.chunk(dict(time=500))"
   ]
  },
  {
   "cell_type": "code",
   "execution_count": null,
   "id": "environmental-chancellor",
   "metadata": {},
   "outputs": [],
   "source": [
    "template=uv_high_rez.coarsen(dict(xu_ocean=4, yu_ocean=4)).mean()\n",
    "template = xr.merge((template, template.rename(dict(usurf='S_x', vsurf='S_y'))))\n",
    "low_rez = xr.map_blocks(lambda x: eddy_forcing(x, grid_data, 4), uv_high_rez,\n",
    "                        template=template)"
   ]
  },
  {
   "cell_type": "code",
   "execution_count": null,
   "id": "connected-night",
   "metadata": {},
   "outputs": [],
   "source": [
    "low_rez.nbytes / 1e9"
   ]
  },
  {
   "cell_type": "code",
   "execution_count": null,
   "id": "conceptual-analysis",
   "metadata": {},
   "outputs": [],
   "source": [
    "from dask.diagnostics import ProgressBar\n",
    "with ProgressBar():\n",
    "    low_rez = low_rez.compute()"
   ]
  },
  {
   "cell_type": "code",
   "execution_count": null,
   "id": "dirty-search",
   "metadata": {},
   "outputs": [],
   "source": [
    "low_rez"
   ]
  },
  {
   "cell_type": "code",
   "execution_count": null,
   "id": "touched-township",
   "metadata": {},
   "outputs": [],
   "source": [
    "%matplotlib notebook\n",
    "low_rez['S_x'].isel(time=1100).plot(vmin=-1e-7, vmax=1e-7, cmap='Spectral')"
   ]
  },
  {
   "cell_type": "code",
   "execution_count": null,
   "id": "productive-duplicate",
   "metadata": {},
   "outputs": [],
   "source": [
    "from models.models1 import FullyCNN\n",
    "net = FullyCNN(padding='same')\n"
   ]
  },
  {
   "cell_type": "code",
   "execution_count": null,
   "id": "collaborative-courage",
   "metadata": {},
   "outputs": [],
   "source": [
    "net"
   ]
  },
  {
   "cell_type": "code",
   "execution_count": null,
   "id": "professional-border",
   "metadata": {},
   "outputs": [],
   "source": [
    "import pickle\n",
    "def pickle_artifact(run_id: str, path: str):\n",
    "    client = mlflow.tracking.MlflowClient()\n",
    "    file = client.download_artifacts(run_id, path)\n",
    "    f = open(file, 'rb')\n",
    "    return pickle.load(f)\n",
    "\n",
    "client = mlflow.tracking.MlflowClient()\n",
    "\n",
    "models_experiment_id, _ = select_experiment()\n",
    "cols = ['metrics.test loss', 'start_time', 'params.time_indices',\n",
    "        'params.model_cls_name', 'params.source.run_id', 'params.submodel']\n",
    "model_run = select_run(sort_by='start_time', cols=cols,\n",
    "                       experiment_ids=[models_experiment_id, ])\n",
    "model_file = client.download_artifacts(model_run.run_id,\n",
    "                                       'models/trained_model.pth')\n",
    "transformation = pickle_artifact(model_run.run_id, 'models/transformation')\n",
    "net.final_transformation = transformation"
   ]
  },
  {
   "cell_type": "code",
   "execution_count": null,
   "id": "promotional-marina",
   "metadata": {},
   "outputs": [],
   "source": [
    "import torch\n",
    "net.load_state_dict(torch.load(model_file))"
   ]
  },
  {
   "cell_type": "code",
   "execution_count": null,
   "id": "1d8160ec",
   "metadata": {},
   "outputs": [],
   "source": [
    "net"
   ]
  },
  {
   "cell_type": "code",
   "execution_count": null,
   "id": "42a3d6b4",
   "metadata": {},
   "outputs": [],
   "source": [
    "device = torch.device('cuda')\n",
    "from train.losses import HeteroskedasticGaussianLossV2"
   ]
  },
  {
   "cell_type": "code",
   "execution_count": null,
   "id": "526661e0",
   "metadata": {},
   "outputs": [],
   "source": [
    "criterion = HeteroskedasticGaussianLossV2(n_target_channels=2)"
   ]
  },
  {
   "cell_type": "code",
   "execution_count": null,
   "id": "e085b11a",
   "metadata": {},
   "outputs": [],
   "source": [
    "from testing.utils import create_large_test_dataset\n",
    "from torch.utils.data import DataLoader"
   ]
  },
  {
   "cell_type": "code",
   "execution_count": null,
   "id": "e44383d6",
   "metadata": {},
   "outputs": [],
   "source": [
    "from data.datasets import (RawDataFromXrDataset, DatasetTransformer,\n",
    "                           Subset_, DatasetWithTransform, ComposeTransforms,\n",
    "                           MultipleTimeIndices, DatasetPartitioner)\n",
    "dataset = RawDataFromXrDataset(low_rez * 10.)\n",
    "dataset.index = 'time'\n",
    "dataset.add_input('usurf')\n",
    "dataset.add_input('vsurf')\n",
    "dataset.add_output('S_x')\n",
    "dataset.add_output('S_y')\n",
    "features_transform_ = ComposeTransforms()\n",
    "targets_transform_ = ComposeTransforms()\n",
    "transform = DatasetTransformer(features_transform_, targets_transform_)\n",
    "transform.fit(dataset)\n",
    "dataset = DatasetWithTransform(dataset, transform)\n",
    "test = create_large_test_dataset(net.to(device=device), criterion, [dataset, ], [DataLoader(dataset)], device)\n",
    "test = test.rename(dict(longitude='xu_ocean', latitude='yu_ocean'))"
   ]
  },
  {
   "cell_type": "code",
   "execution_count": null,
   "id": "77060b45",
   "metadata": {},
   "outputs": [],
   "source": [
    "with ProgressBar():\n",
    "    test = test.compute()"
   ]
  },
  {
   "cell_type": "code",
   "execution_count": null,
   "id": "1a4af135",
   "metadata": {},
   "outputs": [],
   "source": [
    "test"
   ]
  },
  {
   "cell_type": "code",
   "execution_count": null,
   "id": "57a5d22f",
   "metadata": {},
   "outputs": [],
   "source": [
    "plt.figure()\n",
    "test.isel(time=1000)['S_x'].plot(vmin=-1, vmax=1, cmap='Spectral')"
   ]
  },
  {
   "cell_type": "code",
   "execution_count": null,
   "id": "8128779d",
   "metadata": {},
   "outputs": [],
   "source": [
    "plt.figure()\n",
    "(low_rez.isel(time=1000)['S_x']*1e7).plot(vmin=-1, vmax=1, cmap='Spectral')"
   ]
  },
  {
   "cell_type": "code",
   "execution_count": null,
   "id": "455a4f4e",
   "metadata": {},
   "outputs": [],
   "source": [
    "from scipy.stats import norm\n",
    "plt.figure()\n",
    "((low_rez['S_x']*1e7 - test['S_x'])\n",
    " * (test['S_xscale'])).plot.hist(bins=np.linspace(-4, 4, 100), density=True)\n",
    "plt.plot(np.linspace(-4, 4, 100), norm.pdf(np.linspace(-4, 4, 100)))"
   ]
  },
  {
   "cell_type": "code",
   "execution_count": null,
   "id": "2beae728",
   "metadata": {},
   "outputs": [],
   "source": [
    "plt.figure()\n",
    "for i, var in enumerate(['S_x', 'S_y']):\n",
    "    residuals_t = ((low_rez[var]*1e7 - test[var]) * (test[f'{var}scale']))\n",
    "    quantiles = np.linspace(0., 1., 100)\n",
    "    norm_quantiles = norm.ppf(quantiles)\n",
    "    obs_quantiles = np.nanquantile(residuals_t.values[::20, ::, ::], quantiles)\n",
    "    plt.subplot(1, 2, i + 1)\n",
    "    plt.plot(norm_quantiles, norm_quantiles, 'gray')\n",
    "    plt.plot(norm_quantiles, obs_quantiles, 'k*')\n",
    "    plt.ylim(-4, 4)\n",
    "    plt.yticks(np.arange(-4, 5, 2))"
   ]
  },
  {
   "cell_type": "code",
   "execution_count": null,
   "id": "c81c6468",
   "metadata": {},
   "outputs": [],
   "source": [
    "plt.savefig('offline_test_swm1.jpg', dpi=400)"
   ]
  },
  {
   "cell_type": "code",
   "execution_count": null,
   "id": "726af67d",
   "metadata": {},
   "outputs": [],
   "source": [
    "mse = dict()\n",
    "variance = dict()\n",
    "r_squared = dict()\n",
    "correlation = dict()\n",
    "for var in ['S_x', 'S_y']:\n",
    "    mse[var] = ((test[var] - low_rez[var]*1e7)**2).mean(dim='time')\n",
    "    variance[var] = ((low_rez[var]*1e7)**2).mean(dim='time')\n",
    "    r_squared[var] = 1 - mse[var] / variance[var]\n",
    "    correlation[var] = xr.corr(test[var], low_rez[var]*1e7, dim='time')"
   ]
  },
  {
   "cell_type": "code",
   "execution_count": null,
   "id": "814ef9b9",
   "metadata": {},
   "outputs": [],
   "source": [
    "from matplotlib.patches import Arrow, Circle\n",
    "fig = plt.figure()\n",
    "extent = (0, 3840, 0, 3840)\n",
    "for i, var in enumerate(['S_x', 'S_y']):\n",
    "    plt.subplot(1, 2, i + 1)\n",
    "    im = plt.imshow(r_squared[var].values, vmin=0.75, vmax=1, cmap='inferno',\n",
    "                   origin='lower', extent=extent)\n",
    "    im.axes.set_xticks([2000])\n",
    "    if i > 0:\n",
    "        im.axes.set_yticks([])\n",
    "    else:\n",
    "        im.axes.set_yticks([0, 1000, 2000, 3000])\n",
    "    im.axes.set_xticks([0, 2000])\n",
    "    if i == 0:\n",
    "        im.axes.set_xlabel('km')\n",
    "        im.axes.set_ylabel('km')\n",
    "        patches = [Circle((25*40, 47*40), radius=2*40, color='white'),\n",
    "                   Circle((80*40, 47*40), radius=2*40, color='green')]\n",
    "        for patch in patches:\n",
    "            im.axes.add_patch(patch)\n",
    "\n",
    "fig.subplots_adjust(right=0.8)\n",
    "cbar_ax = fig.add_axes([0.85, 0.3, 0.025, 0.4])\n",
    "cbar = fig.colorbar(im, cax=cbar_ax, label=r'$R^2$', ticks=[0.8, 0.9, 1])"
   ]
  },
  {
   "cell_type": "code",
   "execution_count": null,
   "id": "a9a037cd",
   "metadata": {},
   "outputs": [],
   "source": [
    "plt.savefig('offline_test_swm2.jpg', dpi=400)"
   ]
  },
  {
   "cell_type": "code",
   "execution_count": null,
   "id": "247017ff",
   "metadata": {},
   "outputs": [],
   "source": [
    "%matplotlib notebook\n",
    "x = 80\n",
    "y = 47\n",
    "print(x, ' ', y)\n",
    "plt.figure()\n",
    "for i, var in enumerate(['S_x', 'S_y']):\n",
    "    ax = plt.subplot(2, 1, i + 1)\n",
    "    plt.plot(low_rez[var].isel(xu_ocean=x, yu_ocean=y, time=slice(2000, 2100))*1e7)\n",
    "    plt.plot(test[var].isel(xu_ocean=x, yu_ocean=y, time=slice(2000, 2100)))\n",
    "    ub = (test[var].isel(xu_ocean=x, yu_ocean=y, time=slice(2000, 2100))\n",
    "          + 1.96 / test[f'{var}scale'].isel(xu_ocean=x, yu_ocean=y, time=slice(2000, 2100)))\n",
    "    lb = (test[var].isel(xu_ocean=x, yu_ocean=y, time=slice(2000, 2100))\n",
    "          - 1.96 / test[f'{var}scale'].isel(xu_ocean=x, yu_ocean=y, time=slice(2000, 2100)))\n",
    "    plt.plot(ub, '--g')\n",
    "    plt.plot(lb, '--g')\n",
    "    if i == 0:\n",
    "        ax.set_xticks([])\n",
    "    if i == 1:\n",
    "        plt.xlabel('time (days)')\n",
    "    plt.ylabel(fr'${var}$' + '  ' +  r'$(1e^{-7}ms^{-2}$)')"
   ]
  },
  {
   "cell_type": "code",
   "execution_count": null,
   "id": "a7ef7c04",
   "metadata": {},
   "outputs": [],
   "source": [
    "plt.savefig(f\"offline_test_swm3x={x}-y={y}.jpg\", dpi=400)"
   ]
  },
  {
   "cell_type": "code",
   "execution_count": null,
   "id": "799ebfff",
   "metadata": {},
   "outputs": [],
   "source": [
    "plt.figure()\n",
    "#((low_rez['S_y']*1e7 - test['S_y']).median(dim='time') ).plot()\n",
    "#residuals_t.median(dim='time').plot(vmin=0, vmax=1)\n",
    "(abs(((low_rez['S_x']*1e7 - test['S_x'])).mean(dim='time') / (low_rez['S_x']*1e7).std(dim='time'))).plot(vmin=0, vmax=0.5)"
   ]
  },
  {
   "cell_type": "code",
   "execution_count": null,
   "id": "ec6142db",
   "metadata": {},
   "outputs": [],
   "source": [
    "plt.figure()\n",
    "(np.log((low_rez['S_y']*1e7).std(dim='time'))).plot(vmin=-5, vmax=5)"
   ]
  },
  {
   "cell_type": "code",
   "execution_count": null,
   "id": "9af9ef66",
   "metadata": {},
   "outputs": [],
   "source": [
    "low_rez['S_y'].isel(xu_ocean=slice(45, None)).std()"
   ]
  },
  {
   "cell_type": "code",
   "execution_count": null,
   "id": "dc11c56d",
   "metadata": {},
   "outputs": [],
   "source": []
  }
 ],
 "metadata": {
  "kernelspec": {
   "display_name": "Python 3 (ipykernel)",
   "language": "python",
   "name": "python3"
  },
  "language_info": {
   "codemirror_mode": {
    "name": "ipython",
    "version": 3
   },
   "file_extension": ".py",
   "mimetype": "text/x-python",
   "name": "python",
   "nbconvert_exporter": "python",
   "pygments_lexer": "ipython3",
   "version": "3.11.4"
  }
 },
 "nbformat": 4,
 "nbformat_minor": 5
}
