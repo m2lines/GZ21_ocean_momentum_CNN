{
 "cells": [
  {
   "cell_type": "markdown",
   "metadata": {},
   "source": [
    "# Test on Global scale (Code to generate figures 3, 4, 6, 7)"
   ]
  },
  {
   "cell_type": "markdown",
   "metadata": {},
   "source": [
    "## Dependencies\n",
    "* `ipympl` (`pip install ipympl`)\n",
    "* `cmocean` (`pip install cmocean`)\n"
   ]
  },
  {
   "cell_type": "markdown",
   "metadata": {},
   "source": [
    "Note that this notebook is intended to be run with both the \"control\" CM2.6 simulation run dataset, and the 1% annual CO2 increase one.　To produce the paper figures:\n",
    "\n",
    "* run the data step to generate two sets of training data, one with `--co2-increase` (1ptCO2) and one without (control)\n",
    "* train your model with the control dataset\n",
    "* for each set of training data, predict with your trained model. The predictions should override the forcings we calculated (clumsy, but it's fine).\n",
    "* load the two training data and prediction pairs in this notebook, making edits to the configuration part below as required"
   ]
  },
  {
   "cell_type": "markdown",
   "metadata": {},
   "source": [
    "## To-dos\n",
    "* Clean up grid data downloading -- should be a utility in our library for this."
   ]
  },
  {
   "cell_type": "markdown",
   "metadata": {},
   "source": [
    "## Configuration"
   ]
  },
  {
   "cell_type": "code",
   "execution_count": 1,
   "metadata": {},
   "outputs": [],
   "source": [
    "# Descriptive name for the CM2.6 data set being used in this notebook execution.\n",
    "# This is used to create file names for exporting figures.\n",
    "# For example, you may use `control` and `1pct`.\n",
    "cm26_sim_run = \"unspecified\"\n",
    "\n",
    "# path to zarr (folder) holding the computed forcings output from a data step invocation\n",
    "forcings_computed_path = \"~/sh/gz21/gz21/tmp/generated/forcings/paper-n100\"\n",
    "\n",
    "# path to zarr (folder) holding the predicted forcings output from an inference step invocation\n",
    "forcings_predicted_path = \"~/sh/gz21/gz21/tmp/generated/forcings/paper-n100\""
   ]
  },
  {
   "cell_type": "code",
   "execution_count": 2,
   "metadata": {},
   "outputs": [],
   "source": [
    "#%matplotlib notebook  #This option does not work in Jupyterlab\n",
    "%matplotlib widget\n",
    "\n",
    "# See https://github.com/m2lines/gz21_ocean_momentum/blob/main/docs/data.md for an explanation\n",
    "# The environment variable does not need setting if you place the credentials file at ~/.config/gcloud/application_default_credentials.json .\n",
    "# %env GOOGLE_APPLICATION_CREDENTIALS /home/marion/.config/gcloud/application_default_credentials.json"
   ]
  },
  {
   "cell_type": "code",
   "execution_count": 3,
   "metadata": {},
   "outputs": [
    {
     "name": "stdout",
     "output_type": "stream",
     "text": [
      "To load the net from the paper, use the function load_paper_net().\n"
     ]
    }
   ],
   "source": [
    "import xarray as xr\n",
    "import numpy as np\n",
    "import dask.array as da\n",
    "import matplotlib\n",
    "import matplotlib.pyplot as plt\n",
    "from gz21_ocean_momentum.utils import select_experiment, select_run\n",
    "from gz21_ocean_momentum.analysis.utils import (plot_dataset, GlobalPlotter, anomalies,\n",
    "                            download_data_pred, plot_time_series, apply_complete_mask)\n",
    "from gz21_ocean_momentum.data.pangeo_catalog import get_whole_data\n",
    "from gz21_ocean_momentum.data.xrtransforms import SeasonalStdizer, TargetedTransform, ScalingTransform\n",
    "from dask.diagnostics import ProgressBar\n",
    "from models.submodels import transform3\n",
    "\n",
    "import cartopy.crs as ccrs\n",
    "import cmocean"
   ]
  },
  {
   "cell_type": "code",
   "execution_count": 4,
   "metadata": {},
   "outputs": [],
   "source": [
    "# Setup the plotter\n",
    "plt.rcParams[\"figure.figsize\"] = (4, 4 / 1.618)\n",
    "\n",
    "import gz21_ocean_momentum.analysis as analysis\n",
    "GlobalPlotter = analysis.utils.GlobalPlotter\n",
    "uv_plotter = GlobalPlotter()"
   ]
  },
  {
   "cell_type": "code",
   "execution_count": 5,
   "metadata": {},
   "outputs": [],
   "source": [
    "old_plot = GlobalPlotter.plot\n",
    "\n",
    "def new_plot_func(self, name: str, *args, **kargs):\n",
    "    data = xr.Dataset({name: args[0]})\n",
    "    old_plot(self, *args, **kargs)"
   ]
  },
  {
   "cell_type": "markdown",
   "metadata": {},
   "source": [
    "This downloads some information about the grid, used later on"
   ]
  },
  {
   "cell_type": "code",
   "execution_count": 6,
   "metadata": {},
   "outputs": [],
   "source": [
    "CATALOG_URL = 'https://raw.githubusercontent.com/pangeo-data/pangeo-datastore\\\n",
    "/master/intake-catalogs/master.yaml'\n",
    "data = get_whole_data(CATALOG_URL, 0)\n",
    "grid_info = data[1]"
   ]
  },
  {
   "cell_type": "code",
   "execution_count": 11,
   "metadata": {},
   "outputs": [
    {
     "ename": "KeyError",
     "evalue": "'S_xscale'",
     "output_type": "error",
     "traceback": [
      "\u001b[0;31m---------------------------------------------------------------------------\u001b[0m",
      "\u001b[0;31mKeyError\u001b[0m                                  Traceback (most recent call last)",
      "\u001b[0;32m~/proj/work/2020-ukc-camfort-iccs/iccs/proj/gz21/gz21/venv/lib/python3.11/site-packages/xarray/core/dataset.py\u001b[0m in \u001b[0;36m?\u001b[0;34m(self, name)\u001b[0m\n\u001b[1;32m   1446\u001b[0m             \u001b[0mvariable\u001b[0m \u001b[0;34m=\u001b[0m \u001b[0mself\u001b[0m\u001b[0;34m.\u001b[0m\u001b[0m_variables\u001b[0m\u001b[0;34m[\u001b[0m\u001b[0mname\u001b[0m\u001b[0;34m]\u001b[0m\u001b[0;34m\u001b[0m\u001b[0;34m\u001b[0m\u001b[0m\n\u001b[1;32m   1447\u001b[0m         \u001b[0;32mexcept\u001b[0m \u001b[0mKeyError\u001b[0m\u001b[0;34m:\u001b[0m\u001b[0;34m\u001b[0m\u001b[0;34m\u001b[0m\u001b[0m\n\u001b[0;32m-> 1448\u001b[0;31m             \u001b[0m_\u001b[0m\u001b[0;34m,\u001b[0m \u001b[0mname\u001b[0m\u001b[0;34m,\u001b[0m \u001b[0mvariable\u001b[0m \u001b[0;34m=\u001b[0m \u001b[0m_get_virtual_variable\u001b[0m\u001b[0;34m(\u001b[0m\u001b[0mself\u001b[0m\u001b[0;34m.\u001b[0m\u001b[0m_variables\u001b[0m\u001b[0;34m,\u001b[0m \u001b[0mname\u001b[0m\u001b[0;34m,\u001b[0m \u001b[0mself\u001b[0m\u001b[0;34m.\u001b[0m\u001b[0mdims\u001b[0m\u001b[0;34m)\u001b[0m\u001b[0;34m\u001b[0m\u001b[0;34m\u001b[0m\u001b[0m\n\u001b[0m\u001b[1;32m   1449\u001b[0m \u001b[0;34m\u001b[0m\u001b[0m\n",
      "\u001b[0;31mKeyError\u001b[0m: 'S_xscale'",
      "\nDuring handling of the above exception, another exception occurred:\n",
      "\u001b[0;31mKeyError\u001b[0m                                  Traceback (most recent call last)",
      "\u001b[0;32m/tmp/nix-shell.ifovvA/ipykernel_153458/2186194141.py\u001b[0m in \u001b[0;36m?\u001b[0;34m()\u001b[0m\n\u001b[1;32m     10\u001b[0m \u001b[0;31m# various transforms\u001b[0m\u001b[0;34m\u001b[0m\u001b[0;34m\u001b[0m\u001b[0m\n\u001b[1;32m     11\u001b[0m \u001b[0;32mif\u001b[0m \u001b[0;34m\"S_xpred\"\u001b[0m \u001b[0;32min\u001b[0m \u001b[0mpred\u001b[0m\u001b[0;34m.\u001b[0m\u001b[0mkeys\u001b[0m\u001b[0;34m(\u001b[0m\u001b[0;34m)\u001b[0m\u001b[0;34m:\u001b[0m\u001b[0;34m\u001b[0m\u001b[0;34m\u001b[0m\u001b[0m\n\u001b[1;32m     12\u001b[0m     \u001b[0;31m# \"for compatibility with old version\"\u001b[0m\u001b[0;34m\u001b[0m\u001b[0;34m\u001b[0m\u001b[0m\n\u001b[1;32m     13\u001b[0m     \u001b[0mpred\u001b[0m \u001b[0;34m=\u001b[0m \u001b[0mpred\u001b[0m\u001b[0;34m.\u001b[0m\u001b[0mrename\u001b[0m\u001b[0;34m(\u001b[0m\u001b[0mS_xpred\u001b[0m\u001b[0;34m=\u001b[0m\u001b[0;34m\"S_x\"\u001b[0m\u001b[0;34m,\u001b[0m \u001b[0mS_ypred\u001b[0m\u001b[0;34m=\u001b[0m\u001b[0;34m\"S_y\"\u001b[0m\u001b[0;34m)\u001b[0m\u001b[0;34m\u001b[0m\u001b[0;34m\u001b[0m\u001b[0m\n\u001b[0;32m---> 14\u001b[0;31m \u001b[0mpred\u001b[0m\u001b[0;34m[\u001b[0m\u001b[0;34m\"S_xscale\"\u001b[0m\u001b[0;34m]\u001b[0m \u001b[0;34m=\u001b[0m \u001b[0;36m1\u001b[0m \u001b[0;34m/\u001b[0m \u001b[0mpred\u001b[0m\u001b[0;34m[\u001b[0m\u001b[0;34m\"S_xscale\"\u001b[0m\u001b[0;34m]\u001b[0m\u001b[0;34m\u001b[0m\u001b[0;34m\u001b[0m\u001b[0m\n\u001b[0m\u001b[1;32m     15\u001b[0m \u001b[0mpred\u001b[0m\u001b[0;34m[\u001b[0m\u001b[0;34m\"S_yscale\"\u001b[0m\u001b[0;34m]\u001b[0m \u001b[0;34m=\u001b[0m \u001b[0;36m1\u001b[0m \u001b[0;34m/\u001b[0m \u001b[0mpred\u001b[0m\u001b[0;34m[\u001b[0m\u001b[0;34m\"S_yscale\"\u001b[0m\u001b[0;34m]\u001b[0m\u001b[0;34m\u001b[0m\u001b[0;34m\u001b[0m\u001b[0m\n",
      "\u001b[0;32m~/proj/work/2020-ukc-camfort-iccs/iccs/proj/gz21/gz21/venv/lib/python3.11/site-packages/xarray/core/dataset.py\u001b[0m in \u001b[0;36m?\u001b[0;34m(self, key)\u001b[0m\n\u001b[1;32m   1540\u001b[0m         \"\"\"\n\u001b[1;32m   1541\u001b[0m         \u001b[0;32mif\u001b[0m \u001b[0mutils\u001b[0m\u001b[0;34m.\u001b[0m\u001b[0mis_dict_like\u001b[0m\u001b[0;34m(\u001b[0m\u001b[0mkey\u001b[0m\u001b[0;34m)\u001b[0m\u001b[0;34m:\u001b[0m\u001b[0;34m\u001b[0m\u001b[0;34m\u001b[0m\u001b[0m\n\u001b[1;32m   1542\u001b[0m             \u001b[0;32mreturn\u001b[0m \u001b[0mself\u001b[0m\u001b[0;34m.\u001b[0m\u001b[0misel\u001b[0m\u001b[0;34m(\u001b[0m\u001b[0;34m**\u001b[0m\u001b[0mkey\u001b[0m\u001b[0;34m)\u001b[0m\u001b[0;34m\u001b[0m\u001b[0;34m\u001b[0m\u001b[0m\n\u001b[1;32m   1543\u001b[0m         \u001b[0;32mif\u001b[0m \u001b[0mutils\u001b[0m\u001b[0;34m.\u001b[0m\u001b[0mhashable\u001b[0m\u001b[0;34m(\u001b[0m\u001b[0mkey\u001b[0m\u001b[0;34m)\u001b[0m\u001b[0;34m:\u001b[0m\u001b[0;34m\u001b[0m\u001b[0;34m\u001b[0m\u001b[0m\n\u001b[0;32m-> 1544\u001b[0;31m             \u001b[0;32mreturn\u001b[0m \u001b[0mself\u001b[0m\u001b[0;34m.\u001b[0m\u001b[0m_construct_dataarray\u001b[0m\u001b[0;34m(\u001b[0m\u001b[0mkey\u001b[0m\u001b[0;34m)\u001b[0m\u001b[0;34m\u001b[0m\u001b[0;34m\u001b[0m\u001b[0m\n\u001b[0m\u001b[1;32m   1545\u001b[0m         \u001b[0;32mif\u001b[0m \u001b[0mutils\u001b[0m\u001b[0;34m.\u001b[0m\u001b[0miterable_of_hashable\u001b[0m\u001b[0;34m(\u001b[0m\u001b[0mkey\u001b[0m\u001b[0;34m)\u001b[0m\u001b[0;34m:\u001b[0m\u001b[0;34m\u001b[0m\u001b[0;34m\u001b[0m\u001b[0m\n\u001b[1;32m   1546\u001b[0m             \u001b[0;32mreturn\u001b[0m \u001b[0mself\u001b[0m\u001b[0;34m.\u001b[0m\u001b[0m_copy_listed\u001b[0m\u001b[0;34m(\u001b[0m\u001b[0mkey\u001b[0m\u001b[0;34m)\u001b[0m\u001b[0;34m\u001b[0m\u001b[0;34m\u001b[0m\u001b[0m\n\u001b[1;32m   1547\u001b[0m         \u001b[0;32mraise\u001b[0m \u001b[0mValueError\u001b[0m\u001b[0;34m(\u001b[0m\u001b[0;34mf\"Unsupported key-type {type(key)}\"\u001b[0m\u001b[0;34m)\u001b[0m\u001b[0;34m\u001b[0m\u001b[0;34m\u001b[0m\u001b[0m\n",
      "\u001b[0;32m~/proj/work/2020-ukc-camfort-iccs/iccs/proj/gz21/gz21/venv/lib/python3.11/site-packages/xarray/core/dataset.py\u001b[0m in \u001b[0;36m?\u001b[0;34m(self, name)\u001b[0m\n\u001b[1;32m   1444\u001b[0m \u001b[0;34m\u001b[0m\u001b[0m\n\u001b[1;32m   1445\u001b[0m         \u001b[0;32mtry\u001b[0m\u001b[0;34m:\u001b[0m\u001b[0;34m\u001b[0m\u001b[0;34m\u001b[0m\u001b[0m\n\u001b[1;32m   1446\u001b[0m             \u001b[0mvariable\u001b[0m \u001b[0;34m=\u001b[0m \u001b[0mself\u001b[0m\u001b[0;34m.\u001b[0m\u001b[0m_variables\u001b[0m\u001b[0;34m[\u001b[0m\u001b[0mname\u001b[0m\u001b[0;34m]\u001b[0m\u001b[0;34m\u001b[0m\u001b[0;34m\u001b[0m\u001b[0m\n\u001b[1;32m   1447\u001b[0m         \u001b[0;32mexcept\u001b[0m \u001b[0mKeyError\u001b[0m\u001b[0;34m:\u001b[0m\u001b[0;34m\u001b[0m\u001b[0;34m\u001b[0m\u001b[0m\n\u001b[0;32m-> 1448\u001b[0;31m             \u001b[0m_\u001b[0m\u001b[0;34m,\u001b[0m \u001b[0mname\u001b[0m\u001b[0;34m,\u001b[0m \u001b[0mvariable\u001b[0m \u001b[0;34m=\u001b[0m \u001b[0m_get_virtual_variable\u001b[0m\u001b[0;34m(\u001b[0m\u001b[0mself\u001b[0m\u001b[0;34m.\u001b[0m\u001b[0m_variables\u001b[0m\u001b[0;34m,\u001b[0m \u001b[0mname\u001b[0m\u001b[0;34m,\u001b[0m \u001b[0mself\u001b[0m\u001b[0;34m.\u001b[0m\u001b[0mdims\u001b[0m\u001b[0;34m)\u001b[0m\u001b[0;34m\u001b[0m\u001b[0;34m\u001b[0m\u001b[0m\n\u001b[0m\u001b[1;32m   1449\u001b[0m \u001b[0;34m\u001b[0m\u001b[0m\n\u001b[1;32m   1450\u001b[0m         \u001b[0mneeded_dims\u001b[0m \u001b[0;34m=\u001b[0m \u001b[0mset\u001b[0m\u001b[0;34m(\u001b[0m\u001b[0mvariable\u001b[0m\u001b[0;34m.\u001b[0m\u001b[0mdims\u001b[0m\u001b[0;34m)\u001b[0m\u001b[0;34m\u001b[0m\u001b[0;34m\u001b[0m\u001b[0m\n\u001b[1;32m   1451\u001b[0m \u001b[0;34m\u001b[0m\u001b[0m\n",
      "\u001b[0;32m~/proj/work/2020-ukc-camfort-iccs/iccs/proj/gz21/gz21/venv/lib/python3.11/site-packages/xarray/core/dataset.py\u001b[0m in \u001b[0;36m?\u001b[0;34m(variables, key, dim_sizes)\u001b[0m\n\u001b[1;32m    210\u001b[0m         \u001b[0;32mraise\u001b[0m \u001b[0mKeyError\u001b[0m\u001b[0;34m(\u001b[0m\u001b[0mkey\u001b[0m\u001b[0;34m)\u001b[0m\u001b[0;34m\u001b[0m\u001b[0;34m\u001b[0m\u001b[0m\n\u001b[1;32m    211\u001b[0m \u001b[0;34m\u001b[0m\u001b[0m\n\u001b[1;32m    212\u001b[0m     \u001b[0msplit_key\u001b[0m \u001b[0;34m=\u001b[0m \u001b[0mkey\u001b[0m\u001b[0;34m.\u001b[0m\u001b[0msplit\u001b[0m\u001b[0;34m(\u001b[0m\u001b[0;34m\".\"\u001b[0m\u001b[0;34m,\u001b[0m \u001b[0;36m1\u001b[0m\u001b[0;34m)\u001b[0m\u001b[0;34m\u001b[0m\u001b[0;34m\u001b[0m\u001b[0m\n\u001b[1;32m    213\u001b[0m     \u001b[0;32mif\u001b[0m \u001b[0mlen\u001b[0m\u001b[0;34m(\u001b[0m\u001b[0msplit_key\u001b[0m\u001b[0;34m)\u001b[0m \u001b[0;34m!=\u001b[0m \u001b[0;36m2\u001b[0m\u001b[0;34m:\u001b[0m\u001b[0;34m\u001b[0m\u001b[0;34m\u001b[0m\u001b[0m\n\u001b[0;32m--> 214\u001b[0;31m         \u001b[0;32mraise\u001b[0m \u001b[0mKeyError\u001b[0m\u001b[0;34m(\u001b[0m\u001b[0mkey\u001b[0m\u001b[0;34m)\u001b[0m\u001b[0;34m\u001b[0m\u001b[0;34m\u001b[0m\u001b[0m\n\u001b[0m\u001b[1;32m    215\u001b[0m \u001b[0;34m\u001b[0m\u001b[0m\n\u001b[1;32m    216\u001b[0m     \u001b[0mref_name\u001b[0m\u001b[0;34m,\u001b[0m \u001b[0mvar_name\u001b[0m \u001b[0;34m=\u001b[0m \u001b[0msplit_key\u001b[0m\u001b[0;34m\u001b[0m\u001b[0;34m\u001b[0m\u001b[0m\n\u001b[1;32m    217\u001b[0m     \u001b[0mref_var\u001b[0m \u001b[0;34m=\u001b[0m \u001b[0mvariables\u001b[0m\u001b[0;34m[\u001b[0m\u001b[0mref_name\u001b[0m\u001b[0;34m]\u001b[0m\u001b[0;34m\u001b[0m\u001b[0;34m\u001b[0m\u001b[0m\n",
      "\u001b[0;31mKeyError\u001b[0m: 'S_xscale'"
     ]
    }
   ],
   "source": [
    "data = xr.open_zarr(forcings_computed_path)\n",
    "\n",
    "# various transforms\n",
    "data = data.rename(xu_ocean=\"longitude\", yu_ocean=\"latitude\")\n",
    "data[\"S_x\"] = data[\"S_x\"] * 1e7\n",
    "data[\"S_y\"] = data[\"S_y\"] * 1e7\n",
    "\n",
    "pred = xr.open_zarr(forcings_predicted_path)\n",
    "\n",
    "# various transforms\n",
    "if \"S_xpred\" in pred.keys():\n",
    "    # \"for compatibility with old version\"\n",
    "    pred = pred.rename(S_xpred=\"S_x\", S_ypred=\"S_y\")\n",
    "pred[\"S_xscale\"] = 1 / pred[\"S_xscale\"]\n",
    "pred[\"S_yscale\"] = 1 / pred[\"S_yscale\"]"
   ]
  },
  {
   "cell_type": "code",
   "execution_count": 8,
   "metadata": {},
   "outputs": [
    {
     "data": {
      "text/html": [
       "<h2>Menu</h2><a href=\"#MSE-and-R²\">MSE and R²</a> &nbsp;<a href=\"#Correlation-between-true-forcing-and-mean-component-of-the-prediction\"> Correlation</a> &nbsp;<a href=\"#Variance-of-norm-of-subgrid-momentum-forcing\">Variance of forcing</a> &nbsp;<a href=\"#Compare-distributions-of-true-and-stochastic-simulated-forcing\">Comparison of distributions</a> &nbsp;<a href=\"#QQ-plot\">QQ-plot</a> &nbsp;<a href=\"#Bias-analysis\">Bias analysis</a> &nbsp;<a href=\"#Time-series-plots\">Time series plots</a>"
      ],
      "text/plain": [
       "<IPython.core.display.HTML object>"
      ]
     },
     "execution_count": 8,
     "metadata": {},
     "output_type": "execute_result"
    }
   ],
   "source": [
    "# generate a nice little in-line menu for navigating through the rest of this notebook\n",
    "from IPython.core.display import HTML\n",
    "html = '<h2>Menu</h2>'\n",
    "html += '<a href=\"#MSE-and-R²\">MSE and R²</a> &nbsp;'\n",
    "html += '<a href=\"#Correlation-between-true-forcing-and-mean-component-of-the-prediction\"> Correlation</a> &nbsp;'\n",
    "html += '<a href=\"#Variance-of-norm-of-subgrid-momentum-forcing\">Variance of forcing</a> &nbsp;'\n",
    "html += '<a href=\"#Compare-distributions-of-true-and-stochastic-simulated-forcing\">Comparison of distributions</a> &nbsp;'\n",
    "html += '<a href=\"#QQ-plot\">QQ-plot</a> &nbsp;'\n",
    "html += '<a href=\"#Bias-analysis\">Bias analysis</a> &nbsp;'\n",
    "html += '<a href=\"#Time-series-plots\">Time series plots</a>'\n",
    "HTML(html)"
   ]
  },
  {
   "cell_type": "code",
   "execution_count": 9,
   "metadata": {},
   "outputs": [
    {
     "data": {
      "text/html": [
       "<div><svg style=\"position: absolute; width: 0; height: 0; overflow: hidden\">\n",
       "<defs>\n",
       "<symbol id=\"icon-database\" viewBox=\"0 0 32 32\">\n",
       "<path d=\"M16 0c-8.837 0-16 2.239-16 5v4c0 2.761 7.163 5 16 5s16-2.239 16-5v-4c0-2.761-7.163-5-16-5z\"></path>\n",
       "<path d=\"M16 17c-8.837 0-16-2.239-16-5v6c0 2.761 7.163 5 16 5s16-2.239 16-5v-6c0 2.761-7.163 5-16 5z\"></path>\n",
       "<path d=\"M16 26c-8.837 0-16-2.239-16-5v6c0 2.761 7.163 5 16 5s16-2.239 16-5v-6c0 2.761-7.163 5-16 5z\"></path>\n",
       "</symbol>\n",
       "<symbol id=\"icon-file-text2\" viewBox=\"0 0 32 32\">\n",
       "<path d=\"M28.681 7.159c-0.694-0.947-1.662-2.053-2.724-3.116s-2.169-2.030-3.116-2.724c-1.612-1.182-2.393-1.319-2.841-1.319h-15.5c-1.378 0-2.5 1.121-2.5 2.5v27c0 1.378 1.122 2.5 2.5 2.5h23c1.378 0 2.5-1.122 2.5-2.5v-19.5c0-0.448-0.137-1.23-1.319-2.841zM24.543 5.457c0.959 0.959 1.712 1.825 2.268 2.543h-4.811v-4.811c0.718 0.556 1.584 1.309 2.543 2.268zM28 29.5c0 0.271-0.229 0.5-0.5 0.5h-23c-0.271 0-0.5-0.229-0.5-0.5v-27c0-0.271 0.229-0.5 0.5-0.5 0 0 15.499-0 15.5 0v7c0 0.552 0.448 1 1 1h7v19.5z\"></path>\n",
       "<path d=\"M23 26h-14c-0.552 0-1-0.448-1-1s0.448-1 1-1h14c0.552 0 1 0.448 1 1s-0.448 1-1 1z\"></path>\n",
       "<path d=\"M23 22h-14c-0.552 0-1-0.448-1-1s0.448-1 1-1h14c0.552 0 1 0.448 1 1s-0.448 1-1 1z\"></path>\n",
       "<path d=\"M23 18h-14c-0.552 0-1-0.448-1-1s0.448-1 1-1h14c0.552 0 1 0.448 1 1s-0.448 1-1 1z\"></path>\n",
       "</symbol>\n",
       "</defs>\n",
       "</svg>\n",
       "<style>/* CSS stylesheet for displaying xarray objects in jupyterlab.\n",
       " *\n",
       " */\n",
       "\n",
       ":root {\n",
       "  --xr-font-color0: var(--jp-content-font-color0, rgba(0, 0, 0, 1));\n",
       "  --xr-font-color2: var(--jp-content-font-color2, rgba(0, 0, 0, 0.54));\n",
       "  --xr-font-color3: var(--jp-content-font-color3, rgba(0, 0, 0, 0.38));\n",
       "  --xr-border-color: var(--jp-border-color2, #e0e0e0);\n",
       "  --xr-disabled-color: var(--jp-layout-color3, #bdbdbd);\n",
       "  --xr-background-color: var(--jp-layout-color0, white);\n",
       "  --xr-background-color-row-even: var(--jp-layout-color1, white);\n",
       "  --xr-background-color-row-odd: var(--jp-layout-color2, #eeeeee);\n",
       "}\n",
       "\n",
       "html[theme=dark],\n",
       "body[data-theme=dark],\n",
       "body.vscode-dark {\n",
       "  --xr-font-color0: rgba(255, 255, 255, 1);\n",
       "  --xr-font-color2: rgba(255, 255, 255, 0.54);\n",
       "  --xr-font-color3: rgba(255, 255, 255, 0.38);\n",
       "  --xr-border-color: #1F1F1F;\n",
       "  --xr-disabled-color: #515151;\n",
       "  --xr-background-color: #111111;\n",
       "  --xr-background-color-row-even: #111111;\n",
       "  --xr-background-color-row-odd: #313131;\n",
       "}\n",
       "\n",
       ".xr-wrap {\n",
       "  display: block !important;\n",
       "  min-width: 300px;\n",
       "  max-width: 700px;\n",
       "}\n",
       "\n",
       ".xr-text-repr-fallback {\n",
       "  /* fallback to plain text repr when CSS is not injected (untrusted notebook) */\n",
       "  display: none;\n",
       "}\n",
       "\n",
       ".xr-header {\n",
       "  padding-top: 6px;\n",
       "  padding-bottom: 6px;\n",
       "  margin-bottom: 4px;\n",
       "  border-bottom: solid 1px var(--xr-border-color);\n",
       "}\n",
       "\n",
       ".xr-header > div,\n",
       ".xr-header > ul {\n",
       "  display: inline;\n",
       "  margin-top: 0;\n",
       "  margin-bottom: 0;\n",
       "}\n",
       "\n",
       ".xr-obj-type,\n",
       ".xr-array-name {\n",
       "  margin-left: 2px;\n",
       "  margin-right: 10px;\n",
       "}\n",
       "\n",
       ".xr-obj-type {\n",
       "  color: var(--xr-font-color2);\n",
       "}\n",
       "\n",
       ".xr-sections {\n",
       "  padding-left: 0 !important;\n",
       "  display: grid;\n",
       "  grid-template-columns: 150px auto auto 1fr 20px 20px;\n",
       "}\n",
       "\n",
       ".xr-section-item {\n",
       "  display: contents;\n",
       "}\n",
       "\n",
       ".xr-section-item input {\n",
       "  display: none;\n",
       "}\n",
       "\n",
       ".xr-section-item input + label {\n",
       "  color: var(--xr-disabled-color);\n",
       "}\n",
       "\n",
       ".xr-section-item input:enabled + label {\n",
       "  cursor: pointer;\n",
       "  color: var(--xr-font-color2);\n",
       "}\n",
       "\n",
       ".xr-section-item input:enabled + label:hover {\n",
       "  color: var(--xr-font-color0);\n",
       "}\n",
       "\n",
       ".xr-section-summary {\n",
       "  grid-column: 1;\n",
       "  color: var(--xr-font-color2);\n",
       "  font-weight: 500;\n",
       "}\n",
       "\n",
       ".xr-section-summary > span {\n",
       "  display: inline-block;\n",
       "  padding-left: 0.5em;\n",
       "}\n",
       "\n",
       ".xr-section-summary-in:disabled + label {\n",
       "  color: var(--xr-font-color2);\n",
       "}\n",
       "\n",
       ".xr-section-summary-in + label:before {\n",
       "  display: inline-block;\n",
       "  content: '►';\n",
       "  font-size: 11px;\n",
       "  width: 15px;\n",
       "  text-align: center;\n",
       "}\n",
       "\n",
       ".xr-section-summary-in:disabled + label:before {\n",
       "  color: var(--xr-disabled-color);\n",
       "}\n",
       "\n",
       ".xr-section-summary-in:checked + label:before {\n",
       "  content: '▼';\n",
       "}\n",
       "\n",
       ".xr-section-summary-in:checked + label > span {\n",
       "  display: none;\n",
       "}\n",
       "\n",
       ".xr-section-summary,\n",
       ".xr-section-inline-details {\n",
       "  padding-top: 4px;\n",
       "  padding-bottom: 4px;\n",
       "}\n",
       "\n",
       ".xr-section-inline-details {\n",
       "  grid-column: 2 / -1;\n",
       "}\n",
       "\n",
       ".xr-section-details {\n",
       "  display: none;\n",
       "  grid-column: 1 / -1;\n",
       "  margin-bottom: 5px;\n",
       "}\n",
       "\n",
       ".xr-section-summary-in:checked ~ .xr-section-details {\n",
       "  display: contents;\n",
       "}\n",
       "\n",
       ".xr-array-wrap {\n",
       "  grid-column: 1 / -1;\n",
       "  display: grid;\n",
       "  grid-template-columns: 20px auto;\n",
       "}\n",
       "\n",
       ".xr-array-wrap > label {\n",
       "  grid-column: 1;\n",
       "  vertical-align: top;\n",
       "}\n",
       "\n",
       ".xr-preview {\n",
       "  color: var(--xr-font-color3);\n",
       "}\n",
       "\n",
       ".xr-array-preview,\n",
       ".xr-array-data {\n",
       "  padding: 0 5px !important;\n",
       "  grid-column: 2;\n",
       "}\n",
       "\n",
       ".xr-array-data,\n",
       ".xr-array-in:checked ~ .xr-array-preview {\n",
       "  display: none;\n",
       "}\n",
       "\n",
       ".xr-array-in:checked ~ .xr-array-data,\n",
       ".xr-array-preview {\n",
       "  display: inline-block;\n",
       "}\n",
       "\n",
       ".xr-dim-list {\n",
       "  display: inline-block !important;\n",
       "  list-style: none;\n",
       "  padding: 0 !important;\n",
       "  margin: 0;\n",
       "}\n",
       "\n",
       ".xr-dim-list li {\n",
       "  display: inline-block;\n",
       "  padding: 0;\n",
       "  margin: 0;\n",
       "}\n",
       "\n",
       ".xr-dim-list:before {\n",
       "  content: '(';\n",
       "}\n",
       "\n",
       ".xr-dim-list:after {\n",
       "  content: ')';\n",
       "}\n",
       "\n",
       ".xr-dim-list li:not(:last-child):after {\n",
       "  content: ',';\n",
       "  padding-right: 5px;\n",
       "}\n",
       "\n",
       ".xr-has-index {\n",
       "  font-weight: bold;\n",
       "}\n",
       "\n",
       ".xr-var-list,\n",
       ".xr-var-item {\n",
       "  display: contents;\n",
       "}\n",
       "\n",
       ".xr-var-item > div,\n",
       ".xr-var-item label,\n",
       ".xr-var-item > .xr-var-name span {\n",
       "  background-color: var(--xr-background-color-row-even);\n",
       "  margin-bottom: 0;\n",
       "}\n",
       "\n",
       ".xr-var-item > .xr-var-name:hover span {\n",
       "  padding-right: 5px;\n",
       "}\n",
       "\n",
       ".xr-var-list > li:nth-child(odd) > div,\n",
       ".xr-var-list > li:nth-child(odd) > label,\n",
       ".xr-var-list > li:nth-child(odd) > .xr-var-name span {\n",
       "  background-color: var(--xr-background-color-row-odd);\n",
       "}\n",
       "\n",
       ".xr-var-name {\n",
       "  grid-column: 1;\n",
       "}\n",
       "\n",
       ".xr-var-dims {\n",
       "  grid-column: 2;\n",
       "}\n",
       "\n",
       ".xr-var-dtype {\n",
       "  grid-column: 3;\n",
       "  text-align: right;\n",
       "  color: var(--xr-font-color2);\n",
       "}\n",
       "\n",
       ".xr-var-preview {\n",
       "  grid-column: 4;\n",
       "}\n",
       "\n",
       ".xr-index-preview {\n",
       "  grid-column: 2 / 5;\n",
       "  color: var(--xr-font-color2);\n",
       "}\n",
       "\n",
       ".xr-var-name,\n",
       ".xr-var-dims,\n",
       ".xr-var-dtype,\n",
       ".xr-preview,\n",
       ".xr-attrs dt {\n",
       "  white-space: nowrap;\n",
       "  overflow: hidden;\n",
       "  text-overflow: ellipsis;\n",
       "  padding-right: 10px;\n",
       "}\n",
       "\n",
       ".xr-var-name:hover,\n",
       ".xr-var-dims:hover,\n",
       ".xr-var-dtype:hover,\n",
       ".xr-attrs dt:hover {\n",
       "  overflow: visible;\n",
       "  width: auto;\n",
       "  z-index: 1;\n",
       "}\n",
       "\n",
       ".xr-var-attrs,\n",
       ".xr-var-data,\n",
       ".xr-index-data {\n",
       "  display: none;\n",
       "  background-color: var(--xr-background-color) !important;\n",
       "  padding-bottom: 5px !important;\n",
       "}\n",
       "\n",
       ".xr-var-attrs-in:checked ~ .xr-var-attrs,\n",
       ".xr-var-data-in:checked ~ .xr-var-data,\n",
       ".xr-index-data-in:checked ~ .xr-index-data {\n",
       "  display: block;\n",
       "}\n",
       "\n",
       ".xr-var-data > table {\n",
       "  float: right;\n",
       "}\n",
       "\n",
       ".xr-var-name span,\n",
       ".xr-var-data,\n",
       ".xr-index-name div,\n",
       ".xr-index-data,\n",
       ".xr-attrs {\n",
       "  padding-left: 25px !important;\n",
       "}\n",
       "\n",
       ".xr-attrs,\n",
       ".xr-var-attrs,\n",
       ".xr-var-data,\n",
       ".xr-index-data {\n",
       "  grid-column: 1 / -1;\n",
       "}\n",
       "\n",
       "dl.xr-attrs {\n",
       "  padding: 0;\n",
       "  margin: 0;\n",
       "  display: grid;\n",
       "  grid-template-columns: 125px auto;\n",
       "}\n",
       "\n",
       ".xr-attrs dt,\n",
       ".xr-attrs dd {\n",
       "  padding: 0;\n",
       "  margin: 0;\n",
       "  float: left;\n",
       "  padding-right: 10px;\n",
       "  width: auto;\n",
       "}\n",
       "\n",
       ".xr-attrs dt {\n",
       "  font-weight: normal;\n",
       "  grid-column: 1;\n",
       "}\n",
       "\n",
       ".xr-attrs dt:hover span {\n",
       "  display: inline-block;\n",
       "  background: var(--xr-background-color);\n",
       "  padding-right: 10px;\n",
       "}\n",
       "\n",
       ".xr-attrs dd {\n",
       "  grid-column: 2;\n",
       "  white-space: pre-wrap;\n",
       "  word-break: break-all;\n",
       "}\n",
       "\n",
       ".xr-icon-database,\n",
       ".xr-icon-file-text2,\n",
       ".xr-no-icon {\n",
       "  display: inline-block;\n",
       "  vertical-align: middle;\n",
       "  width: 1em;\n",
       "  height: 1.5em !important;\n",
       "  stroke-width: 0;\n",
       "  stroke: currentColor;\n",
       "  fill: currentColor;\n",
       "}\n",
       "</style><pre class='xr-text-repr-fallback'>&lt;xarray.Dataset&gt;\n",
       "Dimensions:   (time: 100, yu_ocean: 609, xu_ocean: 900)\n",
       "Coordinates:\n",
       "  * time      (time) object 0181-01-01 12:00:00 ... 0181-04-10 12:00:00\n",
       "  * xu_ocean  (xu_ocean) float64 -279.7 -279.3 -278.9 ... 79.05 79.45 79.85\n",
       "  * yu_ocean  (yu_ocean) float64 -79.93 -79.76 -79.59 ... 79.55 79.71 79.88\n",
       "Data variables:\n",
       "    S_x       (time, yu_ocean, xu_ocean) float64 dask.array&lt;chunksize=(1, 609, 900), meta=np.ndarray&gt;\n",
       "    S_y       (time, yu_ocean, xu_ocean) float64 dask.array&lt;chunksize=(1, 609, 900), meta=np.ndarray&gt;\n",
       "    usurf     (time, yu_ocean, xu_ocean) float64 dask.array&lt;chunksize=(1, 609, 900), meta=np.ndarray&gt;\n",
       "    vsurf     (time, yu_ocean, xu_ocean) float64 dask.array&lt;chunksize=(1, 609, 900), meta=np.ndarray&gt;</pre><div class='xr-wrap' style='display:none'><div class='xr-header'><div class='xr-obj-type'>xarray.Dataset</div></div><ul class='xr-sections'><li class='xr-section-item'><input id='section-ed4c1c84-2055-45fb-b095-7c637f569f12' class='xr-section-summary-in' type='checkbox' disabled ><label for='section-ed4c1c84-2055-45fb-b095-7c637f569f12' class='xr-section-summary'  title='Expand/collapse section'>Dimensions:</label><div class='xr-section-inline-details'><ul class='xr-dim-list'><li><span class='xr-has-index'>time</span>: 100</li><li><span class='xr-has-index'>yu_ocean</span>: 609</li><li><span class='xr-has-index'>xu_ocean</span>: 900</li></ul></div><div class='xr-section-details'></div></li><li class='xr-section-item'><input id='section-848ecf3d-65e4-43c2-9d3f-08e4abb47c4c' class='xr-section-summary-in' type='checkbox'  checked><label for='section-848ecf3d-65e4-43c2-9d3f-08e4abb47c4c' class='xr-section-summary' >Coordinates: <span>(3)</span></label><div class='xr-section-inline-details'></div><div class='xr-section-details'><ul class='xr-var-list'><li class='xr-var-item'><div class='xr-var-name'><span class='xr-has-index'>time</span></div><div class='xr-var-dims'>(time)</div><div class='xr-var-dtype'>object</div><div class='xr-var-preview xr-preview'>0181-01-01 12:00:00 ... 0181-04-...</div><input id='attrs-8d378fd9-4677-45bf-a5e8-5e58ebe65d6f' class='xr-var-attrs-in' type='checkbox' ><label for='attrs-8d378fd9-4677-45bf-a5e8-5e58ebe65d6f' title='Show/Hide attributes'><svg class='icon xr-icon-file-text2'><use xlink:href='#icon-file-text2'></use></svg></label><input id='data-d3f2bdae-9aff-4d7b-9893-63b7adea65bd' class='xr-var-data-in' type='checkbox'><label for='data-d3f2bdae-9aff-4d7b-9893-63b7adea65bd' title='Show/Hide data repr'><svg class='icon xr-icon-database'><use xlink:href='#icon-database'></use></svg></label><div class='xr-var-attrs'><dl class='xr-attrs'><dt><span>bounds :</span></dt><dd>time_bounds</dd><dt><span>calendar_type :</span></dt><dd>JULIAN</dd><dt><span>cartesian_axis :</span></dt><dd>T</dd><dt><span>long_name :</span></dt><dd>time</dd></dl></div><div class='xr-var-data'><pre>array([cftime.DatetimeJulian(181, 1, 1, 12, 0, 0, 0, has_year_zero=False),\n",
       "       cftime.DatetimeJulian(181, 1, 2, 12, 0, 0, 0, has_year_zero=False),\n",
       "       cftime.DatetimeJulian(181, 1, 3, 12, 0, 0, 0, has_year_zero=False),\n",
       "       cftime.DatetimeJulian(181, 1, 4, 12, 0, 0, 0, has_year_zero=False),\n",
       "       cftime.DatetimeJulian(181, 1, 5, 12, 0, 0, 0, has_year_zero=False),\n",
       "       cftime.DatetimeJulian(181, 1, 6, 12, 0, 0, 0, has_year_zero=False),\n",
       "       cftime.DatetimeJulian(181, 1, 7, 12, 0, 0, 0, has_year_zero=False),\n",
       "       cftime.DatetimeJulian(181, 1, 8, 12, 0, 0, 0, has_year_zero=False),\n",
       "       cftime.DatetimeJulian(181, 1, 9, 12, 0, 0, 0, has_year_zero=False),\n",
       "       cftime.DatetimeJulian(181, 1, 10, 12, 0, 0, 0, has_year_zero=False),\n",
       "       cftime.DatetimeJulian(181, 1, 11, 12, 0, 0, 0, has_year_zero=False),\n",
       "       cftime.DatetimeJulian(181, 1, 12, 12, 0, 0, 0, has_year_zero=False),\n",
       "       cftime.DatetimeJulian(181, 1, 13, 12, 0, 0, 0, has_year_zero=False),\n",
       "       cftime.DatetimeJulian(181, 1, 14, 12, 0, 0, 0, has_year_zero=False),\n",
       "       cftime.DatetimeJulian(181, 1, 15, 12, 0, 0, 0, has_year_zero=False),\n",
       "       cftime.DatetimeJulian(181, 1, 16, 12, 0, 0, 0, has_year_zero=False),\n",
       "       cftime.DatetimeJulian(181, 1, 17, 12, 0, 0, 0, has_year_zero=False),\n",
       "       cftime.DatetimeJulian(181, 1, 18, 12, 0, 0, 0, has_year_zero=False),\n",
       "       cftime.DatetimeJulian(181, 1, 19, 12, 0, 0, 0, has_year_zero=False),\n",
       "       cftime.DatetimeJulian(181, 1, 20, 12, 0, 0, 0, has_year_zero=False),\n",
       "       cftime.DatetimeJulian(181, 1, 21, 12, 0, 0, 0, has_year_zero=False),\n",
       "       cftime.DatetimeJulian(181, 1, 22, 12, 0, 0, 0, has_year_zero=False),\n",
       "       cftime.DatetimeJulian(181, 1, 23, 12, 0, 0, 0, has_year_zero=False),\n",
       "       cftime.DatetimeJulian(181, 1, 24, 12, 0, 0, 0, has_year_zero=False),\n",
       "       cftime.DatetimeJulian(181, 1, 25, 12, 0, 0, 0, has_year_zero=False),\n",
       "       cftime.DatetimeJulian(181, 1, 26, 12, 0, 0, 0, has_year_zero=False),\n",
       "       cftime.DatetimeJulian(181, 1, 27, 12, 0, 0, 0, has_year_zero=False),\n",
       "       cftime.DatetimeJulian(181, 1, 28, 12, 0, 0, 0, has_year_zero=False),\n",
       "       cftime.DatetimeJulian(181, 1, 29, 12, 0, 0, 0, has_year_zero=False),\n",
       "       cftime.DatetimeJulian(181, 1, 30, 12, 0, 0, 0, has_year_zero=False),\n",
       "       cftime.DatetimeJulian(181, 1, 31, 12, 0, 0, 0, has_year_zero=False),\n",
       "       cftime.DatetimeJulian(181, 2, 1, 12, 0, 0, 0, has_year_zero=False),\n",
       "       cftime.DatetimeJulian(181, 2, 2, 12, 0, 0, 0, has_year_zero=False),\n",
       "       cftime.DatetimeJulian(181, 2, 3, 12, 0, 0, 0, has_year_zero=False),\n",
       "       cftime.DatetimeJulian(181, 2, 4, 12, 0, 0, 0, has_year_zero=False),\n",
       "       cftime.DatetimeJulian(181, 2, 5, 12, 0, 0, 0, has_year_zero=False),\n",
       "       cftime.DatetimeJulian(181, 2, 6, 12, 0, 0, 0, has_year_zero=False),\n",
       "       cftime.DatetimeJulian(181, 2, 7, 12, 0, 0, 0, has_year_zero=False),\n",
       "       cftime.DatetimeJulian(181, 2, 8, 12, 0, 0, 0, has_year_zero=False),\n",
       "       cftime.DatetimeJulian(181, 2, 9, 12, 0, 0, 0, has_year_zero=False),\n",
       "       cftime.DatetimeJulian(181, 2, 10, 12, 0, 0, 0, has_year_zero=False),\n",
       "       cftime.DatetimeJulian(181, 2, 11, 12, 0, 0, 0, has_year_zero=False),\n",
       "       cftime.DatetimeJulian(181, 2, 12, 12, 0, 0, 0, has_year_zero=False),\n",
       "       cftime.DatetimeJulian(181, 2, 13, 12, 0, 0, 0, has_year_zero=False),\n",
       "       cftime.DatetimeJulian(181, 2, 14, 12, 0, 0, 0, has_year_zero=False),\n",
       "       cftime.DatetimeJulian(181, 2, 15, 12, 0, 0, 0, has_year_zero=False),\n",
       "       cftime.DatetimeJulian(181, 2, 16, 12, 0, 0, 0, has_year_zero=False),\n",
       "       cftime.DatetimeJulian(181, 2, 17, 12, 0, 0, 0, has_year_zero=False),\n",
       "       cftime.DatetimeJulian(181, 2, 18, 12, 0, 0, 0, has_year_zero=False),\n",
       "       cftime.DatetimeJulian(181, 2, 19, 12, 0, 0, 0, has_year_zero=False),\n",
       "       cftime.DatetimeJulian(181, 2, 20, 12, 0, 0, 0, has_year_zero=False),\n",
       "       cftime.DatetimeJulian(181, 2, 21, 12, 0, 0, 0, has_year_zero=False),\n",
       "       cftime.DatetimeJulian(181, 2, 22, 12, 0, 0, 0, has_year_zero=False),\n",
       "       cftime.DatetimeJulian(181, 2, 23, 12, 0, 0, 0, has_year_zero=False),\n",
       "       cftime.DatetimeJulian(181, 2, 24, 12, 0, 0, 0, has_year_zero=False),\n",
       "       cftime.DatetimeJulian(181, 2, 25, 12, 0, 0, 0, has_year_zero=False),\n",
       "       cftime.DatetimeJulian(181, 2, 26, 12, 0, 0, 0, has_year_zero=False),\n",
       "       cftime.DatetimeJulian(181, 2, 27, 12, 0, 0, 0, has_year_zero=False),\n",
       "       cftime.DatetimeJulian(181, 2, 28, 12, 0, 0, 0, has_year_zero=False),\n",
       "       cftime.DatetimeJulian(181, 3, 1, 12, 0, 0, 0, has_year_zero=False),\n",
       "       cftime.DatetimeJulian(181, 3, 2, 12, 0, 0, 0, has_year_zero=False),\n",
       "       cftime.DatetimeJulian(181, 3, 3, 12, 0, 0, 0, has_year_zero=False),\n",
       "       cftime.DatetimeJulian(181, 3, 4, 12, 0, 0, 0, has_year_zero=False),\n",
       "       cftime.DatetimeJulian(181, 3, 5, 12, 0, 0, 0, has_year_zero=False),\n",
       "       cftime.DatetimeJulian(181, 3, 6, 12, 0, 0, 0, has_year_zero=False),\n",
       "       cftime.DatetimeJulian(181, 3, 7, 12, 0, 0, 0, has_year_zero=False),\n",
       "       cftime.DatetimeJulian(181, 3, 8, 12, 0, 0, 0, has_year_zero=False),\n",
       "       cftime.DatetimeJulian(181, 3, 9, 12, 0, 0, 0, has_year_zero=False),\n",
       "       cftime.DatetimeJulian(181, 3, 10, 12, 0, 0, 0, has_year_zero=False),\n",
       "       cftime.DatetimeJulian(181, 3, 11, 12, 0, 0, 0, has_year_zero=False),\n",
       "       cftime.DatetimeJulian(181, 3, 12, 12, 0, 0, 0, has_year_zero=False),\n",
       "       cftime.DatetimeJulian(181, 3, 13, 12, 0, 0, 0, has_year_zero=False),\n",
       "       cftime.DatetimeJulian(181, 3, 14, 12, 0, 0, 0, has_year_zero=False),\n",
       "       cftime.DatetimeJulian(181, 3, 15, 12, 0, 0, 0, has_year_zero=False),\n",
       "       cftime.DatetimeJulian(181, 3, 16, 12, 0, 0, 0, has_year_zero=False),\n",
       "       cftime.DatetimeJulian(181, 3, 17, 12, 0, 0, 0, has_year_zero=False),\n",
       "       cftime.DatetimeJulian(181, 3, 18, 12, 0, 0, 0, has_year_zero=False),\n",
       "       cftime.DatetimeJulian(181, 3, 19, 12, 0, 0, 0, has_year_zero=False),\n",
       "       cftime.DatetimeJulian(181, 3, 20, 12, 0, 0, 0, has_year_zero=False),\n",
       "       cftime.DatetimeJulian(181, 3, 21, 12, 0, 0, 0, has_year_zero=False),\n",
       "       cftime.DatetimeJulian(181, 3, 22, 12, 0, 0, 0, has_year_zero=False),\n",
       "       cftime.DatetimeJulian(181, 3, 23, 12, 0, 0, 0, has_year_zero=False),\n",
       "       cftime.DatetimeJulian(181, 3, 24, 12, 0, 0, 0, has_year_zero=False),\n",
       "       cftime.DatetimeJulian(181, 3, 25, 12, 0, 0, 0, has_year_zero=False),\n",
       "       cftime.DatetimeJulian(181, 3, 26, 12, 0, 0, 0, has_year_zero=False),\n",
       "       cftime.DatetimeJulian(181, 3, 27, 12, 0, 0, 0, has_year_zero=False),\n",
       "       cftime.DatetimeJulian(181, 3, 28, 12, 0, 0, 0, has_year_zero=False),\n",
       "       cftime.DatetimeJulian(181, 3, 29, 12, 0, 0, 0, has_year_zero=False),\n",
       "       cftime.DatetimeJulian(181, 3, 30, 12, 0, 0, 0, has_year_zero=False),\n",
       "       cftime.DatetimeJulian(181, 3, 31, 12, 0, 0, 0, has_year_zero=False),\n",
       "       cftime.DatetimeJulian(181, 4, 1, 12, 0, 0, 0, has_year_zero=False),\n",
       "       cftime.DatetimeJulian(181, 4, 2, 12, 0, 0, 0, has_year_zero=False),\n",
       "       cftime.DatetimeJulian(181, 4, 3, 12, 0, 0, 0, has_year_zero=False),\n",
       "       cftime.DatetimeJulian(181, 4, 4, 12, 0, 0, 0, has_year_zero=False),\n",
       "       cftime.DatetimeJulian(181, 4, 5, 12, 0, 0, 0, has_year_zero=False),\n",
       "       cftime.DatetimeJulian(181, 4, 6, 12, 0, 0, 0, has_year_zero=False),\n",
       "       cftime.DatetimeJulian(181, 4, 7, 12, 0, 0, 0, has_year_zero=False),\n",
       "       cftime.DatetimeJulian(181, 4, 8, 12, 0, 0, 0, has_year_zero=False),\n",
       "       cftime.DatetimeJulian(181, 4, 9, 12, 0, 0, 0, has_year_zero=False),\n",
       "       cftime.DatetimeJulian(181, 4, 10, 12, 0, 0, 0, has_year_zero=False)],\n",
       "      dtype=object)</pre></div></li><li class='xr-var-item'><div class='xr-var-name'><span class='xr-has-index'>xu_ocean</span></div><div class='xr-var-dims'>(xu_ocean)</div><div class='xr-var-dtype'>float64</div><div class='xr-var-preview xr-preview'>-279.7 -279.3 ... 79.45 79.85</div><input id='attrs-d6e1eb96-be69-42fa-ba9c-7317508a30d1' class='xr-var-attrs-in' type='checkbox' ><label for='attrs-d6e1eb96-be69-42fa-ba9c-7317508a30d1' title='Show/Hide attributes'><svg class='icon xr-icon-file-text2'><use xlink:href='#icon-file-text2'></use></svg></label><input id='data-8168c845-da17-40fb-8ae8-3ce86103e1ab' class='xr-var-data-in' type='checkbox'><label for='data-8168c845-da17-40fb-8ae8-3ce86103e1ab' title='Show/Hide data repr'><svg class='icon xr-icon-database'><use xlink:href='#icon-database'></use></svg></label><div class='xr-var-attrs'><dl class='xr-attrs'><dt><span>cartesian_axis :</span></dt><dd>X</dd><dt><span>long_name :</span></dt><dd>ucell longitude</dd><dt><span>units :</span></dt><dd>degrees_E</dd></dl></div><div class='xr-var-data'><pre>array([-279.75, -279.35, -278.95, ...,   79.05,   79.45,   79.85])</pre></div></li><li class='xr-var-item'><div class='xr-var-name'><span class='xr-has-index'>yu_ocean</span></div><div class='xr-var-dims'>(yu_ocean)</div><div class='xr-var-dtype'>float64</div><div class='xr-var-preview xr-preview'>-79.93 -79.76 ... 79.71 79.88</div><input id='attrs-f36d718c-0d08-4f87-8674-488cb03beb35' class='xr-var-attrs-in' type='checkbox' ><label for='attrs-f36d718c-0d08-4f87-8674-488cb03beb35' title='Show/Hide attributes'><svg class='icon xr-icon-file-text2'><use xlink:href='#icon-file-text2'></use></svg></label><input id='data-47291972-8386-4cb3-b0cd-dd52b2154273' class='xr-var-data-in' type='checkbox'><label for='data-47291972-8386-4cb3-b0cd-dd52b2154273' title='Show/Hide data repr'><svg class='icon xr-icon-database'><use xlink:href='#icon-database'></use></svg></label><div class='xr-var-attrs'><dl class='xr-attrs'><dt><span>cartesian_axis :</span></dt><dd>Y</dd><dt><span>long_name :</span></dt><dd>ucell latitude</dd><dt><span>units :</span></dt><dd>degrees_N</dd></dl></div><div class='xr-var-data'><pre>array([-79.92593 , -79.756972, -79.588015, ...,  79.545776,  79.714733,\n",
       "        79.88369 ])</pre></div></li></ul></div></li><li class='xr-section-item'><input id='section-da9cf8d6-b952-4792-bcb7-f053c00abf93' class='xr-section-summary-in' type='checkbox'  checked><label for='section-da9cf8d6-b952-4792-bcb7-f053c00abf93' class='xr-section-summary' >Data variables: <span>(4)</span></label><div class='xr-section-inline-details'></div><div class='xr-section-details'><ul class='xr-var-list'><li class='xr-var-item'><div class='xr-var-name'><span>S_x</span></div><div class='xr-var-dims'>(time, yu_ocean, xu_ocean)</div><div class='xr-var-dtype'>float64</div><div class='xr-var-preview xr-preview'>dask.array&lt;chunksize=(1, 609, 900), meta=np.ndarray&gt;</div><input id='attrs-92b2a187-b5ff-4e35-8dcc-af5633ddeab4' class='xr-var-attrs-in' type='checkbox' ><label for='attrs-92b2a187-b5ff-4e35-8dcc-af5633ddeab4' title='Show/Hide attributes'><svg class='icon xr-icon-file-text2'><use xlink:href='#icon-file-text2'></use></svg></label><input id='data-11a5787e-17f5-4316-9b21-c847713eb683' class='xr-var-data-in' type='checkbox'><label for='data-11a5787e-17f5-4316-9b21-c847713eb683' title='Show/Hide data repr'><svg class='icon xr-icon-database'><use xlink:href='#icon-database'></use></svg></label><div class='xr-var-attrs'><dl class='xr-attrs'><dt><span>type :</span></dt><dd>output</dd></dl></div><div class='xr-var-data'><table>\n",
       "    <tr>\n",
       "        <td>\n",
       "            <table style=\"border-collapse: collapse;\">\n",
       "                <thead>\n",
       "                    <tr>\n",
       "                        <td> </td>\n",
       "                        <th> Array </th>\n",
       "                        <th> Chunk </th>\n",
       "                    </tr>\n",
       "                </thead>\n",
       "                <tbody>\n",
       "                    \n",
       "                    <tr>\n",
       "                        <th> Bytes </th>\n",
       "                        <td> 418.17 MiB </td>\n",
       "                        <td> 4.18 MiB </td>\n",
       "                    </tr>\n",
       "                    \n",
       "                    <tr>\n",
       "                        <th> Shape </th>\n",
       "                        <td> (100, 609, 900) </td>\n",
       "                        <td> (1, 609, 900) </td>\n",
       "                    </tr>\n",
       "                    <tr>\n",
       "                        <th> Dask graph </th>\n",
       "                        <td colspan=\"2\"> 100 chunks in 2 graph layers </td>\n",
       "                    </tr>\n",
       "                    <tr>\n",
       "                        <th> Data type </th>\n",
       "                        <td colspan=\"2\"> float64 numpy.ndarray </td>\n",
       "                    </tr>\n",
       "                </tbody>\n",
       "            </table>\n",
       "        </td>\n",
       "        <td>\n",
       "        <svg width=\"203\" height=\"154\" style=\"stroke:rgb(0,0,0);stroke-width:1\" >\n",
       "\n",
       "  <!-- Horizontal lines -->\n",
       "  <line x1=\"10\" y1=\"0\" x2=\"33\" y2=\"23\" style=\"stroke-width:2\" />\n",
       "  <line x1=\"10\" y1=\"81\" x2=\"33\" y2=\"104\" style=\"stroke-width:2\" />\n",
       "\n",
       "  <!-- Vertical lines -->\n",
       "  <line x1=\"10\" y1=\"0\" x2=\"10\" y2=\"81\" style=\"stroke-width:2\" />\n",
       "  <line x1=\"11\" y1=\"1\" x2=\"11\" y2=\"82\" />\n",
       "  <line x1=\"12\" y1=\"2\" x2=\"12\" y2=\"83\" />\n",
       "  <line x1=\"13\" y1=\"3\" x2=\"13\" y2=\"84\" />\n",
       "  <line x1=\"14\" y1=\"4\" x2=\"14\" y2=\"86\" />\n",
       "  <line x1=\"15\" y1=\"5\" x2=\"15\" y2=\"87\" />\n",
       "  <line x1=\"17\" y1=\"7\" x2=\"17\" y2=\"88\" />\n",
       "  <line x1=\"18\" y1=\"8\" x2=\"18\" y2=\"89\" />\n",
       "  <line x1=\"19\" y1=\"9\" x2=\"19\" y2=\"90\" />\n",
       "  <line x1=\"20\" y1=\"10\" x2=\"20\" y2=\"92\" />\n",
       "  <line x1=\"21\" y1=\"11\" x2=\"21\" y2=\"93\" />\n",
       "  <line x1=\"23\" y1=\"13\" x2=\"23\" y2=\"94\" />\n",
       "  <line x1=\"24\" y1=\"14\" x2=\"24\" y2=\"95\" />\n",
       "  <line x1=\"25\" y1=\"15\" x2=\"25\" y2=\"96\" />\n",
       "  <line x1=\"26\" y1=\"16\" x2=\"26\" y2=\"98\" />\n",
       "  <line x1=\"27\" y1=\"17\" x2=\"27\" y2=\"99\" />\n",
       "  <line x1=\"29\" y1=\"19\" x2=\"29\" y2=\"100\" />\n",
       "  <line x1=\"30\" y1=\"20\" x2=\"30\" y2=\"101\" />\n",
       "  <line x1=\"31\" y1=\"21\" x2=\"31\" y2=\"102\" />\n",
       "  <line x1=\"33\" y1=\"23\" x2=\"33\" y2=\"104\" style=\"stroke-width:2\" />\n",
       "\n",
       "  <!-- Colored Rectangle -->\n",
       "  <polygon points=\"10.0,0.0 33.04251631306393,23.042516313063924 33.04251631306393,104.24251631306393 10.0,81.2\" style=\"fill:#8B4903A0;stroke-width:0\"/>\n",
       "\n",
       "  <!-- Horizontal lines -->\n",
       "  <line x1=\"10\" y1=\"0\" x2=\"130\" y2=\"0\" style=\"stroke-width:2\" />\n",
       "  <line x1=\"11\" y1=\"1\" x2=\"131\" y2=\"1\" />\n",
       "  <line x1=\"12\" y1=\"2\" x2=\"132\" y2=\"2\" />\n",
       "  <line x1=\"13\" y1=\"3\" x2=\"133\" y2=\"3\" />\n",
       "  <line x1=\"14\" y1=\"4\" x2=\"134\" y2=\"4\" />\n",
       "  <line x1=\"15\" y1=\"5\" x2=\"135\" y2=\"5\" />\n",
       "  <line x1=\"17\" y1=\"7\" x2=\"137\" y2=\"7\" />\n",
       "  <line x1=\"18\" y1=\"8\" x2=\"138\" y2=\"8\" />\n",
       "  <line x1=\"19\" y1=\"9\" x2=\"139\" y2=\"9\" />\n",
       "  <line x1=\"20\" y1=\"10\" x2=\"140\" y2=\"10\" />\n",
       "  <line x1=\"21\" y1=\"11\" x2=\"141\" y2=\"11\" />\n",
       "  <line x1=\"23\" y1=\"13\" x2=\"143\" y2=\"13\" />\n",
       "  <line x1=\"24\" y1=\"14\" x2=\"144\" y2=\"14\" />\n",
       "  <line x1=\"25\" y1=\"15\" x2=\"145\" y2=\"15\" />\n",
       "  <line x1=\"26\" y1=\"16\" x2=\"146\" y2=\"16\" />\n",
       "  <line x1=\"27\" y1=\"17\" x2=\"147\" y2=\"17\" />\n",
       "  <line x1=\"29\" y1=\"19\" x2=\"149\" y2=\"19\" />\n",
       "  <line x1=\"30\" y1=\"20\" x2=\"150\" y2=\"20\" />\n",
       "  <line x1=\"31\" y1=\"21\" x2=\"151\" y2=\"21\" />\n",
       "  <line x1=\"33\" y1=\"23\" x2=\"153\" y2=\"23\" style=\"stroke-width:2\" />\n",
       "\n",
       "  <!-- Vertical lines -->\n",
       "  <line x1=\"10\" y1=\"0\" x2=\"33\" y2=\"23\" style=\"stroke-width:2\" />\n",
       "  <line x1=\"130\" y1=\"0\" x2=\"153\" y2=\"23\" style=\"stroke-width:2\" />\n",
       "\n",
       "  <!-- Colored Rectangle -->\n",
       "  <polygon points=\"10.0,0.0 130.0,0.0 153.0425163130639,23.042516313063924 33.04251631306393,23.042516313063924\" style=\"fill:#8B4903A0;stroke-width:0\"/>\n",
       "\n",
       "  <!-- Horizontal lines -->\n",
       "  <line x1=\"33\" y1=\"23\" x2=\"153\" y2=\"23\" style=\"stroke-width:2\" />\n",
       "  <line x1=\"33\" y1=\"104\" x2=\"153\" y2=\"104\" style=\"stroke-width:2\" />\n",
       "\n",
       "  <!-- Vertical lines -->\n",
       "  <line x1=\"33\" y1=\"23\" x2=\"33\" y2=\"104\" style=\"stroke-width:2\" />\n",
       "  <line x1=\"153\" y1=\"23\" x2=\"153\" y2=\"104\" style=\"stroke-width:2\" />\n",
       "\n",
       "  <!-- Colored Rectangle -->\n",
       "  <polygon points=\"33.04251631306393,23.042516313063924 153.0425163130639,23.042516313063924 153.0425163130639,104.24251631306393 33.04251631306393,104.24251631306393\" style=\"fill:#ECB172A0;stroke-width:0\"/>\n",
       "\n",
       "  <!-- Text -->\n",
       "  <text x=\"93.042516\" y=\"124.242516\" font-size=\"1.0rem\" font-weight=\"100\" text-anchor=\"middle\" >900</text>\n",
       "  <text x=\"173.042516\" y=\"63.642516\" font-size=\"1.0rem\" font-weight=\"100\" text-anchor=\"middle\" transform=\"rotate(-90,173.042516,63.642516)\">609</text>\n",
       "  <text x=\"11.521258\" y=\"112.721258\" font-size=\"1.0rem\" font-weight=\"100\" text-anchor=\"middle\" transform=\"rotate(45,11.521258,112.721258)\">100</text>\n",
       "</svg>\n",
       "        </td>\n",
       "    </tr>\n",
       "</table></div></li><li class='xr-var-item'><div class='xr-var-name'><span>S_y</span></div><div class='xr-var-dims'>(time, yu_ocean, xu_ocean)</div><div class='xr-var-dtype'>float64</div><div class='xr-var-preview xr-preview'>dask.array&lt;chunksize=(1, 609, 900), meta=np.ndarray&gt;</div><input id='attrs-790b7730-ee94-4333-941b-ae47bf37de8c' class='xr-var-attrs-in' type='checkbox' ><label for='attrs-790b7730-ee94-4333-941b-ae47bf37de8c' title='Show/Hide attributes'><svg class='icon xr-icon-file-text2'><use xlink:href='#icon-file-text2'></use></svg></label><input id='data-e208e413-861c-4a1b-8a7e-0ee2c3a59c29' class='xr-var-data-in' type='checkbox'><label for='data-e208e413-861c-4a1b-8a7e-0ee2c3a59c29' title='Show/Hide data repr'><svg class='icon xr-icon-database'><use xlink:href='#icon-database'></use></svg></label><div class='xr-var-attrs'><dl class='xr-attrs'><dt><span>type :</span></dt><dd>output</dd></dl></div><div class='xr-var-data'><table>\n",
       "    <tr>\n",
       "        <td>\n",
       "            <table style=\"border-collapse: collapse;\">\n",
       "                <thead>\n",
       "                    <tr>\n",
       "                        <td> </td>\n",
       "                        <th> Array </th>\n",
       "                        <th> Chunk </th>\n",
       "                    </tr>\n",
       "                </thead>\n",
       "                <tbody>\n",
       "                    \n",
       "                    <tr>\n",
       "                        <th> Bytes </th>\n",
       "                        <td> 418.17 MiB </td>\n",
       "                        <td> 4.18 MiB </td>\n",
       "                    </tr>\n",
       "                    \n",
       "                    <tr>\n",
       "                        <th> Shape </th>\n",
       "                        <td> (100, 609, 900) </td>\n",
       "                        <td> (1, 609, 900) </td>\n",
       "                    </tr>\n",
       "                    <tr>\n",
       "                        <th> Dask graph </th>\n",
       "                        <td colspan=\"2\"> 100 chunks in 2 graph layers </td>\n",
       "                    </tr>\n",
       "                    <tr>\n",
       "                        <th> Data type </th>\n",
       "                        <td colspan=\"2\"> float64 numpy.ndarray </td>\n",
       "                    </tr>\n",
       "                </tbody>\n",
       "            </table>\n",
       "        </td>\n",
       "        <td>\n",
       "        <svg width=\"203\" height=\"154\" style=\"stroke:rgb(0,0,0);stroke-width:1\" >\n",
       "\n",
       "  <!-- Horizontal lines -->\n",
       "  <line x1=\"10\" y1=\"0\" x2=\"33\" y2=\"23\" style=\"stroke-width:2\" />\n",
       "  <line x1=\"10\" y1=\"81\" x2=\"33\" y2=\"104\" style=\"stroke-width:2\" />\n",
       "\n",
       "  <!-- Vertical lines -->\n",
       "  <line x1=\"10\" y1=\"0\" x2=\"10\" y2=\"81\" style=\"stroke-width:2\" />\n",
       "  <line x1=\"11\" y1=\"1\" x2=\"11\" y2=\"82\" />\n",
       "  <line x1=\"12\" y1=\"2\" x2=\"12\" y2=\"83\" />\n",
       "  <line x1=\"13\" y1=\"3\" x2=\"13\" y2=\"84\" />\n",
       "  <line x1=\"14\" y1=\"4\" x2=\"14\" y2=\"86\" />\n",
       "  <line x1=\"15\" y1=\"5\" x2=\"15\" y2=\"87\" />\n",
       "  <line x1=\"17\" y1=\"7\" x2=\"17\" y2=\"88\" />\n",
       "  <line x1=\"18\" y1=\"8\" x2=\"18\" y2=\"89\" />\n",
       "  <line x1=\"19\" y1=\"9\" x2=\"19\" y2=\"90\" />\n",
       "  <line x1=\"20\" y1=\"10\" x2=\"20\" y2=\"92\" />\n",
       "  <line x1=\"21\" y1=\"11\" x2=\"21\" y2=\"93\" />\n",
       "  <line x1=\"23\" y1=\"13\" x2=\"23\" y2=\"94\" />\n",
       "  <line x1=\"24\" y1=\"14\" x2=\"24\" y2=\"95\" />\n",
       "  <line x1=\"25\" y1=\"15\" x2=\"25\" y2=\"96\" />\n",
       "  <line x1=\"26\" y1=\"16\" x2=\"26\" y2=\"98\" />\n",
       "  <line x1=\"27\" y1=\"17\" x2=\"27\" y2=\"99\" />\n",
       "  <line x1=\"29\" y1=\"19\" x2=\"29\" y2=\"100\" />\n",
       "  <line x1=\"30\" y1=\"20\" x2=\"30\" y2=\"101\" />\n",
       "  <line x1=\"31\" y1=\"21\" x2=\"31\" y2=\"102\" />\n",
       "  <line x1=\"33\" y1=\"23\" x2=\"33\" y2=\"104\" style=\"stroke-width:2\" />\n",
       "\n",
       "  <!-- Colored Rectangle -->\n",
       "  <polygon points=\"10.0,0.0 33.04251631306393,23.042516313063924 33.04251631306393,104.24251631306393 10.0,81.2\" style=\"fill:#8B4903A0;stroke-width:0\"/>\n",
       "\n",
       "  <!-- Horizontal lines -->\n",
       "  <line x1=\"10\" y1=\"0\" x2=\"130\" y2=\"0\" style=\"stroke-width:2\" />\n",
       "  <line x1=\"11\" y1=\"1\" x2=\"131\" y2=\"1\" />\n",
       "  <line x1=\"12\" y1=\"2\" x2=\"132\" y2=\"2\" />\n",
       "  <line x1=\"13\" y1=\"3\" x2=\"133\" y2=\"3\" />\n",
       "  <line x1=\"14\" y1=\"4\" x2=\"134\" y2=\"4\" />\n",
       "  <line x1=\"15\" y1=\"5\" x2=\"135\" y2=\"5\" />\n",
       "  <line x1=\"17\" y1=\"7\" x2=\"137\" y2=\"7\" />\n",
       "  <line x1=\"18\" y1=\"8\" x2=\"138\" y2=\"8\" />\n",
       "  <line x1=\"19\" y1=\"9\" x2=\"139\" y2=\"9\" />\n",
       "  <line x1=\"20\" y1=\"10\" x2=\"140\" y2=\"10\" />\n",
       "  <line x1=\"21\" y1=\"11\" x2=\"141\" y2=\"11\" />\n",
       "  <line x1=\"23\" y1=\"13\" x2=\"143\" y2=\"13\" />\n",
       "  <line x1=\"24\" y1=\"14\" x2=\"144\" y2=\"14\" />\n",
       "  <line x1=\"25\" y1=\"15\" x2=\"145\" y2=\"15\" />\n",
       "  <line x1=\"26\" y1=\"16\" x2=\"146\" y2=\"16\" />\n",
       "  <line x1=\"27\" y1=\"17\" x2=\"147\" y2=\"17\" />\n",
       "  <line x1=\"29\" y1=\"19\" x2=\"149\" y2=\"19\" />\n",
       "  <line x1=\"30\" y1=\"20\" x2=\"150\" y2=\"20\" />\n",
       "  <line x1=\"31\" y1=\"21\" x2=\"151\" y2=\"21\" />\n",
       "  <line x1=\"33\" y1=\"23\" x2=\"153\" y2=\"23\" style=\"stroke-width:2\" />\n",
       "\n",
       "  <!-- Vertical lines -->\n",
       "  <line x1=\"10\" y1=\"0\" x2=\"33\" y2=\"23\" style=\"stroke-width:2\" />\n",
       "  <line x1=\"130\" y1=\"0\" x2=\"153\" y2=\"23\" style=\"stroke-width:2\" />\n",
       "\n",
       "  <!-- Colored Rectangle -->\n",
       "  <polygon points=\"10.0,0.0 130.0,0.0 153.0425163130639,23.042516313063924 33.04251631306393,23.042516313063924\" style=\"fill:#8B4903A0;stroke-width:0\"/>\n",
       "\n",
       "  <!-- Horizontal lines -->\n",
       "  <line x1=\"33\" y1=\"23\" x2=\"153\" y2=\"23\" style=\"stroke-width:2\" />\n",
       "  <line x1=\"33\" y1=\"104\" x2=\"153\" y2=\"104\" style=\"stroke-width:2\" />\n",
       "\n",
       "  <!-- Vertical lines -->\n",
       "  <line x1=\"33\" y1=\"23\" x2=\"33\" y2=\"104\" style=\"stroke-width:2\" />\n",
       "  <line x1=\"153\" y1=\"23\" x2=\"153\" y2=\"104\" style=\"stroke-width:2\" />\n",
       "\n",
       "  <!-- Colored Rectangle -->\n",
       "  <polygon points=\"33.04251631306393,23.042516313063924 153.0425163130639,23.042516313063924 153.0425163130639,104.24251631306393 33.04251631306393,104.24251631306393\" style=\"fill:#ECB172A0;stroke-width:0\"/>\n",
       "\n",
       "  <!-- Text -->\n",
       "  <text x=\"93.042516\" y=\"124.242516\" font-size=\"1.0rem\" font-weight=\"100\" text-anchor=\"middle\" >900</text>\n",
       "  <text x=\"173.042516\" y=\"63.642516\" font-size=\"1.0rem\" font-weight=\"100\" text-anchor=\"middle\" transform=\"rotate(-90,173.042516,63.642516)\">609</text>\n",
       "  <text x=\"11.521258\" y=\"112.721258\" font-size=\"1.0rem\" font-weight=\"100\" text-anchor=\"middle\" transform=\"rotate(45,11.521258,112.721258)\">100</text>\n",
       "</svg>\n",
       "        </td>\n",
       "    </tr>\n",
       "</table></div></li><li class='xr-var-item'><div class='xr-var-name'><span>usurf</span></div><div class='xr-var-dims'>(time, yu_ocean, xu_ocean)</div><div class='xr-var-dtype'>float64</div><div class='xr-var-preview xr-preview'>dask.array&lt;chunksize=(1, 609, 900), meta=np.ndarray&gt;</div><input id='attrs-cd088954-f2d1-437c-86a8-22eef4c50f0d' class='xr-var-attrs-in' type='checkbox' ><label for='attrs-cd088954-f2d1-437c-86a8-22eef4c50f0d' title='Show/Hide attributes'><svg class='icon xr-icon-file-text2'><use xlink:href='#icon-file-text2'></use></svg></label><input id='data-8bff7ac8-9f9f-42a7-aed0-6923e542d206' class='xr-var-data-in' type='checkbox'><label for='data-8bff7ac8-9f9f-42a7-aed0-6923e542d206' title='Show/Hide data repr'><svg class='icon xr-icon-database'><use xlink:href='#icon-database'></use></svg></label><div class='xr-var-attrs'><dl class='xr-attrs'><dt><span>type :</span></dt><dd>input</dd></dl></div><div class='xr-var-data'><table>\n",
       "    <tr>\n",
       "        <td>\n",
       "            <table style=\"border-collapse: collapse;\">\n",
       "                <thead>\n",
       "                    <tr>\n",
       "                        <td> </td>\n",
       "                        <th> Array </th>\n",
       "                        <th> Chunk </th>\n",
       "                    </tr>\n",
       "                </thead>\n",
       "                <tbody>\n",
       "                    \n",
       "                    <tr>\n",
       "                        <th> Bytes </th>\n",
       "                        <td> 418.17 MiB </td>\n",
       "                        <td> 4.18 MiB </td>\n",
       "                    </tr>\n",
       "                    \n",
       "                    <tr>\n",
       "                        <th> Shape </th>\n",
       "                        <td> (100, 609, 900) </td>\n",
       "                        <td> (1, 609, 900) </td>\n",
       "                    </tr>\n",
       "                    <tr>\n",
       "                        <th> Dask graph </th>\n",
       "                        <td colspan=\"2\"> 100 chunks in 2 graph layers </td>\n",
       "                    </tr>\n",
       "                    <tr>\n",
       "                        <th> Data type </th>\n",
       "                        <td colspan=\"2\"> float64 numpy.ndarray </td>\n",
       "                    </tr>\n",
       "                </tbody>\n",
       "            </table>\n",
       "        </td>\n",
       "        <td>\n",
       "        <svg width=\"203\" height=\"154\" style=\"stroke:rgb(0,0,0);stroke-width:1\" >\n",
       "\n",
       "  <!-- Horizontal lines -->\n",
       "  <line x1=\"10\" y1=\"0\" x2=\"33\" y2=\"23\" style=\"stroke-width:2\" />\n",
       "  <line x1=\"10\" y1=\"81\" x2=\"33\" y2=\"104\" style=\"stroke-width:2\" />\n",
       "\n",
       "  <!-- Vertical lines -->\n",
       "  <line x1=\"10\" y1=\"0\" x2=\"10\" y2=\"81\" style=\"stroke-width:2\" />\n",
       "  <line x1=\"11\" y1=\"1\" x2=\"11\" y2=\"82\" />\n",
       "  <line x1=\"12\" y1=\"2\" x2=\"12\" y2=\"83\" />\n",
       "  <line x1=\"13\" y1=\"3\" x2=\"13\" y2=\"84\" />\n",
       "  <line x1=\"14\" y1=\"4\" x2=\"14\" y2=\"86\" />\n",
       "  <line x1=\"15\" y1=\"5\" x2=\"15\" y2=\"87\" />\n",
       "  <line x1=\"17\" y1=\"7\" x2=\"17\" y2=\"88\" />\n",
       "  <line x1=\"18\" y1=\"8\" x2=\"18\" y2=\"89\" />\n",
       "  <line x1=\"19\" y1=\"9\" x2=\"19\" y2=\"90\" />\n",
       "  <line x1=\"20\" y1=\"10\" x2=\"20\" y2=\"92\" />\n",
       "  <line x1=\"21\" y1=\"11\" x2=\"21\" y2=\"93\" />\n",
       "  <line x1=\"23\" y1=\"13\" x2=\"23\" y2=\"94\" />\n",
       "  <line x1=\"24\" y1=\"14\" x2=\"24\" y2=\"95\" />\n",
       "  <line x1=\"25\" y1=\"15\" x2=\"25\" y2=\"96\" />\n",
       "  <line x1=\"26\" y1=\"16\" x2=\"26\" y2=\"98\" />\n",
       "  <line x1=\"27\" y1=\"17\" x2=\"27\" y2=\"99\" />\n",
       "  <line x1=\"29\" y1=\"19\" x2=\"29\" y2=\"100\" />\n",
       "  <line x1=\"30\" y1=\"20\" x2=\"30\" y2=\"101\" />\n",
       "  <line x1=\"31\" y1=\"21\" x2=\"31\" y2=\"102\" />\n",
       "  <line x1=\"33\" y1=\"23\" x2=\"33\" y2=\"104\" style=\"stroke-width:2\" />\n",
       "\n",
       "  <!-- Colored Rectangle -->\n",
       "  <polygon points=\"10.0,0.0 33.04251631306393,23.042516313063924 33.04251631306393,104.24251631306393 10.0,81.2\" style=\"fill:#8B4903A0;stroke-width:0\"/>\n",
       "\n",
       "  <!-- Horizontal lines -->\n",
       "  <line x1=\"10\" y1=\"0\" x2=\"130\" y2=\"0\" style=\"stroke-width:2\" />\n",
       "  <line x1=\"11\" y1=\"1\" x2=\"131\" y2=\"1\" />\n",
       "  <line x1=\"12\" y1=\"2\" x2=\"132\" y2=\"2\" />\n",
       "  <line x1=\"13\" y1=\"3\" x2=\"133\" y2=\"3\" />\n",
       "  <line x1=\"14\" y1=\"4\" x2=\"134\" y2=\"4\" />\n",
       "  <line x1=\"15\" y1=\"5\" x2=\"135\" y2=\"5\" />\n",
       "  <line x1=\"17\" y1=\"7\" x2=\"137\" y2=\"7\" />\n",
       "  <line x1=\"18\" y1=\"8\" x2=\"138\" y2=\"8\" />\n",
       "  <line x1=\"19\" y1=\"9\" x2=\"139\" y2=\"9\" />\n",
       "  <line x1=\"20\" y1=\"10\" x2=\"140\" y2=\"10\" />\n",
       "  <line x1=\"21\" y1=\"11\" x2=\"141\" y2=\"11\" />\n",
       "  <line x1=\"23\" y1=\"13\" x2=\"143\" y2=\"13\" />\n",
       "  <line x1=\"24\" y1=\"14\" x2=\"144\" y2=\"14\" />\n",
       "  <line x1=\"25\" y1=\"15\" x2=\"145\" y2=\"15\" />\n",
       "  <line x1=\"26\" y1=\"16\" x2=\"146\" y2=\"16\" />\n",
       "  <line x1=\"27\" y1=\"17\" x2=\"147\" y2=\"17\" />\n",
       "  <line x1=\"29\" y1=\"19\" x2=\"149\" y2=\"19\" />\n",
       "  <line x1=\"30\" y1=\"20\" x2=\"150\" y2=\"20\" />\n",
       "  <line x1=\"31\" y1=\"21\" x2=\"151\" y2=\"21\" />\n",
       "  <line x1=\"33\" y1=\"23\" x2=\"153\" y2=\"23\" style=\"stroke-width:2\" />\n",
       "\n",
       "  <!-- Vertical lines -->\n",
       "  <line x1=\"10\" y1=\"0\" x2=\"33\" y2=\"23\" style=\"stroke-width:2\" />\n",
       "  <line x1=\"130\" y1=\"0\" x2=\"153\" y2=\"23\" style=\"stroke-width:2\" />\n",
       "\n",
       "  <!-- Colored Rectangle -->\n",
       "  <polygon points=\"10.0,0.0 130.0,0.0 153.0425163130639,23.042516313063924 33.04251631306393,23.042516313063924\" style=\"fill:#8B4903A0;stroke-width:0\"/>\n",
       "\n",
       "  <!-- Horizontal lines -->\n",
       "  <line x1=\"33\" y1=\"23\" x2=\"153\" y2=\"23\" style=\"stroke-width:2\" />\n",
       "  <line x1=\"33\" y1=\"104\" x2=\"153\" y2=\"104\" style=\"stroke-width:2\" />\n",
       "\n",
       "  <!-- Vertical lines -->\n",
       "  <line x1=\"33\" y1=\"23\" x2=\"33\" y2=\"104\" style=\"stroke-width:2\" />\n",
       "  <line x1=\"153\" y1=\"23\" x2=\"153\" y2=\"104\" style=\"stroke-width:2\" />\n",
       "\n",
       "  <!-- Colored Rectangle -->\n",
       "  <polygon points=\"33.04251631306393,23.042516313063924 153.0425163130639,23.042516313063924 153.0425163130639,104.24251631306393 33.04251631306393,104.24251631306393\" style=\"fill:#ECB172A0;stroke-width:0\"/>\n",
       "\n",
       "  <!-- Text -->\n",
       "  <text x=\"93.042516\" y=\"124.242516\" font-size=\"1.0rem\" font-weight=\"100\" text-anchor=\"middle\" >900</text>\n",
       "  <text x=\"173.042516\" y=\"63.642516\" font-size=\"1.0rem\" font-weight=\"100\" text-anchor=\"middle\" transform=\"rotate(-90,173.042516,63.642516)\">609</text>\n",
       "  <text x=\"11.521258\" y=\"112.721258\" font-size=\"1.0rem\" font-weight=\"100\" text-anchor=\"middle\" transform=\"rotate(45,11.521258,112.721258)\">100</text>\n",
       "</svg>\n",
       "        </td>\n",
       "    </tr>\n",
       "</table></div></li><li class='xr-var-item'><div class='xr-var-name'><span>vsurf</span></div><div class='xr-var-dims'>(time, yu_ocean, xu_ocean)</div><div class='xr-var-dtype'>float64</div><div class='xr-var-preview xr-preview'>dask.array&lt;chunksize=(1, 609, 900), meta=np.ndarray&gt;</div><input id='attrs-6a23e55f-2e95-4558-bb51-b6af3148bfd2' class='xr-var-attrs-in' type='checkbox' ><label for='attrs-6a23e55f-2e95-4558-bb51-b6af3148bfd2' title='Show/Hide attributes'><svg class='icon xr-icon-file-text2'><use xlink:href='#icon-file-text2'></use></svg></label><input id='data-e61d08da-8729-4ae3-b000-855edd24cc4e' class='xr-var-data-in' type='checkbox'><label for='data-e61d08da-8729-4ae3-b000-855edd24cc4e' title='Show/Hide data repr'><svg class='icon xr-icon-database'><use xlink:href='#icon-database'></use></svg></label><div class='xr-var-attrs'><dl class='xr-attrs'><dt><span>type :</span></dt><dd>input</dd></dl></div><div class='xr-var-data'><table>\n",
       "    <tr>\n",
       "        <td>\n",
       "            <table style=\"border-collapse: collapse;\">\n",
       "                <thead>\n",
       "                    <tr>\n",
       "                        <td> </td>\n",
       "                        <th> Array </th>\n",
       "                        <th> Chunk </th>\n",
       "                    </tr>\n",
       "                </thead>\n",
       "                <tbody>\n",
       "                    \n",
       "                    <tr>\n",
       "                        <th> Bytes </th>\n",
       "                        <td> 418.17 MiB </td>\n",
       "                        <td> 4.18 MiB </td>\n",
       "                    </tr>\n",
       "                    \n",
       "                    <tr>\n",
       "                        <th> Shape </th>\n",
       "                        <td> (100, 609, 900) </td>\n",
       "                        <td> (1, 609, 900) </td>\n",
       "                    </tr>\n",
       "                    <tr>\n",
       "                        <th> Dask graph </th>\n",
       "                        <td colspan=\"2\"> 100 chunks in 2 graph layers </td>\n",
       "                    </tr>\n",
       "                    <tr>\n",
       "                        <th> Data type </th>\n",
       "                        <td colspan=\"2\"> float64 numpy.ndarray </td>\n",
       "                    </tr>\n",
       "                </tbody>\n",
       "            </table>\n",
       "        </td>\n",
       "        <td>\n",
       "        <svg width=\"203\" height=\"154\" style=\"stroke:rgb(0,0,0);stroke-width:1\" >\n",
       "\n",
       "  <!-- Horizontal lines -->\n",
       "  <line x1=\"10\" y1=\"0\" x2=\"33\" y2=\"23\" style=\"stroke-width:2\" />\n",
       "  <line x1=\"10\" y1=\"81\" x2=\"33\" y2=\"104\" style=\"stroke-width:2\" />\n",
       "\n",
       "  <!-- Vertical lines -->\n",
       "  <line x1=\"10\" y1=\"0\" x2=\"10\" y2=\"81\" style=\"stroke-width:2\" />\n",
       "  <line x1=\"11\" y1=\"1\" x2=\"11\" y2=\"82\" />\n",
       "  <line x1=\"12\" y1=\"2\" x2=\"12\" y2=\"83\" />\n",
       "  <line x1=\"13\" y1=\"3\" x2=\"13\" y2=\"84\" />\n",
       "  <line x1=\"14\" y1=\"4\" x2=\"14\" y2=\"86\" />\n",
       "  <line x1=\"15\" y1=\"5\" x2=\"15\" y2=\"87\" />\n",
       "  <line x1=\"17\" y1=\"7\" x2=\"17\" y2=\"88\" />\n",
       "  <line x1=\"18\" y1=\"8\" x2=\"18\" y2=\"89\" />\n",
       "  <line x1=\"19\" y1=\"9\" x2=\"19\" y2=\"90\" />\n",
       "  <line x1=\"20\" y1=\"10\" x2=\"20\" y2=\"92\" />\n",
       "  <line x1=\"21\" y1=\"11\" x2=\"21\" y2=\"93\" />\n",
       "  <line x1=\"23\" y1=\"13\" x2=\"23\" y2=\"94\" />\n",
       "  <line x1=\"24\" y1=\"14\" x2=\"24\" y2=\"95\" />\n",
       "  <line x1=\"25\" y1=\"15\" x2=\"25\" y2=\"96\" />\n",
       "  <line x1=\"26\" y1=\"16\" x2=\"26\" y2=\"98\" />\n",
       "  <line x1=\"27\" y1=\"17\" x2=\"27\" y2=\"99\" />\n",
       "  <line x1=\"29\" y1=\"19\" x2=\"29\" y2=\"100\" />\n",
       "  <line x1=\"30\" y1=\"20\" x2=\"30\" y2=\"101\" />\n",
       "  <line x1=\"31\" y1=\"21\" x2=\"31\" y2=\"102\" />\n",
       "  <line x1=\"33\" y1=\"23\" x2=\"33\" y2=\"104\" style=\"stroke-width:2\" />\n",
       "\n",
       "  <!-- Colored Rectangle -->\n",
       "  <polygon points=\"10.0,0.0 33.04251631306393,23.042516313063924 33.04251631306393,104.24251631306393 10.0,81.2\" style=\"fill:#8B4903A0;stroke-width:0\"/>\n",
       "\n",
       "  <!-- Horizontal lines -->\n",
       "  <line x1=\"10\" y1=\"0\" x2=\"130\" y2=\"0\" style=\"stroke-width:2\" />\n",
       "  <line x1=\"11\" y1=\"1\" x2=\"131\" y2=\"1\" />\n",
       "  <line x1=\"12\" y1=\"2\" x2=\"132\" y2=\"2\" />\n",
       "  <line x1=\"13\" y1=\"3\" x2=\"133\" y2=\"3\" />\n",
       "  <line x1=\"14\" y1=\"4\" x2=\"134\" y2=\"4\" />\n",
       "  <line x1=\"15\" y1=\"5\" x2=\"135\" y2=\"5\" />\n",
       "  <line x1=\"17\" y1=\"7\" x2=\"137\" y2=\"7\" />\n",
       "  <line x1=\"18\" y1=\"8\" x2=\"138\" y2=\"8\" />\n",
       "  <line x1=\"19\" y1=\"9\" x2=\"139\" y2=\"9\" />\n",
       "  <line x1=\"20\" y1=\"10\" x2=\"140\" y2=\"10\" />\n",
       "  <line x1=\"21\" y1=\"11\" x2=\"141\" y2=\"11\" />\n",
       "  <line x1=\"23\" y1=\"13\" x2=\"143\" y2=\"13\" />\n",
       "  <line x1=\"24\" y1=\"14\" x2=\"144\" y2=\"14\" />\n",
       "  <line x1=\"25\" y1=\"15\" x2=\"145\" y2=\"15\" />\n",
       "  <line x1=\"26\" y1=\"16\" x2=\"146\" y2=\"16\" />\n",
       "  <line x1=\"27\" y1=\"17\" x2=\"147\" y2=\"17\" />\n",
       "  <line x1=\"29\" y1=\"19\" x2=\"149\" y2=\"19\" />\n",
       "  <line x1=\"30\" y1=\"20\" x2=\"150\" y2=\"20\" />\n",
       "  <line x1=\"31\" y1=\"21\" x2=\"151\" y2=\"21\" />\n",
       "  <line x1=\"33\" y1=\"23\" x2=\"153\" y2=\"23\" style=\"stroke-width:2\" />\n",
       "\n",
       "  <!-- Vertical lines -->\n",
       "  <line x1=\"10\" y1=\"0\" x2=\"33\" y2=\"23\" style=\"stroke-width:2\" />\n",
       "  <line x1=\"130\" y1=\"0\" x2=\"153\" y2=\"23\" style=\"stroke-width:2\" />\n",
       "\n",
       "  <!-- Colored Rectangle -->\n",
       "  <polygon points=\"10.0,0.0 130.0,0.0 153.0425163130639,23.042516313063924 33.04251631306393,23.042516313063924\" style=\"fill:#8B4903A0;stroke-width:0\"/>\n",
       "\n",
       "  <!-- Horizontal lines -->\n",
       "  <line x1=\"33\" y1=\"23\" x2=\"153\" y2=\"23\" style=\"stroke-width:2\" />\n",
       "  <line x1=\"33\" y1=\"104\" x2=\"153\" y2=\"104\" style=\"stroke-width:2\" />\n",
       "\n",
       "  <!-- Vertical lines -->\n",
       "  <line x1=\"33\" y1=\"23\" x2=\"33\" y2=\"104\" style=\"stroke-width:2\" />\n",
       "  <line x1=\"153\" y1=\"23\" x2=\"153\" y2=\"104\" style=\"stroke-width:2\" />\n",
       "\n",
       "  <!-- Colored Rectangle -->\n",
       "  <polygon points=\"33.04251631306393,23.042516313063924 153.0425163130639,23.042516313063924 153.0425163130639,104.24251631306393 33.04251631306393,104.24251631306393\" style=\"fill:#ECB172A0;stroke-width:0\"/>\n",
       "\n",
       "  <!-- Text -->\n",
       "  <text x=\"93.042516\" y=\"124.242516\" font-size=\"1.0rem\" font-weight=\"100\" text-anchor=\"middle\" >900</text>\n",
       "  <text x=\"173.042516\" y=\"63.642516\" font-size=\"1.0rem\" font-weight=\"100\" text-anchor=\"middle\" transform=\"rotate(-90,173.042516,63.642516)\">609</text>\n",
       "  <text x=\"11.521258\" y=\"112.721258\" font-size=\"1.0rem\" font-weight=\"100\" text-anchor=\"middle\" transform=\"rotate(45,11.521258,112.721258)\">100</text>\n",
       "</svg>\n",
       "        </td>\n",
       "    </tr>\n",
       "</table></div></li></ul></div></li><li class='xr-section-item'><input id='section-95c6c084-9d45-43ee-b6aa-1c750f73e0a9' class='xr-section-summary-in' type='checkbox'  ><label for='section-95c6c084-9d45-43ee-b6aa-1c750f73e0a9' class='xr-section-summary' >Indexes: <span>(3)</span></label><div class='xr-section-inline-details'></div><div class='xr-section-details'><ul class='xr-var-list'><li class='xr-var-item'><div class='xr-index-name'><div>time</div></div><div class='xr-index-preview'>PandasIndex</div><div></div><input id='index-ae688a93-675e-434e-b5b0-8c26fc4677d8' class='xr-index-data-in' type='checkbox'/><label for='index-ae688a93-675e-434e-b5b0-8c26fc4677d8' title='Show/Hide index repr'><svg class='icon xr-icon-database'><use xlink:href='#icon-database'></use></svg></label><div class='xr-index-data'><pre>PandasIndex(CFTimeIndex([0181-01-01 12:00:00, 0181-01-02 12:00:00, 0181-01-03 12:00:00,\n",
       "             0181-01-04 12:00:00, 0181-01-05 12:00:00, 0181-01-06 12:00:00,\n",
       "             0181-01-07 12:00:00, 0181-01-08 12:00:00, 0181-01-09 12:00:00,\n",
       "             0181-01-10 12:00:00, 0181-01-11 12:00:00, 0181-01-12 12:00:00,\n",
       "             0181-01-13 12:00:00, 0181-01-14 12:00:00, 0181-01-15 12:00:00,\n",
       "             0181-01-16 12:00:00, 0181-01-17 12:00:00, 0181-01-18 12:00:00,\n",
       "             0181-01-19 12:00:00, 0181-01-20 12:00:00, 0181-01-21 12:00:00,\n",
       "             0181-01-22 12:00:00, 0181-01-23 12:00:00, 0181-01-24 12:00:00,\n",
       "             0181-01-25 12:00:00, 0181-01-26 12:00:00, 0181-01-27 12:00:00,\n",
       "             0181-01-28 12:00:00, 0181-01-29 12:00:00, 0181-01-30 12:00:00,\n",
       "             0181-01-31 12:00:00, 0181-02-01 12:00:00, 0181-02-02 12:00:00,\n",
       "             0181-02-03 12:00:00, 0181-02-04 12:00:00, 0181-02-05 12:00:00,\n",
       "             0181-02-06 12:00:00, 0181-02-07 12:00:00, 0181-02-08 12:00:00,\n",
       "             0181-02-09 12:00:00, 0181-02-10 12:00:00, 0181-02-11 12:00:00,\n",
       "             0181-02-12 12:00:00, 0181-02-13 12:00:00, 0181-02-14 12:00:00,\n",
       "             0181-02-15 12:00:00, 0181-02-16 12:00:00, 0181-02-17 12:00:00,\n",
       "             0181-02-18 12:00:00, 0181-02-19 12:00:00, 0181-02-20 12:00:00,\n",
       "             0181-02-21 12:00:00, 0181-02-22 12:00:00, 0181-02-23 12:00:00,\n",
       "             0181-02-24 12:00:00, 0181-02-25 12:00:00, 0181-02-26 12:00:00,\n",
       "             0181-02-27 12:00:00, 0181-02-28 12:00:00, 0181-03-01 12:00:00,\n",
       "             0181-03-02 12:00:00, 0181-03-03 12:00:00, 0181-03-04 12:00:00,\n",
       "             0181-03-05 12:00:00, 0181-03-06 12:00:00, 0181-03-07 12:00:00,\n",
       "             0181-03-08 12:00:00, 0181-03-09 12:00:00, 0181-03-10 12:00:00,\n",
       "             0181-03-11 12:00:00, 0181-03-12 12:00:00, 0181-03-13 12:00:00,\n",
       "             0181-03-14 12:00:00, 0181-03-15 12:00:00, 0181-03-16 12:00:00,\n",
       "             0181-03-17 12:00:00, 0181-03-18 12:00:00, 0181-03-19 12:00:00,\n",
       "             0181-03-20 12:00:00, 0181-03-21 12:00:00, 0181-03-22 12:00:00,\n",
       "             0181-03-23 12:00:00, 0181-03-24 12:00:00, 0181-03-25 12:00:00,\n",
       "             0181-03-26 12:00:00, 0181-03-27 12:00:00, 0181-03-28 12:00:00,\n",
       "             0181-03-29 12:00:00, 0181-03-30 12:00:00, 0181-03-31 12:00:00,\n",
       "             0181-04-01 12:00:00, 0181-04-02 12:00:00, 0181-04-03 12:00:00,\n",
       "             0181-04-04 12:00:00, 0181-04-05 12:00:00, 0181-04-06 12:00:00,\n",
       "             0181-04-07 12:00:00, 0181-04-08 12:00:00, 0181-04-09 12:00:00,\n",
       "             0181-04-10 12:00:00],\n",
       "            dtype=&#x27;object&#x27;, length=100, calendar=&#x27;julian&#x27;, freq=&#x27;D&#x27;))</pre></div></li><li class='xr-var-item'><div class='xr-index-name'><div>xu_ocean</div></div><div class='xr-index-preview'>PandasIndex</div><div></div><input id='index-ecd8219d-43a8-4ea5-a115-fdafc2598a8e' class='xr-index-data-in' type='checkbox'/><label for='index-ecd8219d-43a8-4ea5-a115-fdafc2598a8e' title='Show/Hide index repr'><svg class='icon xr-icon-database'><use xlink:href='#icon-database'></use></svg></label><div class='xr-index-data'><pre>PandasIndex(Index([-279.74999999999994, -279.34999999999985, -278.94999999999976,\n",
       "       -278.54999999999967,  -278.1499999999996,  -277.7499999999995,\n",
       "        -277.3499999999994,  -276.9499999999993,  -276.5499999999992,\n",
       "        -276.1499999999991,\n",
       "       ...\n",
       "          76.2499999999951,   76.64999999999507,   77.04999999999505,\n",
       "         77.44999999999503,     77.849999999995,   78.24999999999498,\n",
       "         78.64999999999496,   79.04999999999494,   79.44999999999492,\n",
       "         79.84999999999617],\n",
       "      dtype=&#x27;float64&#x27;, name=&#x27;xu_ocean&#x27;, length=900))</pre></div></li><li class='xr-var-item'><div class='xr-index-name'><div>yu_ocean</div></div><div class='xr-index-preview'>PandasIndex</div><div></div><input id='index-4510160e-480e-43d2-959a-bf54f312cd84' class='xr-index-data-in' type='checkbox'/><label for='index-4510160e-480e-43d2-959a-bf54f312cd84' title='Show/Hide index repr'><svg class='icon xr-icon-database'><use xlink:href='#icon-database'></use></svg></label><div class='xr-index-data'><pre>PandasIndex(Index([-79.92592975570126, -79.75697233817932, -79.58801492065739,\n",
       "       -79.41905750313545, -79.25010008561351, -79.08114266809157,\n",
       "       -78.91218525056964,  -78.7432278330477, -78.57427041552576,\n",
       "       -78.40531299800382,\n",
       "       ...\n",
       "        78.36307364362334,  78.53203106114528,  78.70098847866721,\n",
       "        78.86994589618915,  79.03890331371109,  79.20786073123303,\n",
       "        79.37681814875496,   79.5457755662769,  79.71473298379884,\n",
       "        79.88369040132078],\n",
       "      dtype=&#x27;float64&#x27;, name=&#x27;yu_ocean&#x27;, length=609))</pre></div></li></ul></div></li><li class='xr-section-item'><input id='section-fae6c96c-85be-44b9-8abd-f80aa6ad5993' class='xr-section-summary-in' type='checkbox' disabled ><label for='section-fae6c96c-85be-44b9-8abd-f80aa6ad5993' class='xr-section-summary'  title='Expand/collapse section'>Attributes: <span>(0)</span></label><div class='xr-section-inline-details'></div><div class='xr-section-details'><dl class='xr-attrs'></dl></div></li></ul></div></div>"
      ],
      "text/plain": [
       "<xarray.Dataset>\n",
       "Dimensions:   (time: 100, yu_ocean: 609, xu_ocean: 900)\n",
       "Coordinates:\n",
       "  * time      (time) object 0181-01-01 12:00:00 ... 0181-04-10 12:00:00\n",
       "  * xu_ocean  (xu_ocean) float64 -279.7 -279.3 -278.9 ... 79.05 79.45 79.85\n",
       "  * yu_ocean  (yu_ocean) float64 -79.93 -79.76 -79.59 ... 79.55 79.71 79.88\n",
       "Data variables:\n",
       "    S_x       (time, yu_ocean, xu_ocean) float64 dask.array<chunksize=(1, 609, 900), meta=np.ndarray>\n",
       "    S_y       (time, yu_ocean, xu_ocean) float64 dask.array<chunksize=(1, 609, 900), meta=np.ndarray>\n",
       "    usurf     (time, yu_ocean, xu_ocean) float64 dask.array<chunksize=(1, 609, 900), meta=np.ndarray>\n",
       "    vsurf     (time, yu_ocean, xu_ocean) float64 dask.array<chunksize=(1, 609, 900), meta=np.ndarray>"
      ]
     },
     "execution_count": 9,
     "metadata": {},
     "output_type": "execute_result"
    }
   ],
   "source": [
    "data"
   ]
  },
  {
   "cell_type": "code",
   "execution_count": 10,
   "metadata": {},
   "outputs": [
    {
     "ename": "KeyError",
     "evalue": "'longitude'",
     "output_type": "error",
     "traceback": [
      "\u001b[0;31m---------------------------------------------------------------------------\u001b[0m",
      "\u001b[0;31mKeyError\u001b[0m                                  Traceback (most recent call last)",
      "File \u001b[0;32m~/proj/work/2020-ukc-camfort-iccs/iccs/proj/gz21/gz21/venv/lib/python3.11/site-packages/xarray/core/dataarray.py:839\u001b[0m, in \u001b[0;36mDataArray._getitem_coord\u001b[0;34m(self, key)\u001b[0m\n\u001b[1;32m    838\u001b[0m \u001b[38;5;28;01mtry\u001b[39;00m:\n\u001b[0;32m--> 839\u001b[0m     var \u001b[38;5;241m=\u001b[39m \u001b[38;5;28;43mself\u001b[39;49m\u001b[38;5;241;43m.\u001b[39;49m\u001b[43m_coords\u001b[49m\u001b[43m[\u001b[49m\u001b[43mkey\u001b[49m\u001b[43m]\u001b[49m\n\u001b[1;32m    840\u001b[0m \u001b[38;5;28;01mexcept\u001b[39;00m \u001b[38;5;167;01mKeyError\u001b[39;00m:\n",
      "\u001b[0;31mKeyError\u001b[0m: 'longitude'",
      "\nDuring handling of the above exception, another exception occurred:\n",
      "\u001b[0;31mKeyError\u001b[0m                                  Traceback (most recent call last)",
      "\u001b[0;32m/tmp/nix-shell.ifovvA/ipykernel_153458/666010548.py\u001b[0m in \u001b[0;36m?\u001b[0;34m()\u001b[0m\n\u001b[0;32m----> 1\u001b[0;31m uv_plotter.plot(data['S_x'].isel(time=70), lon=0., projection_cls = ccrs.PlateCarree,\n\u001b[0m\u001b[1;32m      2\u001b[0m                 colorbar_label='m/s', cmap=cmocean.cm.delta, vmin=-1, vmax=1)\n",
      "\u001b[0;32m~/proj/work/2020-ukc-camfort-iccs/iccs/proj/gz21/gz21/src/gz21_ocean_momentum/analysis/utils.py\u001b[0m in \u001b[0;36m?\u001b[0;34m(self, u, projection_cls, lon, lat, ax, animated, borders_color, borders_alpha, colorbar_label, **plot_func_kw)\u001b[0m\n\u001b[1;32m    427\u001b[0m         \u001b[0mfig\u001b[0m \u001b[0;34m=\u001b[0m \u001b[0mplt\u001b[0m\u001b[0;34m.\u001b[0m\u001b[0mfigure\u001b[0m\u001b[0;34m(\u001b[0m\u001b[0;34m)\u001b[0m\u001b[0;34m\u001b[0m\u001b[0;34m\u001b[0m\u001b[0m\n\u001b[1;32m    428\u001b[0m         \u001b[0mprojection\u001b[0m \u001b[0;34m=\u001b[0m \u001b[0mprojection_cls\u001b[0m\u001b[0;34m(\u001b[0m\u001b[0mlon\u001b[0m\u001b[0;34m)\u001b[0m\u001b[0;34m\u001b[0m\u001b[0;34m\u001b[0m\u001b[0m\n\u001b[1;32m    429\u001b[0m         \u001b[0;32mif\u001b[0m \u001b[0max\u001b[0m \u001b[0;32mis\u001b[0m \u001b[0;32mNone\u001b[0m\u001b[0;34m:\u001b[0m\u001b[0;34m\u001b[0m\u001b[0;34m\u001b[0m\u001b[0m\n\u001b[1;32m    430\u001b[0m             \u001b[0max\u001b[0m \u001b[0;34m=\u001b[0m \u001b[0mplt\u001b[0m\u001b[0;34m.\u001b[0m\u001b[0maxes\u001b[0m\u001b[0;34m(\u001b[0m\u001b[0mprojection\u001b[0m\u001b[0;34m=\u001b[0m\u001b[0mprojection\u001b[0m\u001b[0;34m)\u001b[0m\u001b[0;34m\u001b[0m\u001b[0;34m\u001b[0m\u001b[0m\n\u001b[0;32m--> 431\u001b[0;31m         \u001b[0mmesh_x\u001b[0m\u001b[0;34m,\u001b[0m \u001b[0mmesh_y\u001b[0m \u001b[0;34m=\u001b[0m \u001b[0mnp\u001b[0m\u001b[0;34m.\u001b[0m\u001b[0mmeshgrid\u001b[0m\u001b[0;34m(\u001b[0m\u001b[0mu\u001b[0m\u001b[0;34m[\u001b[0m\u001b[0;34m\"longitude\"\u001b[0m\u001b[0;34m]\u001b[0m\u001b[0;34m,\u001b[0m \u001b[0mu\u001b[0m\u001b[0;34m[\u001b[0m\u001b[0;34m\"latitude\"\u001b[0m\u001b[0;34m]\u001b[0m\u001b[0;34m)\u001b[0m\u001b[0;34m\u001b[0m\u001b[0;34m\u001b[0m\u001b[0m\n\u001b[0m\u001b[1;32m    432\u001b[0m         \u001b[0;32mif\u001b[0m \u001b[0mu\u001b[0m \u001b[0;32mis\u001b[0m \u001b[0;32mnot\u001b[0m \u001b[0;32mNone\u001b[0m\u001b[0;34m:\u001b[0m\u001b[0;34m\u001b[0m\u001b[0;34m\u001b[0m\u001b[0m\n\u001b[1;32m    433\u001b[0m             \u001b[0mextra\u001b[0m \u001b[0;34m=\u001b[0m \u001b[0mself\u001b[0m\u001b[0;34m.\u001b[0m\u001b[0mmask\u001b[0m\u001b[0;34m.\u001b[0m\u001b[0misel\u001b[0m\u001b[0;34m(\u001b[0m\u001b[0mlongitude\u001b[0m\u001b[0;34m=\u001b[0m\u001b[0mslice\u001b[0m\u001b[0;34m(\u001b[0m\u001b[0;36m0\u001b[0m\u001b[0;34m,\u001b[0m \u001b[0;36m10\u001b[0m\u001b[0;34m)\u001b[0m\u001b[0;34m)\u001b[0m\u001b[0;34m\u001b[0m\u001b[0;34m\u001b[0m\u001b[0m\n\u001b[1;32m    434\u001b[0m             \u001b[0mextra\u001b[0m\u001b[0;34m[\u001b[0m\u001b[0;34m\"longitude\"\u001b[0m\u001b[0;34m]\u001b[0m \u001b[0;34m=\u001b[0m \u001b[0mextra\u001b[0m\u001b[0;34m[\u001b[0m\u001b[0;34m\"longitude\"\u001b[0m\u001b[0;34m]\u001b[0m \u001b[0;34m+\u001b[0m \u001b[0;36m360\u001b[0m\u001b[0;34m\u001b[0m\u001b[0;34m\u001b[0m\u001b[0m\n",
      "\u001b[0;32m~/proj/work/2020-ukc-camfort-iccs/iccs/proj/gz21/gz21/venv/lib/python3.11/site-packages/xarray/core/dataarray.py\u001b[0m in \u001b[0;36m?\u001b[0;34m(self, key)\u001b[0m\n\u001b[1;32m    846\u001b[0m     \u001b[0;32mdef\u001b[0m \u001b[0m__getitem__\u001b[0m\u001b[0;34m(\u001b[0m\u001b[0mself\u001b[0m\u001b[0;34m,\u001b[0m \u001b[0mkey\u001b[0m\u001b[0;34m:\u001b[0m \u001b[0mAny\u001b[0m\u001b[0;34m)\u001b[0m \u001b[0;34m->\u001b[0m \u001b[0mSelf\u001b[0m\u001b[0;34m:\u001b[0m\u001b[0;34m\u001b[0m\u001b[0;34m\u001b[0m\u001b[0m\n\u001b[1;32m    847\u001b[0m         \u001b[0;32mif\u001b[0m \u001b[0misinstance\u001b[0m\u001b[0;34m(\u001b[0m\u001b[0mkey\u001b[0m\u001b[0;34m,\u001b[0m \u001b[0mstr\u001b[0m\u001b[0;34m)\u001b[0m\u001b[0;34m:\u001b[0m\u001b[0;34m\u001b[0m\u001b[0;34m\u001b[0m\u001b[0m\n\u001b[0;32m--> 848\u001b[0;31m             \u001b[0;32mreturn\u001b[0m \u001b[0mself\u001b[0m\u001b[0;34m.\u001b[0m\u001b[0m_getitem_coord\u001b[0m\u001b[0;34m(\u001b[0m\u001b[0mkey\u001b[0m\u001b[0;34m)\u001b[0m\u001b[0;34m\u001b[0m\u001b[0;34m\u001b[0m\u001b[0m\n\u001b[0m\u001b[1;32m    849\u001b[0m         \u001b[0;32melse\u001b[0m\u001b[0;34m:\u001b[0m\u001b[0;34m\u001b[0m\u001b[0;34m\u001b[0m\u001b[0m\n\u001b[1;32m    850\u001b[0m             \u001b[0;31m# xarray-style array indexing\u001b[0m\u001b[0;34m\u001b[0m\u001b[0;34m\u001b[0m\u001b[0m\n\u001b[1;32m    851\u001b[0m             \u001b[0;32mreturn\u001b[0m \u001b[0mself\u001b[0m\u001b[0;34m.\u001b[0m\u001b[0misel\u001b[0m\u001b[0;34m(\u001b[0m\u001b[0mindexers\u001b[0m\u001b[0;34m=\u001b[0m\u001b[0mself\u001b[0m\u001b[0;34m.\u001b[0m\u001b[0m_item_key_to_dict\u001b[0m\u001b[0;34m(\u001b[0m\u001b[0mkey\u001b[0m\u001b[0;34m)\u001b[0m\u001b[0;34m)\u001b[0m\u001b[0;34m\u001b[0m\u001b[0;34m\u001b[0m\u001b[0m\n",
      "\u001b[0;32m~/proj/work/2020-ukc-camfort-iccs/iccs/proj/gz21/gz21/venv/lib/python3.11/site-packages/xarray/core/dataarray.py\u001b[0m in \u001b[0;36m?\u001b[0;34m(self, key)\u001b[0m\n\u001b[1;32m    838\u001b[0m         \u001b[0;32mtry\u001b[0m\u001b[0;34m:\u001b[0m\u001b[0;34m\u001b[0m\u001b[0;34m\u001b[0m\u001b[0m\n\u001b[1;32m    839\u001b[0m             \u001b[0mvar\u001b[0m \u001b[0;34m=\u001b[0m \u001b[0mself\u001b[0m\u001b[0;34m.\u001b[0m\u001b[0m_coords\u001b[0m\u001b[0;34m[\u001b[0m\u001b[0mkey\u001b[0m\u001b[0;34m]\u001b[0m\u001b[0;34m\u001b[0m\u001b[0;34m\u001b[0m\u001b[0m\n\u001b[1;32m    840\u001b[0m         \u001b[0;32mexcept\u001b[0m \u001b[0mKeyError\u001b[0m\u001b[0;34m:\u001b[0m\u001b[0;34m\u001b[0m\u001b[0;34m\u001b[0m\u001b[0m\n\u001b[1;32m    841\u001b[0m             \u001b[0mdim_sizes\u001b[0m \u001b[0;34m=\u001b[0m \u001b[0mdict\u001b[0m\u001b[0;34m(\u001b[0m\u001b[0mzip\u001b[0m\u001b[0;34m(\u001b[0m\u001b[0mself\u001b[0m\u001b[0;34m.\u001b[0m\u001b[0mdims\u001b[0m\u001b[0;34m,\u001b[0m \u001b[0mself\u001b[0m\u001b[0;34m.\u001b[0m\u001b[0mshape\u001b[0m\u001b[0;34m)\u001b[0m\u001b[0;34m)\u001b[0m\u001b[0;34m\u001b[0m\u001b[0;34m\u001b[0m\u001b[0m\n\u001b[0;32m--> 842\u001b[0;31m             \u001b[0m_\u001b[0m\u001b[0;34m,\u001b[0m \u001b[0mkey\u001b[0m\u001b[0;34m,\u001b[0m \u001b[0mvar\u001b[0m \u001b[0;34m=\u001b[0m \u001b[0m_get_virtual_variable\u001b[0m\u001b[0;34m(\u001b[0m\u001b[0mself\u001b[0m\u001b[0;34m.\u001b[0m\u001b[0m_coords\u001b[0m\u001b[0;34m,\u001b[0m \u001b[0mkey\u001b[0m\u001b[0;34m,\u001b[0m \u001b[0mdim_sizes\u001b[0m\u001b[0;34m)\u001b[0m\u001b[0;34m\u001b[0m\u001b[0;34m\u001b[0m\u001b[0m\n\u001b[0m\u001b[1;32m    843\u001b[0m \u001b[0;34m\u001b[0m\u001b[0m\n\u001b[1;32m    844\u001b[0m         \u001b[0;32mreturn\u001b[0m \u001b[0mself\u001b[0m\u001b[0;34m.\u001b[0m\u001b[0m_replace_maybe_drop_dims\u001b[0m\u001b[0;34m(\u001b[0m\u001b[0mvar\u001b[0m\u001b[0;34m,\u001b[0m \u001b[0mname\u001b[0m\u001b[0;34m=\u001b[0m\u001b[0mkey\u001b[0m\u001b[0;34m)\u001b[0m\u001b[0;34m\u001b[0m\u001b[0;34m\u001b[0m\u001b[0m\n",
      "\u001b[0;32m~/proj/work/2020-ukc-camfort-iccs/iccs/proj/gz21/gz21/venv/lib/python3.11/site-packages/xarray/core/dataset.py\u001b[0m in \u001b[0;36m?\u001b[0;34m(variables, key, dim_sizes)\u001b[0m\n\u001b[1;32m    210\u001b[0m         \u001b[0;32mraise\u001b[0m \u001b[0mKeyError\u001b[0m\u001b[0;34m(\u001b[0m\u001b[0mkey\u001b[0m\u001b[0;34m)\u001b[0m\u001b[0;34m\u001b[0m\u001b[0;34m\u001b[0m\u001b[0m\n\u001b[1;32m    211\u001b[0m \u001b[0;34m\u001b[0m\u001b[0m\n\u001b[1;32m    212\u001b[0m     \u001b[0msplit_key\u001b[0m \u001b[0;34m=\u001b[0m \u001b[0mkey\u001b[0m\u001b[0;34m.\u001b[0m\u001b[0msplit\u001b[0m\u001b[0;34m(\u001b[0m\u001b[0;34m\".\"\u001b[0m\u001b[0;34m,\u001b[0m \u001b[0;36m1\u001b[0m\u001b[0;34m)\u001b[0m\u001b[0;34m\u001b[0m\u001b[0;34m\u001b[0m\u001b[0m\n\u001b[1;32m    213\u001b[0m     \u001b[0;32mif\u001b[0m \u001b[0mlen\u001b[0m\u001b[0;34m(\u001b[0m\u001b[0msplit_key\u001b[0m\u001b[0;34m)\u001b[0m \u001b[0;34m!=\u001b[0m \u001b[0;36m2\u001b[0m\u001b[0;34m:\u001b[0m\u001b[0;34m\u001b[0m\u001b[0;34m\u001b[0m\u001b[0m\n\u001b[0;32m--> 214\u001b[0;31m         \u001b[0;32mraise\u001b[0m \u001b[0mKeyError\u001b[0m\u001b[0;34m(\u001b[0m\u001b[0mkey\u001b[0m\u001b[0;34m)\u001b[0m\u001b[0;34m\u001b[0m\u001b[0;34m\u001b[0m\u001b[0m\n\u001b[0m\u001b[1;32m    215\u001b[0m \u001b[0;34m\u001b[0m\u001b[0m\n\u001b[1;32m    216\u001b[0m     \u001b[0mref_name\u001b[0m\u001b[0;34m,\u001b[0m \u001b[0mvar_name\u001b[0m \u001b[0;34m=\u001b[0m \u001b[0msplit_key\u001b[0m\u001b[0;34m\u001b[0m\u001b[0;34m\u001b[0m\u001b[0m\n\u001b[1;32m    217\u001b[0m     \u001b[0mref_var\u001b[0m \u001b[0;34m=\u001b[0m \u001b[0mvariables\u001b[0m\u001b[0;34m[\u001b[0m\u001b[0mref_name\u001b[0m\u001b[0;34m]\u001b[0m\u001b[0;34m\u001b[0m\u001b[0;34m\u001b[0m\u001b[0m\n",
      "\u001b[0;31mKeyError\u001b[0m: 'longitude'"
     ]
    },
    {
     "data": {
      "application/vnd.jupyter.widget-view+json": {
       "model_id": "ff8fe7a9c61540a3b88ab96ad03eb055",
       "version_major": 2,
       "version_minor": 0
      },
      "image/png": "[encoded data removed]",
      "text/html": [
       "\n",
       "            <div style=\"display: inline-block;\">\n",
       "                <div class=\"jupyter-widgets widget-label\" style=\"text-align: center;\">\n",
       "                    Figure\n",
       "                </div>\n",
       "                <img src='data:image/png;base64,iVBORw0KGgoAAAANSUhEUgAAAZAAAAD3CAYAAAAzOQKaAAAAOXRFWHRTb2Z0d2FyZQBNYXRwbG90bGliIHZlcnNpb24zLjguMSwgaHR0cHM6Ly9tYXRwbG90bGliLm9yZy/SrBM8AAAACXBIWXMAAA9hAAAPYQGoP6dpAAAEHElEQVR4nO3ZIW7jUBSG0ddRZQUFmwR0/4sqKAkOskzcFQTMN1bfNDpnBT+6H7hvx3EcAwD+0p/ZAwD4nQQEgERAAEgEBIBEQABIBASAREAASAQEgERAAEgEBIBEQABIBASAREAASAQEgERAAEgEBIBEQABIBASAREAASAQEgERAAEgEBIBEQABIBASAREAASAQEgERAAEgEBIBEQABIBASAREAASAQEgERAAEgEBIBEQABIBASAREAASAQEgERAAEgEBIBEQABIBASAREAASAQEgERAAEjeZw84y7ZtY9/32TMATrMsy7hcLrNnPPUSAdm2bXx8fIz7/T57CsBp1nUdn5+f/21EXiIg+76P+/0+vr6+xvV6nT0H4J89Ho9xu93Gvu8C8hOu16uAAPwQT3QAEgEBIBEQABIBASAREAASAQEgERAAEgEBIBEQABIBASAREAASAQEgERAAEgEBIBEQABIBASAREAASAQEgERAAEgEBIBEQABIBASAREAASAQEgERAAEgEBIBEQABIBASAREAASAQEgERAAEgEBIBEQABIBASAREAASAQEgERAAEgEBIBEQABIBASAREAASAQEgERAAEgEBIBEQABIBASAREAASAQEgERAAEgEBIBEQABIBASAREAASAQEgERAAEgEBIBEQABIBASAREAASAQEgERAAEgEBIBEQABIBASAREAASAQEgERAAEgEBIBEQABIBASAREAASAQEgERAAEgEBIBEQABIBASAREAASAQEgERAAEgEBIBEQABIBASAREAASAQEgERAAEgEBIBEQABIBASAREAASAQEgERAAEgEBIBEQABIBASAREAASAQEgERAAEgEBIBEQABIBASAREAASAQEgERAAEgEBIBEQABIBASAREAASAQEgERAAEgEBIBEQABIBASAREAASAQEgERAAEgEBIBEQABIBASAREAASAQEgERAAEgEBIBEQABIBASAREAASAQEgERAAEgEBIBEQABIBASAREAASAQEgERAAEgEBIBEQABIBASAREAASAQEgERAAEgEBIBEQABIBASAREAASAQEgERAAEgEBIBEQABIBASAREAASAQEgERAAkvfZA870eDxmTwA4xW+4Zy8RkGVZxrqu43a7zZ4CcJp1XceyLLNnPPV2HMcxe8QZtm0b+77PngFwmmVZxuVymT3jqZcJCAA/yxMdgERAAEgEBIBEQABIBASAREAASAQEgERAAEgEBIBEQABIBASAREAASAQEgERAAEgEBIBEQABIBASAREAASAQEgERAAEgEBIBEQABIBASAREAASAQEgERAAEgEBIBEQABIBASAREAASAQEgERAAEgEBIBEQABIBASAREAASAQEgERAAEgEBIBEQABIBASAREAASL4BysE4oyl+7gQAAAAASUVORK5CYII=' width=400.0/>\n",
       "            </div>\n",
       "        "
      ],
      "text/plain": [
       "Canvas(toolbar=Toolbar(toolitems=[('Home', 'Reset original view', 'home', 'home'), ('Back', 'Back to previous …"
      ]
     },
     "metadata": {},
     "output_type": "display_data"
    }
   ],
   "source": [
    "uv_plotter.plot(data['S_x'].isel(time=70), lon=0., projection_cls = ccrs.PlateCarree,\n",
    "                colorbar_label='m/s', cmap=cmocean.cm.delta, vmin=-1, vmax=1)"
   ]
  },
  {
   "cell_type": "markdown",
   "metadata": {},
   "source": [
    "Below is the plot shown in Figure 5 of the paper"
   ]
  },
  {
   "cell_type": "code",
   "execution_count": null,
   "metadata": {},
   "outputs": [],
   "source": [
    "def plot_time_series(data, pred, longitude: float, latitude: float, time: slice,\n",
    "                     std: bool = True, true: bool = True):\n",
    "    plt.figure()\n",
    "    xs = np.arange(time.start, time.stop, time.step)\n",
    "    truth = data['S_x'].sel(longitude=longitude, latitude=latitude,\n",
    "                            method='nearest').isel(time=time)\n",
    "    pred_mean = pred['S_x'].sel(longitude=longitude, latitude=latitude,\n",
    "                                method='nearest').isel(time=time)\n",
    "    pred_std = pred['S_xscale'].sel(longitude=longitude, latitude=latitude,\n",
    "                                    method='nearest').isel(time=time)\n",
    "    if true:\n",
    "        plt.plot(xs, truth, 'darkblue')\n",
    "    plt.plot(xs, pred_mean, 'darkorange')\n",
    "    if std:\n",
    "        plt.plot(xs, pred_mean + 1.96 * pred_std, 'g--', linewidth=1)\n",
    "        plt.plot(xs, pred_mean - 1.96 * pred_std, 'g--', linewidth=1)\n",
    "    plt.ylabel(r'$1e^{-7}m/s^2$')\n",
    "    _ = plt.xlabel('days')\n",
    "    \n",
    "time_slice=slice(0, 300)\n",
    "plt.rcParams[\"figure.figsize\"] = (4 * 2, 4 * 2 / 1.618)\n",
    "\n",
    "plot_time_series(data, pred, longitude=-60, latitude=30, time=time_slice, std=True, true=True)"
   ]
  },
  {
   "cell_type": "code",
   "execution_count": null,
   "metadata": {},
   "outputs": [],
   "source": [
    "plt.savefig(f\"timeseries-cm26-{cm26_sim_run}.jpg\", dpi=400)"
   ]
  },
  {
   "cell_type": "markdown",
   "metadata": {},
   "source": [
    "## MSE and R²"
   ]
  },
  {
   "cell_type": "markdown",
   "metadata": {},
   "source": [
    "First we compute the seasonal (monthly) means of the data. This will be used later in some of the metrics."
   ]
  },
  {
   "cell_type": "code",
   "execution_count": null,
   "metadata": {},
   "outputs": [],
   "source": [
    "forcing_vars = ['S_x', 'S_y']\n",
    "errors = pred[forcing_vars] - data[forcing_vars]\n",
    "errors_cycle = anomalies(data[forcing_vars])"
   ]
  },
  {
   "cell_type": "markdown",
   "metadata": {},
   "source": [
    "Below, mse is the time-mean MSE of the mean component of our predicted forcing, mse_month is the variance of the residuals of the data after removing monthly variation."
   ]
  },
  {
   "cell_type": "code",
   "execution_count": null,
   "metadata": {},
   "outputs": [],
   "source": [
    "mse = (errors**2).mean(dim='time')\n",
    "mse_cycle = (errors_cycle**2).mean(dim='time')\n",
    "amplitudes = (data[forcing_vars]**2).mean(dim='time')\n",
    "\n",
    "with ProgressBar():\n",
    "    mse = mse.compute()\n",
    "    mse_cycle = mse_cycle.compute()\n",
    "    amplitudes = amplitudes.compute()\n",
    "mse['total'] = mse['S_x'] + mse['S_y']\n",
    "mse_cycle['total'] = mse_cycle['S_x'] + mse_cycle['S_y']\n",
    "amplitudes['total'] = amplitudes['S_x'] + amplitudes['S_y']"
   ]
  },
  {
   "cell_type": "markdown",
   "metadata": {},
   "source": [
    "### MSE plot"
   ]
  },
  {
   "cell_type": "markdown",
   "metadata": {},
   "source": [
    "Below is Figure 4a of the paper"
   ]
  },
  {
   "cell_type": "code",
   "execution_count": null,
   "metadata": {},
   "outputs": [],
   "source": [
    "plt.rcParams[\"figure.figsize\"] = (4*2, 4 * 2 / 1.618)\n",
    "x = uv_plotter.plot(mse['total'], lon=0., cmap=cmocean.cm.dense,\n",
    "                    colorbar_label=r'$1e^{-14}m^2/s^4$', norm=matplotlib.colors.LogNorm(vmin=0.01, vmax=10))"
   ]
  },
  {
   "cell_type": "code",
   "execution_count": null,
   "metadata": {},
   "outputs": [],
   "source": [
    "plt.savefig(f\"mse-cm26-{cm26_sim_run}.jpg\", dpi=400)"
   ]
  },
  {
   "cell_type": "markdown",
   "metadata": {},
   "source": [
    "### R² plot"
   ]
  },
  {
   "cell_type": "markdown",
   "metadata": {},
   "source": [
    "Below is Figure 4b of the paper"
   ]
  },
  {
   "cell_type": "code",
   "execution_count": null,
   "metadata": {},
   "outputs": [],
   "source": [
    "import matplotlib\n",
    "rsquared = 1 - mse / amplitudes\n",
    "rsquared_cycles = 1 - mse / mse_cycle\n",
    "mse_ratio_2 = 1 - mse_cycle / amplitudes\n",
    "uv_plotter.plot(rsquared_cycles['total'], cmap=cmocean.cm.delta, lon=0., norm=matplotlib.colors.LogNorm(vmin=0.5, vmax=1))"
   ]
  },
  {
   "cell_type": "code",
   "execution_count": null,
   "metadata": {},
   "outputs": [],
   "source": [
    "plt.savefig(f\"r2-month-cm26-{cm26_sim_run}.jpg\", dpi=400)"
   ]
  },
  {
   "cell_type": "markdown",
   "metadata": {},
   "source": [
    "### Scalar R²"
   ]
  },
  {
   "cell_type": "markdown",
   "metadata": {},
   "source": [
    "We limit the range to latitudes -60 to 60, and we apply a mask that discards points near continents according to the mask used in the plotter (the points shown in gray on the maps in the paper). This is why we define these quantities \"to_scalar\", in order to not account for points near continents in the computation of the scalar R²."
   ]
  },
  {
   "cell_type": "code",
   "execution_count": null,
   "metadata": {},
   "outputs": [],
   "source": [
    "latitudes = slice(-60, 60)"
   ]
  },
  {
   "cell_type": "code",
   "execution_count": null,
   "metadata": {},
   "outputs": [],
   "source": [
    "mse_to_scalar = apply_complete_mask(mse, pred, uv_plotter)\n",
    "mse_cycle_to_scalar = apply_complete_mask(mse_cycle, pred, uv_plotter)\n",
    "amplitudes_to_scalar = apply_complete_mask(amplitudes, pred, uv_plotter)"
   ]
  },
  {
   "cell_type": "code",
   "execution_count": null,
   "metadata": {},
   "outputs": [],
   "source": [
    "with ProgressBar():\n",
    "    mse_scalar = mse_to_scalar.sel(latitude=latitudes).sum().compute()\n",
    "    mse_cycle_scalar = mse_cycle_to_scalar.sel(latitude=latitudes).sum().compute()\n",
    "    amplitudes_scalar = amplitudes_to_scalar.sel(latitude=latitudes).sum().compute()\n",
    "    rsquared_scalar_cycle = 1 - mse_scalar / mse_cycle_scalar\n",
    "    rsquared_scalar = 1 - mse_scalar / amplitudes_scalar\n",
    "print(rsquared_scalar)\n",
    "print(rsquared_scalar_cycle)"
   ]
  },
  {
   "cell_type": "markdown",
   "metadata": {},
   "source": [
    "## Correlation between true forcing and mean component of the prediction "
   ]
  },
  {
   "cell_type": "code",
   "execution_count": null,
   "metadata": {},
   "outputs": [],
   "source": [
    "forcing_vars = ['S_x', 'S_y']\n",
    "data_anomaly = anomalies(data[forcing_vars])\n",
    "pred_anomaly = anomalies(pred[forcing_vars])"
   ]
  },
  {
   "cell_type": "code",
   "execution_count": null,
   "metadata": {},
   "outputs": [],
   "source": [
    "std_data = data_anomaly.std(dim='time')\n",
    "std_pred = pred_anomaly.std(dim='time')\n",
    "corr = ((data_anomaly * pred_anomaly).mean(dim='time') - data_anomaly.mean(dim='time') * pred_anomaly.mean(dim='time')) / (std_data * std_pred)\n",
    "# corr_s_y = xr.corr(data.S_y, pred.S_y, dim='time')"
   ]
  },
  {
   "cell_type": "code",
   "execution_count": null,
   "metadata": {},
   "outputs": [],
   "source": [
    "with ProgressBar():\n",
    "    corr = corr.compute()\n",
    "    # corr_s_y = corr_s_y.compute()"
   ]
  },
  {
   "cell_type": "code",
   "execution_count": null,
   "metadata": {},
   "outputs": [],
   "source": [
    "uv_plotter.plot(corr['S_x'], vmin=0.7, vmax=1., lon=0., cmap=cmocean.cm.balance_r)"
   ]
  },
  {
   "cell_type": "code",
   "execution_count": null,
   "metadata": {},
   "outputs": [],
   "source": [
    "plt.savefig(f\"corr-x-cm26-{cm26_sim_run}.jpg\", dpi=400)"
   ]
  },
  {
   "cell_type": "markdown",
   "metadata": {},
   "source": [
    "## Variance of norm of subgrid momentum forcing "
   ]
  },
  {
   "cell_type": "code",
   "execution_count": null,
   "metadata": {},
   "outputs": [],
   "source": [
    "norm_S = np.sqrt(data['S_x']**2 + data['S_y']**2)\n",
    "norm_Spred = np.sqrt(pred['S_x']**2 + pred['S_y']**2)\n",
    "var_norm_S = norm_S.var(dim='time')\n",
    "var_norm_Spred = norm_Spred.var(dim='time')\n",
    "with ProgressBar():\n",
    "    var_norm_S = var_norm_S.compute()\n",
    "    var_norm_Spred = var_norm_Spred.compute()"
   ]
  },
  {
   "cell_type": "code",
   "execution_count": null,
   "metadata": {},
   "outputs": [],
   "source": [
    "uv_plotter.plot(var_norm_S, cmap=cmocean.cm.dense, lon=0., colorbar_label=r'$1e^{-14}m^2s^{-4}$', norm=matplotlib.colors.LogNorm(vmin=0.01, vmax=10,))\n",
    "uv_plotter.plot(var_norm_Spred, cmap=cmocean.cm.dense, lon=0., colorbar_label=r'$1e^{-14}m^2s^{-4}$', norm=matplotlib.colors.LogNorm(vmin=0.01, vmax=10,))"
   ]
  },
  {
   "cell_type": "code",
   "execution_count": null,
   "metadata": {},
   "outputs": [],
   "source": [
    "plt.savefig(f\"variance-forcing-control-cm26-{cm26_sim_run}.jpg\", dpi=400)"
   ]
  },
  {
   "cell_type": "markdown",
   "metadata": {},
   "source": [
    "## Compare distributions of true and stochastic simulated forcing"
   ]
  },
  {
   "cell_type": "code",
   "execution_count": null,
   "metadata": {},
   "outputs": [],
   "source": [
    "forcing_vars = ['S_x', 'S_y']\n",
    "scale_vars = ['S_xscale', 'S_yscale']\n",
    "\n",
    "pred_ = apply_complete_mask(pred, pred, uv_plotter)\n",
    "pred_scale = pred_[scale_vars].rename(dict(S_xscale='S_x', S_yscale='S_y'))\n",
    "pred_ = pred_[forcing_vars]\n",
    "data_ = apply_complete_mask(data[forcing_vars], pred, uv_plotter)\n",
    "\n",
    "# Subsample the data\n",
    "time_slice = slice(None, None, 1)\n",
    "lon_slice = slice(None, None, 2)\n",
    "lat_slice = slice(-60, 60, 2)\n",
    "pred_ = pred_.sel(longitude=lon_slice, latitude=lat_slice).isel(time=time_slice)\n",
    "pred_scale = pred_scale.sel(longitude=lon_slice, latitude=lat_slice).isel(time=time_slice)\n",
    "data_ = data_.sel(longitude=lon_slice, latitude=lat_slice).isel(time=time_slice)\n",
    "\n",
    "# Standardized residuals\n",
    "residuals = (data_ - pred_) / pred_scale"
   ]
  },
  {
   "cell_type": "code",
   "execution_count": null,
   "metadata": {},
   "outputs": [],
   "source": [
    "assert np.all(np.isnan(data_['S_x']) == np.isnan(pred_['S_x'])), \"Not the same number of points!\"\n"
   ]
  },
  {
   "cell_type": "markdown",
   "metadata": {},
   "source": [
    "Here we do a stochastic simulation of the forcing given the parameters of the Gaussian distribution at each location and each time point"
   ]
  },
  {
   "cell_type": "code",
   "execution_count": null,
   "metadata": {},
   "outputs": [],
   "source": [
    "shape = tuple(pred_.dims.values())\n",
    "epsilons = dict(x=np.random.randn(*shape), y=np.random.randn(*shape))\n",
    "epsilons = xr.Dataset(dict(S_x=(pred_.dims, epsilons['x']), S_y=(pred_.dims, epsilons['y'])))\n",
    "pred_stochastic = pred_ + pred_scale * epsilons"
   ]
  },
  {
   "cell_type": "code",
   "execution_count": null,
   "metadata": {},
   "outputs": [],
   "source": [
    "data_"
   ]
  },
  {
   "cell_type": "code",
   "execution_count": null,
   "metadata": {},
   "outputs": [],
   "source": [
    "pred_"
   ]
  },
  {
   "cell_type": "code",
   "execution_count": null,
   "metadata": {},
   "outputs": [],
   "source": [
    "bins = np.arange(-20, 21, 1)\n",
    "\n",
    "# assert np.all(np.isnan(data_['S_x']) == np.isnan(pred_stochastic['S_x'])), \"Not the same number of points!\"\n",
    "\n",
    "plt.figure()\n",
    "plt.subplot(121)\n",
    "with ProgressBar():\n",
    "    plt.hist(np.ravel(data_['S_x']), bins=bins, density=True, log=True, alpha=0.5, color='purple')\n",
    "    plt.hist(np.ravel(pred_stochastic['S_x']), bins=bins, density=True, log=True, alpha=0.5, color='green')\n",
    "plt.title('Zonal component')\n",
    "plt.xlabel(r'$1e^{-7}m/s^2$')\n",
    "plt.ylabel('log density')\n",
    "plt.subplot(122)\n",
    "with ProgressBar():\n",
    "    plt.hist(np.ravel(data_['S_y']), bins=bins, density=True, log=True, alpha=0.5, color='purple')\n",
    "    plt.hist(np.ravel(pred_stochastic['S_y']), bins=bins, density=True, log=True, alpha=0.5, color='green')\n",
    "plt.title('Meridional component')\n",
    "plt.xlabel(r'$1e^{-7}m/s^2$')\n"
   ]
  },
  {
   "cell_type": "code",
   "execution_count": null,
   "metadata": {},
   "outputs": [],
   "source": [
    "plt.savefig(f\"forcing-dist-cm26-{cm26_sim_run}.jpg\", dpi=400)"
   ]
  },
  {
   "cell_type": "code",
   "execution_count": null,
   "metadata": {},
   "outputs": [],
   "source": [
    "plt.figure()\n",
    "bins=np.arange(-6, 6, 0.025)\n",
    "from scipy.stats import norm\n",
    "with ProgressBar():\n",
    "    plt.subplot(121)\n",
    "    plt.hist(np.ravel(residuals['S_x'].compute()), bins=bins, density=True, color='orange')\n",
    "    plt.plot(bins, (norm.pdf(bins)), 'r')\n",
    "    plt.title('Meridional component')\n",
    "    plt.subplot(122)\n",
    "    plt.hist(np.ravel(residuals['S_y'].compute()), bins=bins, density=True, color='orange')\n",
    "    plt.plot(bins, (norm.pdf(bins)), 'r')\n",
    "    plt.title('Zonal component')"
   ]
  },
  {
   "cell_type": "code",
   "execution_count": null,
   "metadata": {},
   "outputs": [],
   "source": [
    "plt.savefig('normalized_residuals_ditribution.jpg', dpi=300)"
   ]
  },
  {
   "cell_type": "markdown",
   "metadata": {},
   "source": [
    "### QQ plot"
   ]
  },
  {
   "cell_type": "code",
   "execution_count": null,
   "metadata": {},
   "outputs": [],
   "source": [
    "quantiles = np.exp(np.linspace(-5, 5, 100)) / (1 + np.exp(np.linspace(-5, 5, 100)))\n",
    "quantiles = np.linspace(0.01, 0.99, 99)"
   ]
  },
  {
   "cell_type": "code",
   "execution_count": null,
   "metadata": {},
   "outputs": [],
   "source": [
    "quantiles"
   ]
  },
  {
   "cell_type": "code",
   "execution_count": null,
   "metadata": {},
   "outputs": [],
   "source": [
    "with ProgressBar():\n",
    "    quantiles_x = np.nanquantile(residuals['S_x'].compute(), quantiles)\n",
    "    quantiles_y = np.nanquantile(residuals['S_y'].compute(), quantiles)"
   ]
  },
  {
   "cell_type": "code",
   "execution_count": null,
   "metadata": {},
   "outputs": [],
   "source": [
    "from scipy.stats import norm, cauchy, t\n",
    "quantiles_norm = norm.ppf(quantiles)"
   ]
  },
  {
   "cell_type": "code",
   "execution_count": null,
   "metadata": {},
   "outputs": [],
   "source": [
    "plt.figure()\n",
    "reference = quantiles_norm\n",
    "plt.subplot(121)\n",
    "plt.plot(reference, quantiles_x, 'x')\n",
    "plt.plot(reference, reference, 'g')\n",
    "plt.axis([None, None, -5, 5])\n",
    "plt.title('Zonal component')\n",
    "plt.subplot(122)\n",
    "plt.plot(reference, quantiles_y, 'x')\n",
    "plt.plot(reference, reference, 'g')\n",
    "plt.axis([None, None, -5, 5])\n",
    "plt.title('Meridional component')"
   ]
  },
  {
   "cell_type": "code",
   "execution_count": null,
   "metadata": {},
   "outputs": [],
   "source": [
    "plt.savefig(f\"normalized-residuals-qq-cm26-{cm26_sim_run}.jpg\")"
   ]
  },
  {
   "cell_type": "markdown",
   "metadata": {},
   "source": [
    "### (IGNORE THIS) Another way to do it"
   ]
  },
  {
   "cell_type": "code",
   "execution_count": null,
   "metadata": {},
   "outputs": [],
   "source": [
    "from scipy.stats import norm\n",
    "lon = slice(None, None, 1)\n",
    "lat= slice(-40, 40, 1)\n",
    "time_slice = slice(None, 1000, 1)\n",
    "\n",
    "true = apply_complete_mask(data['S_x'])\n",
    "pred_mean = apply_complete_mask(pred['S_x'])\n",
    "pred_std = apply_complete_mask(pred['S_xscale'])\n",
    "\n",
    "def my_transform(x , mean, precision):\n",
    "    cdf = lambda x: norm.cdf((x - mean) * precision) \n",
    "    return cdf(x)\n",
    "\n",
    "v = xr.apply_ufunc(my_transform, true, pred_mean, 1 / pred_std,\n",
    "                  dask='parallelized', output_dtypes=[np.float64, ])\n",
    "residuals = (true - pred_mean) / pred_std\n",
    "residuals = residuals.sel(longitude=lon, latitude=lat).isel(time=time_slice)\n",
    "v = v.sel(longitude=lon, latitude=lat).isel(time=time_slice)"
   ]
  },
  {
   "cell_type": "code",
   "execution_count": null,
   "metadata": {},
   "outputs": [],
   "source": [
    "with ProgressBar():\n",
    "    q2 = np.nanquantile(residuals, quantiles)"
   ]
  },
  {
   "cell_type": "code",
   "execution_count": null,
   "metadata": {},
   "outputs": [],
   "source": [
    "norm_quantiles = norm.ppf(quantiles)\n",
    "plt.figure()\n",
    "plt.plot(norm_quantiles, q2)\n",
    "plt.plot(norm_quantiles, norm_quantiles)"
   ]
  },
  {
   "cell_type": "code",
   "execution_count": null,
   "metadata": {},
   "outputs": [],
   "source": [
    "q = np.nanquantile(v, quantiles)\n"
   ]
  },
  {
   "cell_type": "code",
   "execution_count": null,
   "metadata": {},
   "outputs": [],
   "source": [
    "plt.figure()\n",
    "plt.plot(quantiles, q, 'x')\n",
    "plt.plot(quantiles, quantiles)"
   ]
  },
  {
   "cell_type": "markdown",
   "metadata": {},
   "source": [
    "## (IGNORE THIS) Likelihood plot"
   ]
  },
  {
   "cell_type": "code",
   "execution_count": null,
   "metadata": {},
   "outputs": [],
   "source": [
    "from scipy.stats import norm\n",
    "lon = slice(None, None, 1)\n",
    "lat= slice(-80, 80, 1)\n",
    "time_slice = slice(None, None, 1)\n",
    "\n",
    "true = data['S_x'].isel(time=time_slice)\n",
    "pred_mean = pred['S_x'].isel(time=time_slice)\n",
    "pred_std = pred['S_xscale'].isel(time=time_slice)\n",
    "\n",
    "residuals = (true - pred_mean) / pred_std\n",
    "log_lkh = xr.apply_ufunc(lambda x: np.log(norm.pdf(x)), residuals, dask='parallelized', output_dtypes=[np.float64,])\n",
    "with ProgressBar():\n",
    "    log_lkh = log_lkh.compute()"
   ]
  },
  {
   "cell_type": "code",
   "execution_count": null,
   "metadata": {},
   "outputs": [],
   "source": [
    "true"
   ]
  },
  {
   "cell_type": "code",
   "execution_count": null,
   "metadata": {},
   "outputs": [],
   "source": [
    "uv_plotter.margin=10\n",
    "uv_plotter.plot(-log_lkh.mean(dim='time'), vmin=0, vmax=2.5)\n",
    "apply_complete_mask(-log_lkh, pred, uv_plotter).mean()"
   ]
  },
  {
   "cell_type": "code",
   "execution_count": null,
   "metadata": {},
   "outputs": [],
   "source": [
    "lat= slice(-40, 40, 1)\n",
    "\n",
    "with ProgressBar():\n",
    "    lkh_mean = lkh.sel(latitude=lat).isel(time=time_slice).mean().compute()\n",
    "lkh_mean"
   ]
  },
  {
   "cell_type": "markdown",
   "metadata": {},
   "source": [
    "## Bias analysis"
   ]
  },
  {
   "cell_type": "code",
   "execution_count": null,
   "metadata": {},
   "outputs": [],
   "source": [
    "forcing_vars = ['S_x', 'S_y']\n",
    "errors = pred[forcing_vars] - data[forcing_vars]\n",
    "map_errors = errors.mean(dim='time')\n",
    "with ProgressBar():\n",
    "    map_errors = map_errors.compute()\n",
    "    absolute = (abs(data[forcing_vars])).mean(dim='time').compute()"
   ]
  },
  {
   "cell_type": "code",
   "execution_count": null,
   "metadata": {},
   "outputs": [],
   "source": [
    "relative_bias = (map_errors / absolute).compute()"
   ]
  },
  {
   "cell_type": "code",
   "execution_count": null,
   "metadata": {},
   "outputs": [],
   "source": [
    "with ProgressBar():\n",
    "    uv_plotter.plot(abs(relative_bias['S_x']), cmap=cmocean.cm.delta, lon=0., vmin=0.01, vmax=1, norm=matplotlib.colors.LogNorm())"
   ]
  },
  {
   "cell_type": "code",
   "execution_count": null,
   "metadata": {},
   "outputs": [],
   "source": [
    "plt.savefig(f\"relative-bias-cm26-{cm26_sim_run}.jpg\", dpi=400)"
   ]
  },
  {
   "cell_type": "markdown",
   "metadata": {},
   "source": [
    "## Time series plots"
   ]
  },
  {
   "cell_type": "code",
   "execution_count": null,
   "metadata": {},
   "outputs": [],
   "source": [
    "plt.rcParams[\"figure.figsize\"] = (4*2, 4*2 / 1.618)\n"
   ]
  },
  {
   "cell_type": "code",
   "execution_count": null,
   "metadata": {},
   "outputs": [],
   "source": [
    "points = [(-60, 30), (-104, -20), (-129, 29)]\n",
    "\n",
    "plot_time_series(data, pred, *points[1], slice(0, 300), std=True)\n"
   ]
  },
  {
   "cell_type": "code",
   "execution_count": null,
   "metadata": {},
   "outputs": [],
   "source": [
    "plt.savefig(f\"timeseries-quescient-cm26-{cm26_sim_run}.jpg\", dpi=400)"
   ]
  },
  {
   "cell_type": "markdown",
   "metadata": {},
   "source": [
    "# (IGNORE THIS) Comparison of quantiles"
   ]
  },
  {
   "cell_type": "code",
   "execution_count": null,
   "metadata": {},
   "outputs": [],
   "source": [
    "pred"
   ]
  },
  {
   "cell_type": "code",
   "execution_count": null,
   "metadata": {},
   "outputs": [],
   "source": [
    "data"
   ]
  },
  {
   "cell_type": "code",
   "execution_count": null,
   "metadata": {},
   "outputs": [],
   "source": [
    "from analysis.base import QuantileCompare\n",
    "\n",
    "with ProgressBar():\n",
    "    qq = QuantileCompare()\n",
    "    qq.quantiles = [0.5, 0.25, 0.5, 0.75, 0.95]\n",
    "    qq.data = ((pred['S_x']-data['S_x']) / pred['S_xscale']).isel(time=slice(None, None, 1)).compute()"
   ]
  },
  {
   "cell_type": "code",
   "execution_count": null,
   "metadata": {},
   "outputs": [],
   "source": [
    "with ProgressBar():\n",
    "    q_0_75 = qq.data_quantiles[0.75]"
   ]
  },
  {
   "cell_type": "code",
   "execution_count": null,
   "metadata": {},
   "outputs": [],
   "source": [
    "from scipy.stats import norm\n",
    "norm.ppf(0.75)"
   ]
  },
  {
   "cell_type": "code",
   "execution_count": null,
   "metadata": {},
   "outputs": [],
   "source": [
    "import cartopy.crs as ccrs\n",
    "import cmocean\n",
    "cmap = cmocean.cm.balance\n",
    "uv_plotter.plot(np.abs(q_0_75 - 0.6745) < 0.05, vmin=0, vmax=1)"
   ]
  },
  {
   "cell_type": "code",
   "execution_count": null,
   "metadata": {},
   "outputs": [],
   "source": [
    "uv_plotter.plot(data['S_x'].isel(time=0), cmap=cmap_balance, vmin=-2, vmax=2)"
   ]
  },
  {
   "cell_type": "code",
   "execution_count": null,
   "metadata": {},
   "outputs": [],
   "source": []
  },
  {
   "cell_type": "code",
   "execution_count": null,
   "metadata": {},
   "outputs": [],
   "source": [
    "plt.plot((data['S_x'].sel(longitude=-140, latitude=30, method='nearest').isel(time=slice(0, 800))).data)\n",
    "plt.plot((pred['S_xpred'].sel(longitude=-140, latitude=30, method='nearest').isel(time=slice(0, 800))).data)\n",
    "plt.plot((pred['S_xpred'].sel(longitude=-140, latitude=30, method='nearest').isel(time=slice(0, 800)) + 1.96 * pred['S_xscale'].sel(longitude=-140, latitude=30, method='nearest').isel(time=slice(0, 800))).data, '--')\n",
    "plt.plot((pred['S_xpred'].sel(longitude=-140, latitude=30, method='nearest').isel(time=slice(0, 800)) - 1.96 * pred['S_xscale'].sel(longitude=-140, latitude=30, method='nearest').isel(time=slice(0, 800))).data, '--')\n"
   ]
  },
  {
   "cell_type": "code",
   "execution_count": null,
   "metadata": {},
   "outputs": [],
   "source": [
    "r = qq.data.sel(longitude=-140, latitude=30, method='nearest').isel(time=slice(0, 800)).compute()"
   ]
  },
  {
   "cell_type": "code",
   "execution_count": null,
   "metadata": {},
   "outputs": [],
   "source": [
    "np.quantile(r, [0.25, 0.5, 0.75])"
   ]
  },
  {
   "cell_type": "code",
   "execution_count": null,
   "metadata": {},
   "outputs": [],
   "source": [
    "plt.hist(np.ravel(q_0_25.data), bins=np.arange(-2, 2, 0.1))\n",
    "plt.title('Histogram of 0.25 quantiles of normalized residuals')"
   ]
  },
  {
   "cell_type": "code",
   "execution_count": null,
   "metadata": {},
   "outputs": [],
   "source": [
    "np.quantile(r.data, [0.25, 0.5, 0.75])"
   ]
  },
  {
   "cell_type": "code",
   "execution_count": null,
   "metadata": {},
   "outputs": [],
   "source": []
  },
  {
   "cell_type": "code",
   "execution_count": null,
   "metadata": {},
   "outputs": [],
   "source": [
    "np.max(q_0_5).compute()"
   ]
  },
  {
   "cell_type": "markdown",
   "metadata": {},
   "source": [
    "Snapshot of the forcing"
   ]
  },
  {
   "cell_type": "code",
   "execution_count": null,
   "metadata": {},
   "outputs": [],
   "source": [
    "import cartopy.crs as ccrs\n",
    "cmap = cmocean.cm.balance\n",
    "s_x = v\n",
    "\n",
    "ax = plt.axes(projection=ccrs.PlateCarree(-100.))\n",
    "mesh_x, mesh_y = np.meshgrid(s_x['longitude'], s_x['latitude'])\n",
    "mesh_x = mesh_x + 360\n",
    "ax.pcolormesh(mesh_x, mesh_y, s_x.values, vmin=-4, vmax=4, transform = ccrs.PlateCarree(), cmap=cmap, alpha=1)\n",
    "mesh_x, mesh_y = np.meshgrid(borders['longitude'], borders['latitude'])\n",
    "mesh_x = mesh_x + 360\n",
    "ax.pcolormesh(mesh_x, mesh_y, borders * 1., transform=ccrs.PlateCarree(), alpha=0.1)\n",
    "ax.set_global()\n",
    "ax.coastlines()\n",
    "ax.set_xticks(np.arange(-180, 181, 20))\n",
    "ax.set_yticks(np.arange(-80,81, 20))\n",
    "#ax.set_extent([-20, 20, -20, 20])\n"
   ]
  },
  {
   "cell_type": "code",
   "execution_count": null,
   "metadata": {},
   "outputs": [],
   "source": [
    "%matplotlib notebook"
   ]
  },
  {
   "cell_type": "code",
   "execution_count": null,
   "metadata": {},
   "outputs": [],
   "source": [
    "from matplotlib import animation\n",
    "cmap = cmocean.cm.amp\n",
    "import cartopy.crs as ccrs\n",
    "\n",
    "fig = plt.figure()\n",
    "\n",
    "try:\n",
    "    del video\n",
    "except:\n",
    "    pass\n",
    "\n",
    "uv_plotter.x_ticks = None\n",
    "uv_plotter.y_ticks = None\n",
    "\n",
    "def animate(i):\n",
    "    print(i)\n",
    "    v = pred['S_xscale'].isel(time=i)\n",
    "    uv_plotter.plot(v, projection_cls = ccrs.Orthographic, lon=(i/5)%360, cmap=cmap, vmin=0, vmax=2, animated=True)\n",
    "    \n",
    "ani = animation.FuncAnimation(fig, animate, frames = 500, interval = 50)"
   ]
  },
  {
   "cell_type": "code",
   "execution_count": null,
   "metadata": {},
   "outputs": [],
   "source": [
    "import matplotlib\n",
    "matplotlib.rcParams['animation.embed_limit'] = 100"
   ]
  },
  {
   "cell_type": "code",
   "execution_count": null,
   "metadata": {},
   "outputs": [],
   "source": [
    "ani.save('forcing_pred_mean.mp4', fps=60, dpi=300)"
   ]
  },
  {
   "cell_type": "code",
   "execution_count": null,
   "metadata": {},
   "outputs": [],
   "source": [
    "from IPython.display import HTML\n",
    "video = ani.to_html5_video()\n",
    "HTML(video)"
   ]
  },
  {
   "cell_type": "code",
   "execution_count": null,
   "metadata": {},
   "outputs": [],
   "source": [
    "e = (merged['S_xpred'] - merged['S_x']) / merged['S_xscale']\n",
    "d = (e**2).mean(dim='time').compute()"
   ]
  },
  {
   "cell_type": "code",
   "execution_count": null,
   "metadata": {},
   "outputs": [],
   "source": [
    "d_ = abs(d-1)\n",
    "d_ = d_.interp(mask_.coords)\n",
    "d_ = xr.where(borders, -1000, d_)\n",
    "d_ = xr.where(mask__, d_, np.nan)\n",
    "d_ = d_.interp(latitude = np.arange(-80, 80, 0.1), longitude = np.arange(-279.9, 80.1, 0.1))\n",
    "d_['longitude'] = d_['longitude'] + 100.\n",
    "\n",
    "ax = plt.axes(projection=ccrs.PlateCarree())\n",
    "d_.plot.imshow(x='longitude', y='latitude', ax=ax, vmin=0, vmax=2, cmap=cmap,\n",
    "                        transform = ccrs.PlateCarree(-100.))\n",
    "ax.set_global()\n",
    "ax.coastlines()\n",
    "x_ticks = plt.xticks(np.arange(-180, 181, 20))\n",
    "y_ticks = plt.yticks(np.arange(-80, 81, 20))"
   ]
  }
 ],
 "metadata": {
  "kernelspec": {
   "display_name": "Python 3 (ipykernel)",
   "language": "python",
   "name": "python3"
  },
  "language_info": {
   "codemirror_mode": {
    "name": "ipython",
    "version": 3
   },
   "file_extension": ".py",
   "mimetype": "text/x-python",
   "name": "python",
   "nbconvert_exporter": "python",
   "pygments_lexer": "ipython3",
   "version": "3.11.5"
  }
 },
 "nbformat": 4,
 "nbformat_minor": 4
}
