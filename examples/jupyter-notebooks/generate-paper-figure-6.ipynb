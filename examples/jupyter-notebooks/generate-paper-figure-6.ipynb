{
 "cells": [
  {
   "cell_type": "markdown",
   "metadata": {},
   "source": [
    "# Code to generate Figure 6 "
   ]
  },
  {
   "cell_type": "code",
   "execution_count": null,
   "metadata": {},
   "outputs": [],
   "source": [
    "%cd ../../src/gz21_ocean_momentum\n",
    "import os\n",
    "from utils import select_experiment, select_run\n",
    "from analysis.utils import plot_dataset, GlobalPlotter\n",
    "import mlflow\n",
    "from mlflow.tracking import MlflowClient\n",
    "import xarray as xr\n",
    "from dask.diagnostics import ProgressBar\n",
    "import matplotlib.pyplot as plt\n",
    "import numpy as np\n",
    "from numpy.linalg import norm\n",
    "\n",
    "import cmocean\n",
    "cmap_solar = cmocean.cm.solar\n",
    "cmap_balance = cmocean.cm.balance\n",
    "\n",
    "mlruns_path=os.path.join(os.getcwd(), '../../mlruns')\n",
    "%env MLFLOW_TRACKING_URI $mlruns_path\n",
    "\n",
    "plt.rcParams[\"figure.figsize\"] = (4, 4 / 1.618)"
   ]
  },
  {
   "cell_type": "markdown",
   "metadata": {},
   "source": [
    "## Script parameters"
   ]
  },
  {
   "cell_type": "code",
   "execution_count": null,
   "metadata": {},
   "outputs": [],
   "source": [
    "run_control_id = None\n",
    "run_1pct_id = None\n",
    "var_name = 'vsurf'\n",
    "cmap = cmocean.cm.amp\n"
   ]
  },
  {
   "cell_type": "code",
   "execution_count": null,
   "metadata": {},
   "outputs": [],
   "source": [
    "def select_run_id():\n",
    "    exp_id, exp_name = select_experiment()\n",
    "    #experiment_id = mlflow.get_experiment_by_name(exp_name).experiment_id\n",
    "    cols = ['params.CO2', 'params.factor']\n",
    "    run = select_run(cols=cols, experiment_ids=(exp_id,))\n",
    "    return run.run_id"
   ]
  },
  {
   "cell_type": "code",
   "execution_count": null,
   "metadata": {},
   "outputs": [],
   "source": [
    "ml_client = MlflowClient()\n",
    "if not run_control_id:\n",
    "    print(\"Please select run with CO2=0.\")\n",
    "    run_control_id = select_run_id()\n",
    "if not run_1pct_id:\n",
    "    print(\"Please select run with CO2=1.\")\n",
    "    run_1pct_id = select_run_id()\n",
    "\n",
    "run_control = mlflow.get_run(run_control_id)\n",
    "run_1pct = mlflow.get_run(run_1pct_id)\n",
    "\n",
    "data_control = xr.open_zarr(ml_client.download_artifacts(run_control_id, 'forcing'))\n",
    "data_1pct = xr.open_zarr(ml_client.download_artifacts(run_1pct_id, 'forcing'))\n",
    "data_control = data_control.rename(dict(xu_ocean='longitude', yu_ocean='latitude'))\n",
    "data_1pct = data_1pct.rename(dict(xu_ocean='longitude', yu_ocean='latitude'))\n",
    "\n",
    "# Rescale the forcing\n",
    "for var in ('S_x', 'S_y'):\n",
    "    data_control[var] /= 1e-7\n",
    "    data_1pct[var] /= 1e-7\n",
    "\n",
    "# Remove the seasonal means\n",
    "seasonal_groupby_control = data_control.groupby('time.month').mean()\n",
    "seasonal_groupby_1pct = data_1pct.groupby('time.month').mean()\n",
    "\n",
    "data_control = data_control.groupby('time.month') - seasonal_groupby_control\n",
    "data_1pct = data_1pct.groupby('time.month') - seasonal_groupby_1pct"
   ]
  },
  {
   "cell_type": "code",
   "execution_count": null,
   "metadata": {},
   "outputs": [],
   "source": [
    "var_control = data_control[var_name].std(dim='time')\n",
    "var_1pct = data_1pct[var_name].std(dim='time')\n",
    "with ProgressBar():\n",
    "    var_control = var_control.compute()\n",
    "    var_1pct = var_1pct.compute()"
   ]
  },
  {
   "cell_type": "code",
   "execution_count": null,
   "metadata": {},
   "outputs": [],
   "source": [
    "diff =  var_1pct - var_control\n",
    "r_diff = diff / var_control"
   ]
  },
  {
   "cell_type": "code",
   "execution_count": null,
   "metadata": {},
   "outputs": [],
   "source": [
    "#%matplotlib notebook #this option does not work with jupyterlab\n",
    "%matplotlib widget\n",
    "from cartopy.crs import PlateCarree\n",
    "from data.pangeo_catalog import get_patch, get_whole_data\n",
    "from scipy.ndimage import gaussian_filter\n",
    "from matplotlib import colors\n",
    "\n",
    "\n",
    "CATALOG_URL = 'https://raw.githubusercontent.com/pangeo-data/pangeo-datastore\\\n",
    "/master/intake-catalogs/master.yaml'\n",
    "\n",
    "\n",
    "plotter = GlobalPlotter(cbar=True, margin=4)\n",
    "plotter.x_ticks = np.arange(-150., 151., 50)\n",
    "plotter.y_ticks = np.arange(-80., 81., 20)\n",
    "\n",
    "ax=plotter.plot(diff, vmin=-0.05, vmax=0.05, cmap=cmocean.cm.delta, lon=0., colorbar_label='m/s')\n"
   ]
  },
  {
   "cell_type": "code",
   "execution_count": null,
   "metadata": {},
   "outputs": [],
   "source": [
    "plt.savefig('r_diff_' + var_name + '.jpg', dpi=400)"
   ]
  },
  {
   "cell_type": "code",
   "execution_count": null,
   "metadata": {},
   "outputs": [],
   "source": [
    "uv_plotter = plotter\n",
    "def apply_complete_mask(array):\n",
    "    mask = uv_plotter.borders\n",
    "    mask2 = uv_plotter.mask\n",
    "    mask = mask.interp({k: array.coords[k] for k in ['longitude', 'latitude']})\n",
    "    mask2 = mask2.interp({k: array.coords[k] for k in ['longitude', 'latitude']})\n",
    "    array = array.where(np.isnan(mask) & (~np.isnan(mask2)))\n",
    "    #array = array.sel(latitude=slice(pred['latitude'][0], pred['latitude'][-1]))\n",
    "    return array\n",
    "apply_complete_mask(r_diff).sel(latitude=slice(-60, 60)).mean().compute()"
   ]
  },
  {
   "cell_type": "code",
   "execution_count": null,
   "metadata": {},
   "outputs": [],
   "source": []
  }
 ],
 "metadata": {
  "kernelspec": {
   "display_name": "Python 3 (ipykernel)",
   "language": "python",
   "name": "python3"
  },
  "language_info": {
   "codemirror_mode": {
    "name": "ipython",
    "version": 3
   },
   "file_extension": ".py",
   "mimetype": "text/x-python",
   "name": "python",
   "nbconvert_exporter": "python",
   "pygments_lexer": "ipython3",
   "version": "3.11.4"
  }
 },
 "nbformat": 4,
 "nbformat_minor": 4
}
