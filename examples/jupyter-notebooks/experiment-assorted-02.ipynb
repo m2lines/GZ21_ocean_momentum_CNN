{
 "cells": [
  {
   "cell_type": "code",
   "execution_count": null,
   "metadata": {},
   "outputs": [],
   "source": [
    "import os,sys\n",
    "sys.path.insert(1, os.path.join(os.getcwd()  , '../../src/gz21_ocean_momentum'))\n",
    "from utils import select_experiment, select_run\n",
    "from analysis.utils import plot_dataset, GlobalPlotter\n",
    "import mlflow.tracking\n",
    "import xarray as xr\n",
    "import cmocean\n",
    "import matplotlib.pyplot as plt\n",
    "from dask.diagnostics import ProgressBar\n",
    "from data.xrtransforms import SeasonalStdizer\n",
    "import cartopy\n",
    "\n",
    "cmap_balance = cmocean.cm.balance\n",
    "proj_robinson = cartopy.crs.Robinson\n",
    "plotter = GlobalPlotter()\n",
    "%matplotlib notebook\n"
   ]
  },
  {
   "cell_type": "code",
   "execution_count": null,
   "metadata": {},
   "outputs": [],
   "source": [
    "run = select_run(cols = ['params.CO2', 'params.factor'], experiment_ids=('19',))"
   ]
  },
  {
   "cell_type": "code",
   "execution_count": null,
   "metadata": {},
   "outputs": [],
   "source": [
    "client = mlflow.tracking.MlflowClient()\n",
    "data_file = client.download_artifacts(run.run_id, 'forcing')"
   ]
  },
  {
   "cell_type": "code",
   "execution_count": null,
   "metadata": {},
   "outputs": [],
   "source": [
    "data = xr.open_zarr(data_file)\n",
    "data = data.rename(dict(xu_ocean='longitude', yu_ocean='latitude'))"
   ]
  },
  {
   "cell_type": "code",
   "execution_count": null,
   "metadata": {},
   "outputs": [],
   "source": [
    "data"
   ]
  },
  {
   "cell_type": "code",
   "execution_count": null,
   "metadata": {},
   "outputs": [],
   "source": [
    "data.isel(time=slice(1, 10)).max().compute()"
   ]
  },
  {
   "cell_type": "code",
   "execution_count": null,
   "metadata": {},
   "outputs": [],
   "source": [
    "import numpy as np\n",
    "from scipy.stats import norm\n",
    "quantiles = data['usurf'].isel(time=slice(0, 10)).quantile(np.arange(1e-5, 1+1e-5, 1e-5)).compute()\n",
    "quantiles = np.concatenate((np.array([-5,]), quantiles, np.array([5, ])))\n",
    "normal_quantiles = norm.ppf(np.arange(1e-5, 1+1e-5, 1e-5))\n",
    "normal_quantiles = np.concatenate((np.array([-20,]), normal_quantiles, np.array([20, ])))\n",
    "\n",
    "\n",
    "def _transform(value):\n",
    "    value[np.isnan(value)] = 0\n",
    "    quantile_index = np.searchsorted(quantiles, value) - 1\n",
    "    v1 = quantiles[quantile_index]\n",
    "    v2 = quantiles[quantile_index + 1]\n",
    "    r = (value - v1) / (v2 - v1)\n",
    "    v1 = normal_quantiles[quantile_index]\n",
    "    v2 = normal_quantiles[quantile_index + 1]\n",
    "    result =  v1 + r * (v2 - v1)\n",
    "    result[np.isnan(value)] = np.nan\n",
    "    return result\n",
    "\n",
    "from sklearn.preprocessing import QuantileTransformer\n",
    "t = QuantileTransformer(output_distribution='normal')\n",
    "    "
   ]
  },
  {
   "cell_type": "code",
   "execution_count": null,
   "metadata": {},
   "outputs": [],
   "source": [
    "len(quantiles)"
   ]
  },
  {
   "cell_type": "code",
   "execution_count": null,
   "metadata": {},
   "outputs": [],
   "source": [
    "new = t.fit_transform(data['usurf'].isel(time=slice(0, 100)).compute().data.reshape((-1, 1)))"
   ]
  },
  {
   "cell_type": "code",
   "execution_count": null,
   "metadata": {},
   "outputs": [],
   "source": [
    "%matplotlib notebook\n",
    "plt.figure()\n",
    "plt.imshow(new[600, ...], origin='lower', vmin=-1.96, vmax=1.96, cmap=cmocean.cm.delta)"
   ]
  },
  {
   "cell_type": "code",
   "execution_count": null,
   "metadata": {},
   "outputs": [],
   "source": [
    "plt.figure()\n",
    "_ = plt.hist(new.ravel(), bins=np.arange(-10, 10, 0.1), density=True)"
   ]
  },
  {
   "cell_type": "code",
   "execution_count": null,
   "metadata": {},
   "outputs": [],
   "source": [
    "%matplotlib notebook\n",
    "plt.figure()\n",
    "plt.plot(norm.ppf(np.arange(0.01, 1, 0.01)), quantiles['usurf'])"
   ]
  },
  {
   "cell_type": "code",
   "execution_count": null,
   "metadata": {},
   "outputs": [],
   "source": [
    "plotter.plot(data['vsurf'].isel(time=0), lon=0, projection_cls=proj_robinson, cmap=cmap_balance, vmin=-0.5, vmax=0.5)"
   ]
  },
  {
   "cell_type": "code",
   "execution_count": null,
   "metadata": {},
   "outputs": [],
   "source": [
    "data['usurf'].encoding"
   ]
  },
  {
   "cell_type": "code",
   "execution_count": null,
   "metadata": {},
   "outputs": [],
   "source": [
    "data['S_x'].encoding"
   ]
  },
  {
   "cell_type": "code",
   "execution_count": null,
   "metadata": {},
   "outputs": [],
   "source": [
    "from dask.diagnostics import ProgressBar, ResourceProfiler\n",
    "import dask\n",
    "\n",
    "d1 = data.sel(longitude=slice(-40, -20), latitude=slice(30, 50))\n",
    "d2 = data.sel(longitude=slice(-70, -40), latitude=slice(30, 50))\n",
    "\n",
    "print(d1.nbytes / 1e9)"
   ]
  },
  {
   "cell_type": "code",
   "execution_count": null,
   "metadata": {},
   "outputs": [],
   "source": [
    "d1"
   ]
  },
  {
   "cell_type": "code",
   "execution_count": null,
   "metadata": {},
   "outputs": [],
   "source": [
    "type(d1['usurf'].data)"
   ]
  },
  {
   "cell_type": "code",
   "execution_count": null,
   "metadata": {},
   "outputs": [],
   "source": [
    "dask.__version__"
   ]
  },
  {
   "cell_type": "code",
   "execution_count": null,
   "metadata": {},
   "outputs": [],
   "source": [
    "with ProgressBar(), ResourceProfiler() as prof:\n",
    "    d1_val = d1.compute()"
   ]
  },
  {
   "cell_type": "code",
   "execution_count": null,
   "metadata": {},
   "outputs": [],
   "source": [
    "dask.__version__"
   ]
  },
  {
   "cell_type": "code",
   "execution_count": null,
   "metadata": {},
   "outputs": [],
   "source": [
    "prof.results"
   ]
  },
  {
   "cell_type": "code",
   "execution_count": null,
   "metadata": {},
   "outputs": [],
   "source": [
    "plotter.plot(d1_val.isel(time=5000)['usurf'], cmap=cmap_balance, vmin=-1, vmax=1, projection_cls=proj_robinson, lon=0.)"
   ]
  },
  {
   "cell_type": "code",
   "execution_count": null,
   "metadata": {},
   "outputs": [],
   "source": [
    "plotter.plot(data.vsurf.isel(time=0), lon=0., cmap=cmap_balance, vmin=-1, vmax=1)"
   ]
  },
  {
   "cell_type": "code",
   "execution_count": null,
   "metadata": {},
   "outputs": [],
   "source": [
    "t = SeasonalStdizer(std=True)\n",
    "with ProgressBar():\n",
    "    t.fit(data)"
   ]
  },
  {
   "cell_type": "code",
   "execution_count": null,
   "metadata": {},
   "outputs": [],
   "source": [
    "data_n = t(data)"
   ]
  },
  {
   "cell_type": "code",
   "execution_count": null,
   "metadata": {},
   "outputs": [],
   "source": [
    "data_v = data.chunk(dict(time=-1, longitude=28, latitude=17))"
   ]
  },
  {
   "cell_type": "code",
   "execution_count": null,
   "metadata": {},
   "outputs": [],
   "source": [
    "data_v = data.chunk(dict(time=100, longitude=450, latitude=275))\n",
    "data_v = data_v.chunk(dict(time=400, longitude=225, latitude=137))\n",
    "data_v = data_v.chunk(dict(time=1600, longitude=112, latitude=68))\n",
    "data_v = data_v.chunk(dict(time=3200, longitude=56, latitude=34))\n",
    "data_v = data_v.chunk(dict(time=-1, longitude=28, latitude=17))"
   ]
  },
  {
   "cell_type": "code",
   "execution_count": null,
   "metadata": {},
   "outputs": [],
   "source": [
    "import dask.array as da"
   ]
  },
  {
   "cell_type": "code",
   "execution_count": null,
   "metadata": {},
   "outputs": [],
   "source": [
    "v = da.random.randint(0, 10, (100, 1000), chunks=(10, -1))"
   ]
  },
  {
   "cell_type": "code",
   "execution_count": null,
   "metadata": {},
   "outputs": [],
   "source": [
    "v"
   ]
  },
  {
   "cell_type": "code",
   "execution_count": null,
   "metadata": {},
   "outputs": [],
   "source": [
    "d = v.rechunk((5, -1))"
   ]
  },
  {
   "cell_type": "code",
   "execution_count": null,
   "metadata": {},
   "outputs": [],
   "source": [
    "d"
   ]
  },
  {
   "cell_type": "code",
   "execution_count": null,
   "metadata": {},
   "outputs": [],
   "source": [
    "from dask import delayed\n",
    "import numpy as np\n",
    "def func(x):\n",
    "    return 2*x\n",
    "delayed_func = delayed(func)\n",
    "new_v = da.concatenate([da.from_delayed(delayed_func(v[start:min(start+5, 100), :]), shape=(5, 1000), dtype=np.int64)\n",
    "                       for start in range(0, 100, 5)])"
   ]
  },
  {
   "cell_type": "code",
   "execution_count": null,
   "metadata": {},
   "outputs": [],
   "source": [
    "import dask\n",
    "z = dask.delayed(2)"
   ]
  },
  {
   "cell_type": "code",
   "execution_count": null,
   "metadata": {},
   "outputs": [],
   "source": [
    "z.compute()"
   ]
  },
  {
   "cell_type": "code",
   "execution_count": null,
   "metadata": {},
   "outputs": [],
   "source": [
    "with ProgressBar():\n",
    "    test = data_v.isel(longitude=slice(0, 50), latitude=slice(0, 50)).compute()"
   ]
  },
  {
   "cell_type": "code",
   "execution_count": null,
   "metadata": {},
   "outputs": [],
   "source": [
    "plt.savefig('histtemp.jpg', dpi=300)"
   ]
  },
  {
   "cell_type": "code",
   "execution_count": null,
   "metadata": {},
   "outputs": [],
   "source": [
    "t = SeasonalStdizer()\n",
    "test = t.fit_transform(data)"
   ]
  },
  {
   "cell_type": "code",
   "execution_count": null,
   "metadata": {},
   "outputs": [],
   "source": [
    "u = t.transform(data)"
   ]
  },
  {
   "cell_type": "code",
   "execution_count": null,
   "metadata": {},
   "outputs": [],
   "source": [
    "u.isel(time=slice(25, 50)).compute()"
   ]
  },
  {
   "cell_type": "code",
   "execution_count": null,
   "metadata": {},
   "outputs": [],
   "source": [
    "data['time'].dt.month.dtype"
   ]
  },
  {
   "cell_type": "code",
   "execution_count": null,
   "metadata": {},
   "outputs": [],
   "source": []
  },
  {
   "cell_type": "code",
   "execution_count": null,
   "metadata": {},
   "outputs": [],
   "source": [
    "from dask import delayed\n",
    "import dask.array as da\n",
    "import numpy as np\n",
    "@delayed\n",
    "def get_months(times):\n",
    "    return times.dt.month\n",
    "\n",
    "def all_months(times):\n",
    "    return xr.concat((xr.DataArray(data=da.from_delayed(get_months(times[start:start+100]), \n",
    "                                                        shape=(100,), dtype=np.int64),\n",
    "                                   coords=dict(time=times[start:start+100]), dims=('time',))\n",
    "                                   for start in range(0, 4300, 100)), 'time')\n",
    "\n",
    "months = all_months(data['time'])"
   ]
  },
  {
   "cell_type": "code",
   "execution_count": null,
   "metadata": {},
   "outputs": [],
   "source": [
    "for k,v in data.items():\n",
    "    print(k)\n",
    "    print(v)"
   ]
  },
  {
   "cell_type": "code",
   "execution_count": null,
   "metadata": {},
   "outputs": [],
   "source": [
    "@delayed\n",
    "def get_transformed(data, var_name):\n",
    "    times = data.time\n",
    "    months = times.dt.month\n",
    "    r = data - monthly_means[var_name].sel(month=months)\n",
    "    del r['month']\n",
    "    return r.values\n",
    "\n",
    "def all_data(data):\n",
    "    sub_datasets = []\n",
    "    for start in range(0, 4300, 100):\n",
    "        sub_data = data.isel(time=slice(start, start+100))\n",
    "        sub_coords = sub_data.coords\n",
    "        new_xr_arrays = {}\n",
    "        for k, val in sub_data.items():\n",
    "            new_shape = val.shape\n",
    "            dims = val.dims\n",
    "            transformed = get_transformed(val, k)\n",
    "            dask_array = da.from_delayed(transformed, shape=new_shape, dtype=np.float64)\n",
    "            new_xr_array = xr.DataArray(data=dask_array, coords=sub_coords, dims=dims)\n",
    "            new_xr_arrays[k] = new_xr_array\n",
    "        new_ds = xr.Dataset(new_xr_arrays)\n",
    "        sub_datasets.append(new_ds)\n",
    "    return xr.concat(sub_datasets, dim='time')\n",
    "\n",
    "data_n = all_data(data)\n",
    "data_n"
   ]
  },
  {
   "cell_type": "code",
   "execution_count": null,
   "metadata": {},
   "outputs": [],
   "source": [
    "data_n['usurf'].isel(time=2000).std().compute()"
   ]
  },
  {
   "cell_type": "code",
   "execution_count": null,
   "metadata": {},
   "outputs": [],
   "source": [
    "data_n['usurf'].isel(time=0)"
   ]
  },
  {
   "cell_type": "code",
   "execution_count": null,
   "metadata": {},
   "outputs": [],
   "source": [
    "def remove_seasonal_means(data):\n",
    "    months = all_months(data.time)\n",
    "    "
   ]
  },
  {
   "cell_type": "code",
   "execution_count": null,
   "metadata": {},
   "outputs": [],
   "source": [
    "data = data.assign_coords(dict(month=months))"
   ]
  },
  {
   "cell_type": "code",
   "execution_count": null,
   "metadata": {},
   "outputs": [],
   "source": [
    "e = data.groupby('time.month') - monthly_grouped.mean()"
   ]
  },
  {
   "cell_type": "code",
   "execution_count": null,
   "metadata": {},
   "outputs": [],
   "source": [
    "del e['month']"
   ]
  },
  {
   "cell_type": "code",
   "execution_count": null,
   "metadata": {},
   "outputs": [],
   "source": [
    "data"
   ]
  },
  {
   "cell_type": "code",
   "execution_count": null,
   "metadata": {},
   "outputs": [],
   "source": [
    "data"
   ]
  },
  {
   "cell_type": "code",
   "execution_count": null,
   "metadata": {},
   "outputs": [],
   "source": [
    "test = test.drop_vars('month')"
   ]
  },
  {
   "cell_type": "code",
   "execution_count": null,
   "metadata": {},
   "outputs": [],
   "source": [
    "def standardize(x):\n",
    "    return (x - x.mean(dim='time')) / x.std(dim='time')\n",
    "monthly_grouped = data.groupby('time.month')\n",
    "monthly_means = monthly_grouped.mean()"
   ]
  },
  {
   "cell_type": "code",
   "execution_count": null,
   "metadata": {},
   "outputs": [],
   "source": [
    "with ProgressBar():\n",
    "    monthly_means = monthly_means.compute()"
   ]
  },
  {
   "cell_type": "code",
   "execution_count": null,
   "metadata": {},
   "outputs": [],
   "source": [
    "monthly_means"
   ]
  },
  {
   "cell_type": "code",
   "execution_count": null,
   "metadata": {},
   "outputs": [],
   "source": [
    "values = monthly_means.sel(month=months[1:10])"
   ]
  },
  {
   "cell_type": "code",
   "execution_count": null,
   "metadata": {},
   "outputs": [],
   "source": [
    "values"
   ]
  },
  {
   "cell_type": "code",
   "execution_count": null,
   "metadata": {},
   "outputs": [],
   "source": [
    "months = data['time'].dt.month\n",
    "months\n",
    "months_means = monthly_means.sel(month=months)\n",
    "v = data - months_means\n",
    "with ProgressBar():\n",
    "    v = v.compute()"
   ]
  },
  {
   "cell_type": "code",
   "execution_count": null,
   "metadata": {},
   "outputs": [],
   "source": [
    "data.nbytes"
   ]
  },
  {
   "cell_type": "code",
   "execution_count": null,
   "metadata": {},
   "outputs": [],
   "source": [
    "data.dims"
   ]
  },
  {
   "cell_type": "code",
   "execution_count": null,
   "metadata": {},
   "outputs": [],
   "source": [
    "plotter.plot(v.isel(time=0)['usurf'], lon=0., cmap=cmap_balance)"
   ]
  },
  {
   "cell_type": "code",
   "execution_count": null,
   "metadata": {},
   "outputs": [],
   "source": [
    "monthly_grouped.groups"
   ]
  },
  {
   "cell_type": "code",
   "execution_count": null,
   "metadata": {},
   "outputs": [],
   "source": [
    "with ProgressBar():\n",
    "    rr = monthly_grouped.compute()"
   ]
  },
  {
   "cell_type": "code",
   "execution_count": null,
   "metadata": {},
   "outputs": [],
   "source": [
    "plt.figure()\n",
    "plt.plot(monthly_means['usurf'].sel(longitude=-161, latitude=0, method='nearest'))"
   ]
  },
  {
   "cell_type": "code",
   "execution_count": null,
   "metadata": {},
   "outputs": [],
   "source": [
    "plotter.plot(monthly_stds['usurf'].sel(month=10), lon=0., cmap=cmap_balance, vmax=0.5)"
   ]
  },
  {
   "cell_type": "code",
   "execution_count": null,
   "metadata": {},
   "outputs": [],
   "source": [
    "plotter.plot(data['usurf'].isel(time=0) - monthly_means['usurf'].sel(month=1), lon=0, cmap=cmap_balance)"
   ]
  },
  {
   "cell_type": "code",
   "execution_count": null,
   "metadata": {},
   "outputs": [],
   "source": [
    "plotter.plot(data_n['usurf'].isel(time=100), lon=0., cmap=cmap_balance)"
   ]
  },
  {
   "cell_type": "code",
   "execution_count": null,
   "metadata": {},
   "outputs": [],
   "source": [
    "var = t.apply(data)"
   ]
  },
  {
   "cell_type": "code",
   "execution_count": null,
   "metadata": {},
   "outputs": [],
   "source": []
  }
 ],
 "metadata": {
  "kernelspec": {
   "display_name": "Python 3 (ipykernel)",
   "language": "python",
   "name": "python3"
  },
  "language_info": {
   "codemirror_mode": {
    "name": "ipython",
    "version": 3
   },
   "file_extension": ".py",
   "mimetype": "text/x-python",
   "name": "python",
   "nbconvert_exporter": "python",
   "pygments_lexer": "ipython3",
   "version": "3.11.4"
  }
 },
 "nbformat": 4,
 "nbformat_minor": 4
}
