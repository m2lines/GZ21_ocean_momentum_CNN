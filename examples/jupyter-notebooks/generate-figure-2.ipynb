{
 "cells": [
  {
   "cell_type": "markdown",
   "metadata": {},
   "source": [
    "# Code to generate Figure 2 "
   ]
  },
  {
   "cell_type": "code",
   "execution_count": 1,
   "metadata": {},
   "outputs": [
    {
     "name": "stdout",
     "output_type": "stream",
     "text": [
      "To load the net from the paper, use the function load_paper_net().\n",
      "env: MLFLOW_TRACKING_URI=/home/marion/workspace/gz21_ocean_momentum/examples/jupyter-notebooks/../../mlruns\n"
     ]
    }
   ],
   "source": [
    "import os,sys\n",
    "sys.path.insert(1, os.path.join(os.getcwd()  , '../../src/gz21_ocean_momentum'))\n",
    "from utils import select_experiment, select_run\n",
    "from analysis.utils import plot_dataset, GlobalPlotter, plot_training_subdomains\n",
    "import mlflow\n",
    "from mlflow.tracking import MlflowClient\n",
    "import xarray as xr\n",
    "from dask.diagnostics import ProgressBar\n",
    "import matplotlib.pyplot as plt\n",
    "import numpy as np\n",
    "\n",
    "import cmocean\n",
    "cmap_solar = cmocean.cm.solar\n",
    "cmap_balance = cmocean.cm.balance\n",
    "\n",
    "mlruns_path=os.path.join(os.getcwd(), '../../mlruns')\n",
    "%env MLFLOW_TRACKING_URI $mlruns_path\n",
    "\n",
    "plt.rcParams[\"figure.figsize\"] = (4, 4 / 1.618)"
   ]
  },
  {
   "cell_type": "code",
   "execution_count": 2,
   "metadata": {},
   "outputs": [
    {
     "name": "stdout",
     "output_type": "stream",
     "text": [
      "497746281881301089 :  test3\n",
      "568040818937566888 :  test2\n",
      "302083951441703666 :  testrun\n",
      "0 :  Default\n"
     ]
    },
    {
     "name": "stdin",
     "output_type": "stream",
     "text": [
      "Select the id of an experiment:  497746281881301089\n"
     ]
    }
   ],
   "source": [
    "exp_id, exp_name = select_experiment()"
   ]
  },
  {
   "cell_type": "code",
   "execution_count": 3,
   "metadata": {},
   "outputs": [
    {
     "name": "stdout",
     "output_type": "stream",
     "text": [
      "                             run_id       experiment_id params.CO2\n",
      "0  627cdd8eca1d49c3bc2100f638a895fd  497746281881301089          1\n"
     ]
    },
    {
     "name": "stdin",
     "output_type": "stream",
     "text": [
      "Run id? 0\n"
     ]
    }
   ],
   "source": [
    "experiment_id = mlflow.get_experiment_by_name(exp_name).experiment_id\n",
    "cols = ['params.CO2', ]\n",
    "run = select_run(cols=cols, experiment_ids=(experiment_id,))"
   ]
  },
  {
   "cell_type": "code",
   "execution_count": 4,
   "metadata": {},
   "outputs": [],
   "source": [
    "ml_client = MlflowClient()\n",
    "data_fname = ml_client.download_artifacts(run.run_id, 'forcing')\n",
    "data = xr.open_zarr(data_fname)\n",
    "data = data.rename(dict(xu_ocean='longitude', yu_ocean='latitude'))\n"
   ]
  },
  {
   "cell_type": "code",
   "execution_count": 6,
   "metadata": {},
   "outputs": [
    {
     "name": "stdout",
     "output_type": "stream",
     "text": [
      "                             run_id       experiment_id\n",
      "0  627cdd8eca1d49c3bc2100f638a895fd  497746281881301089\n"
     ]
    },
    {
     "name": "stdin",
     "output_type": "stream",
     "text": [
      "Run id? 0\n"
     ]
    },
    {
     "name": "stdout",
     "output_type": "stream",
     "text": [
      "{'lat_max': '25', 'ntimes': '100', 'global': '0', 'lat_min': '-25', 'long_min': '-280', 'long_max': '80', 'factor': '4', 'chunk_size': '1', 'CO2': '1'}\n"
     ]
    },
    {
     "ename": "KeyError",
     "evalue": "'source.run_id'",
     "output_type": "error",
     "traceback": [
      "\u001b[0;31m---------------------------------------------------------------------------\u001b[0m",
      "\u001b[0;31mKeyError\u001b[0m                                  Traceback (most recent call last)",
      "Cell \u001b[0;32mIn[6], line 225\u001b[0m\n\u001b[1;32m    223\u001b[0m plotter\u001b[38;5;241m.\u001b[39mx_ticks \u001b[38;5;241m=\u001b[39m np\u001b[38;5;241m.\u001b[39marange(\u001b[38;5;241m-\u001b[39m\u001b[38;5;241m150.\u001b[39m, \u001b[38;5;241m151.\u001b[39m, \u001b[38;5;241m50\u001b[39m)\n\u001b[1;32m    224\u001b[0m plotter\u001b[38;5;241m.\u001b[39my_ticks \u001b[38;5;241m=\u001b[39m np\u001b[38;5;241m.\u001b[39marange(\u001b[38;5;241m-\u001b[39m\u001b[38;5;241m80.\u001b[39m, \u001b[38;5;241m81.\u001b[39m, \u001b[38;5;241m20\u001b[39m)\n\u001b[0;32m--> 225\u001b[0m \u001b[43mplot_training_subdomains\u001b[49m\u001b[43m(\u001b[49m\u001b[43mrun_id\u001b[49m\u001b[43m,\u001b[49m\u001b[43m \u001b[49m\u001b[43mplotter\u001b[49m\u001b[43m,\u001b[49m\u001b[43m \u001b[49m\u001b[43mbg_variable\u001b[49m\u001b[38;5;241;43m=\u001b[39;49m\u001b[43mdata\u001b[49m\u001b[43m[\u001b[49m\u001b[38;5;124;43m'\u001b[39;49m\u001b[38;5;124;43musurf\u001b[39;49m\u001b[38;5;124;43m'\u001b[39;49m\u001b[43m]\u001b[49m\u001b[38;5;241;43m.\u001b[39;49m\u001b[43misel\u001b[49m\u001b[43m(\u001b[49m\u001b[43mtime\u001b[49m\u001b[38;5;241;43m=\u001b[39;49m\u001b[38;5;241;43m0\u001b[39;49m\u001b[43m)\u001b[49m\u001b[43m,\u001b[49m\u001b[43m \u001b[49m\u001b[43mfacecolor\u001b[49m\u001b[38;5;241;43m=\u001b[39;49m\u001b[38;5;124;43m'\u001b[39;49m\u001b[38;5;124;43mgreen\u001b[39;49m\u001b[38;5;124;43m'\u001b[39;49m\u001b[43m,\u001b[49m\u001b[43m \u001b[49m\u001b[43medgecolor\u001b[49m\u001b[38;5;241;43m=\u001b[39;49m\u001b[38;5;124;43m'\u001b[39;49m\u001b[38;5;124;43mblack\u001b[39;49m\u001b[38;5;124;43m'\u001b[39;49m\u001b[43m,\u001b[49m\u001b[43m \u001b[49m\u001b[43mlinewidth\u001b[49m\u001b[38;5;241;43m=\u001b[39;49m\u001b[38;5;241;43m2\u001b[39;49m\u001b[43m,\u001b[49m\u001b[43m \u001b[49m\u001b[43mfill\u001b[49m\u001b[38;5;241;43m=\u001b[39;49m\u001b[38;5;28;43;01mFalse\u001b[39;49;00m\u001b[43m,\u001b[49m\u001b[43m \u001b[49m\u001b[43mvmin\u001b[49m\u001b[38;5;241;43m=\u001b[39;49m\u001b[38;5;241;43m-\u001b[39;49m\u001b[38;5;241;43m0.5\u001b[39;49m\u001b[43m,\u001b[49m\u001b[43m \u001b[49m\u001b[43mvmax\u001b[49m\u001b[38;5;241;43m=\u001b[39;49m\u001b[38;5;241;43m0.5\u001b[39;49m\u001b[43m,\u001b[49m\u001b[43m \u001b[49m\u001b[43mlon\u001b[49m\u001b[38;5;241;43m=\u001b[39;49m\u001b[38;5;241;43m0.\u001b[39;49m\u001b[43m,\u001b[49m\u001b[43m \u001b[49m\u001b[43mcmap\u001b[49m\u001b[38;5;241;43m=\u001b[39;49m\u001b[43mcmap_balance\u001b[49m\u001b[43m)\u001b[49m\n",
      "File \u001b[0;32m~/workspace/gz21_ocean_momentum/examples/jupyter-notebooks/../../src/gz21_ocean_momentum/analysis/utils.py:625\u001b[0m, in \u001b[0;36mplot_training_subdomains\u001b[0;34m(run_id, global_plotter, alpha, bg_variable, facecolor, edgecolor, linewidth, fill, *plot_args, **plot_kwd_args)\u001b[0m\n\u001b[1;32m    623\u001b[0m run_params \u001b[38;5;241m=\u001b[39m run\u001b[38;5;241m.\u001b[39mdata\u001b[38;5;241m.\u001b[39mparams\n\u001b[1;32m    624\u001b[0m \u001b[38;5;28mprint\u001b[39m(run_params)\n\u001b[0;32m--> 625\u001b[0m data_ids \u001b[38;5;241m=\u001b[39m \u001b[43mrun_params\u001b[49m\u001b[43m[\u001b[49m\u001b[38;5;124;43m\"\u001b[39;49m\u001b[38;5;124;43msource.run_id\u001b[39;49m\u001b[38;5;124;43m\"\u001b[39;49m\u001b[43m]\u001b[49m\u001b[38;5;241m.\u001b[39msplit(\u001b[38;5;124m\"\u001b[39m\u001b[38;5;124m/\u001b[39m\u001b[38;5;124m\"\u001b[39m)\n\u001b[1;32m    626\u001b[0m \u001b[38;5;66;03m# retrieve the latex code for the table from file\u001b[39;00m\n\u001b[1;32m    627\u001b[0m \u001b[38;5;28;01mwith\u001b[39;00m \u001b[38;5;28mopen\u001b[39m(\u001b[38;5;124m\"\u001b[39m\u001b[38;5;124manalysis/latex_table.txt\u001b[39m\u001b[38;5;124m\"\u001b[39m) \u001b[38;5;28;01mas\u001b[39;00m f:\n",
      "\u001b[0;31mKeyError\u001b[0m: 'source.run_id'"
     ]
    }
   ],
   "source": [
    "from data.pangeo_catalog import get_patch\n",
    "\n",
    "%matplotlib notebook\n",
    "run = select_run(experiment_ids=('497746281881301089'))\n",
    "run_id = run.run_id\n",
    "\n",
    "from cartopy.crs import PlateCarree\n",
    "from data.pangeo_catalog import get_patch, get_whole_data\n",
    "from scipy.ndimage import gaussian_filter\n",
    "from matplotlib import colors\n",
    "\n",
    "\n",
    "CATALOG_URL = 'https://raw.githubusercontent.com/pangeo-data/pangeo-datastore\\\n",
    "/master/intake-catalogs/master.yaml'\n",
    "\n",
    "\n",
    "class GlobalPlotter:\n",
    "    \"\"\"General class to make plots for global data. Handles masking of\n",
    "    continental data + showing a band near coastlines.\"\"\"\n",
    "\n",
    "    def __init__(self, margin: int = 10, cbar: bool = True, ice: bool = True):\n",
    "        self.mask = self._get_global_u_mask()\n",
    "        self.margin = margin\n",
    "        self.cbar = cbar\n",
    "        self.ticks = dict(x=None, y=None)\n",
    "        self.ice = ice\n",
    "\n",
    "    @property\n",
    "    def mask(self):\n",
    "        return self._mask\n",
    "\n",
    "    @mask.setter\n",
    "    def mask(self, value):\n",
    "        self._mask = value\n",
    "\n",
    "    @property\n",
    "    def borders(self):\n",
    "        return self._borders\n",
    "\n",
    "    @borders.setter\n",
    "    def borders(self, value):\n",
    "        self._borders = value\n",
    "\n",
    "    @property\n",
    "    def margin(self):\n",
    "        return self._margin\n",
    "\n",
    "    @margin.setter\n",
    "    def margin(self, margin):\n",
    "        self._margin = margin\n",
    "        self.borders = self._get_continent_borders(self.mask, self.margin)\n",
    "\n",
    "    @property\n",
    "    def x_ticks(self):\n",
    "        return self.ticks['x']\n",
    "\n",
    "    @x_ticks.setter\n",
    "    def x_ticks(self, value):\n",
    "        self.ticks['x'] = value\n",
    "\n",
    "    @property\n",
    "    def y_ticks(self):\n",
    "        return self.ticks['y']\n",
    "\n",
    "    @y_ticks.setter\n",
    "    def y_ticks(self, value):\n",
    "        self.ticks['y'] = value\n",
    "\n",
    "    def plot(self, u: xr.DataArray = None, projection_cls=PlateCarree,\n",
    "             lon: float = -100.0, lat: float = None, ax=None, animated=False,\n",
    "             borders_color='grey', borders_alpha=1., **plot_func_kw):\n",
    "        \"\"\"\n",
    "        Plots the passed velocity component on a map, using the specified\n",
    "        projection. Uses the instance's mask to set as nan some values.\n",
    "\n",
    "        Parameters\n",
    "        ----------\n",
    "        u : xr.DataArray\n",
    "            Velocity array. The default is None.\n",
    "        projection : Projection\n",
    "            Projection used for the 2D plot.\n",
    "        lon : float, optional\n",
    "            Central longitude. The default is -100.0.\n",
    "        lat : float, optional\n",
    "            Central latitude. The default is None.\n",
    "\n",
    "        Returns\n",
    "        -------\n",
    "        None.\n",
    "\n",
    "        \"\"\"\n",
    "        fig = plt.figure()\n",
    "        projection = projection_cls(lon)\n",
    "        if ax is None:\n",
    "            ax = plt.axes(projection=projection)\n",
    "        mesh_x, mesh_y = np.meshgrid(u['longitude'], u['latitude'])\n",
    "        if u is not None:\n",
    "            extra = self.mask.isel(longitude=slice(0, 10))\n",
    "            extra['longitude'] = extra['longitude'] + 360\n",
    "            mask = xr.concat((self.mask, extra), dim='longitude')\n",
    "            mask = mask.interp({k: u.coords[k] for k in ('longitude',\n",
    "                                                         'latitude')})\n",
    "            u = u * mask\n",
    "            im = ax.pcolormesh(mesh_x, mesh_y, u.values,\n",
    "                               transform=PlateCarree(),\n",
    "                               animated=animated, **plot_func_kw)\n",
    "        if self.x_ticks is not None:\n",
    "            ax.set_xticks(self.x_ticks)\n",
    "        if self.y_ticks is not None:\n",
    "            ax.set_yticks(self.y_ticks)\n",
    "        ax.set_global()\n",
    "        ax.coastlines()\n",
    "        # \"Gray-out\" near continental locations\n",
    "        if self.margin > 0:\n",
    "            extra = self.borders.isel(longitude=slice(0, 10))\n",
    "            extra['longitude'] = extra['longitude'] + 360\n",
    "            borders = xr.concat((self.borders, extra), dim='longitude')\n",
    "            borders = borders.interp({k: u.coords[k]\n",
    "                                     for k in ('longitude', 'latitude')})\n",
    "            borders_cmap = colors.ListedColormap([borders_color, ])\n",
    "            ax.pcolormesh(mesh_x, mesh_y, borders, animated=animated,\n",
    "                          transform=PlateCarree(), alpha=borders_alpha,\n",
    "                          cmap=borders_cmap)\n",
    "        # Add locations of ice\n",
    "        if self.ice:\n",
    "            ice = self._get_ice_border()\n",
    "            ice = xr.where(ice, 1., 0.)\n",
    "            ice = ice.interp({k: u.coords[k] for k in ('longitude',\n",
    "                                                       'latitude')})\n",
    "            ice = xr.where(ice != 0, 1., 0.)\n",
    "            ice = abs(ice.diff(dim='longitude')) + abs(ice.diff(dim='latitude'))\n",
    "            ice = xr.where(ice != 0., 1, np.nan)\n",
    "            ice_cmap = colors.ListedColormap(['black', ])\n",
    "            ax.pcolormesh(mesh_x, mesh_y, ice, animated=animated,\n",
    "                          transform=PlateCarree(), alpha=0.5,\n",
    "                          cmap=ice_cmap)\n",
    "        if u is not None and self.cbar:\n",
    "            cbar = plt.colorbar(im, shrink=0.6)\n",
    "            cbar.set_label('m/s')\n",
    "        return ax\n",
    "\n",
    "    @staticmethod\n",
    "    def _get_global_u_mask(factor: int = 4, base_mask: xr.DataArray = None):\n",
    "        \"\"\"\n",
    "        Return the global mask of the low-resolution surface velocities for\n",
    "        plots. While the coarse-grained velocities might be defined on\n",
    "        continental points due to the coarse-graining procedures, these are\n",
    "        not shown as we do not use them -- the mask for the forcing is even\n",
    "        more restrictive, as it removes any point within some margin of the\n",
    "        velocities mask.\n",
    "\n",
    "        Parameters\n",
    "        ----------\n",
    "        factor : int, optional\n",
    "            Coarse-graining factor. The default is 4.\n",
    "\n",
    "        base_mask: xr.DataArray, optional\n",
    "            # TODO\n",
    "            Not implemented for now.\n",
    "\n",
    "        Returns\n",
    "        -------\n",
    "        None.\n",
    "\n",
    "        \"\"\"\n",
    "        if base_mask is not None:\n",
    "            mask = base_mask\n",
    "        else:\n",
    "            _, grid_info = get_whole_data(CATALOG_URL, 0)\n",
    "            mask = grid_info['wet']\n",
    "            mask = mask.coarsen(dict(xt_ocean=factor, yt_ocean=factor))\n",
    "        mask_ = mask.max()\n",
    "        mask_ = mask_.where(mask_ > 0.1)\n",
    "        mask_ = mask_.rename(dict(xt_ocean='longitude', yt_ocean='latitude'))\n",
    "        return mask_.compute()\n",
    "\n",
    "    @staticmethod\n",
    "    def _get_ice_border():\n",
    "        \"\"\"Return an xarray.DataArray that indicates the locations of ice\n",
    "        in the oceans. \"\"\"\n",
    "        temperature, _ = get_patch(CATALOG_URL, 1, None, 0,\n",
    "                                        'surface_temp')\n",
    "        temperature = temperature.rename(dict(xt_ocean='longitude',\n",
    "                                              yt_ocean='latitude'))\n",
    "        temperature = temperature['surface_temp'].isel(time=0)\n",
    "        ice = xr.where(temperature <= 0., True, False)\n",
    "        return ice\n",
    "\n",
    "    @staticmethod\n",
    "    def _get_continent_borders(base_mask: xr.DataArray, margin: int):\n",
    "        \"\"\"\n",
    "        Returns a boolean xarray DataArray corresponding to a mask of the\n",
    "        continents' coasts, which we do not process.\n",
    "        Hence margin should be set according to the model.\n",
    "\n",
    "        Parameters\n",
    "        ----------\n",
    "        mask : xr.DataArray\n",
    "            Mask taking value 1 where coarse velocities are defined and used\n",
    "            as input and nan elsewhere.\n",
    "        margin : int\n",
    "            Margin imposed by the model used, i.e. number of points lost on\n",
    "            one side of a square.\n",
    "\n",
    "        Returns\n",
    "        -------\n",
    "        mask : xr.DataArray\n",
    "            Boolean DataArray taking value True for continents.\n",
    "\n",
    "        \"\"\"\n",
    "        assert margin >= 0, 'The margin parameter should be a non-negative' \\\n",
    "                            ' integer'\n",
    "        assert base_mask.ndim <= 2, 'Velocity array should have two'\\\n",
    "                                    ' dims'\n",
    "        # Small trick using the guassian filter function\n",
    "        mask = xr.apply_ufunc(lambda x: gaussian_filter(x, 1., truncate=margin),\n",
    "                              base_mask)\n",
    "        mask = np.logical_and(np.isnan(mask),  ~np.isnan(base_mask))\n",
    "        mask = mask.where(mask)\n",
    "        return mask.compute()\n",
    "\n",
    "plotter = GlobalPlotter(cbar=True, margin=0)\n",
    "plotter.x_ticks = np.arange(-150., 151., 50)\n",
    "plotter.y_ticks = np.arange(-80., 81., 20)\n",
    "plot_training_subdomains(run_id, plotter, bg_variable=data['usurf'].isel(time=0), facecolor='green', edgecolor='black', linewidth=2, fill=False, vmin=-0.5, vmax=0.5, lon=0., cmap=cmap_balance)\n"
   ]
  },
  {
   "cell_type": "code",
   "execution_count": null,
   "metadata": {},
   "outputs": [],
   "source": [
    "plt.savefig('figure2.jpg', dpi=250)"
   ]
  },
  {
   "cell_type": "code",
   "execution_count": null,
   "metadata": {},
   "outputs": [],
   "source": []
  }
 ],
 "metadata": {
  "kernelspec": {
   "display_name": "Python 3 (ipykernel)",
   "language": "python",
   "name": "python3"
  },
  "language_info": {
   "codemirror_mode": {
    "name": "ipython",
    "version": 3
   },
   "file_extension": ".py",
   "mimetype": "text/x-python",
   "name": "python",
   "nbconvert_exporter": "python",
   "pygments_lexer": "ipython3",
   "version": "3.11.4"
  }
 },
 "nbformat": 4,
 "nbformat_minor": 4
}
