{
 "cells": [
  {
   "cell_type": "markdown",
   "metadata": {},
   "source": [
    "###### Multi-region analysis "
   ]
  },
  {
   "cell_type": "markdown",
   "metadata": {},
   "source": [
    "In this notebook we analyse the ability of a model trained on a region A to infer the subgrid forcing to achieve the same task on a different region, say region B. "
   ]
  },
  {
   "cell_type": "code",
   "execution_count": null,
   "metadata": {
    "scrolled": true
   },
   "outputs": [],
   "source": [
    "import mlflow\n",
    "import xarray as xr\n",
    "import matplotlib.pyplot as plt\n",
    "import os,sys\n",
    "sys.path.insert(1, os.path.join(os.getcwd()  , '../../src/gz21_ocean_momentum'))\n",
    "from utils import select_run"
   ]
  },
  {
   "cell_type": "code",
   "execution_count": null,
   "metadata": {},
   "outputs": [],
   "source": [
    "plt.rcParams[\"figure.figsize\"] = (15, 10)"
   ]
  },
  {
   "cell_type": "code",
   "execution_count": null,
   "metadata": {},
   "outputs": [],
   "source": [
    "def plot_dataset(dataset : xr.Dataset, plot_type = None, *args, **kargs):\n",
    "    \"\"\"Calls the plot function of each variable in the dataset\"\"\"\n",
    "    plt.figure(figsize = (20, 5 * int(len(dataset) / 2)))\n",
    "    kargs_ = [dict() for i in range(len(dataset))]\n",
    "    def process_list_of_args(name: str):\n",
    "        if name in kargs:\n",
    "            if isinstance(kargs[name], list):\n",
    "                for i, arg_value in enumerate(kargs[name]):\n",
    "                    kargs_[i][name] = arg_value\n",
    "            else:\n",
    "                for i in range(len(dataset)):\n",
    "                    kargs_[i][name] = kargs[name]\n",
    "            kargs.pop(name)\n",
    "    process_list_of_args('vmin')\n",
    "    process_list_of_args('vmax')\n",
    "    for i, variable in enumerate(dataset):\n",
    "        plt.subplot(int(len(dataset) / 2), 2, i + 1)\n",
    "        if plot_type is None:\n",
    "            try:\n",
    "                # By default we set the cmap to coolwarm\n",
    "                kargs.setdefault('cmap', 'coolwarm')\n",
    "                dataset[variable].plot(*args, **kargs_[i], **kargs)\n",
    "            except AttributeError as e:\n",
    "                kargs.pop('cmap', None)\n",
    "                dataset[variable].plot(*args, **kargs)\n",
    "        else:\n",
    "            plt_func = getattr(dataset[variable].plot, plot_type)\n",
    "            plt_func(*args, **kargs)\n",
    "import matplotlib.animation as animation\n",
    "\n",
    "def dataset_to_movie(dataset : xr.Dataset, interval : int = 50,\n",
    "                    *args, **kargs):\n",
    "    \"\"\"Generates animations for all the variables in the dataset\"\"\"\n",
    "    fig = plt.figure(figsize = (20, 5 * int(len(dataset) / 2)))\n",
    "    axes = list()\n",
    "    ims = list()\n",
    "    for i, variable in enumerate(dataset.keys()):\n",
    "        axes.append(fig.add_subplot(int(len(dataset) / 2), 2, i + 1))\n",
    "    for i, t in enumerate(dataset['time']):\n",
    "        im = list()\n",
    "        for axis, variable in zip(axes, dataset.keys()):\n",
    "            plt.sca(axis)\n",
    "            img = dataset[variable].isel(time=i).plot(vmin=-2, vmax=2,\n",
    "                                                      cmap='coolwarm')\n",
    "            cb = img.colorbar\n",
    "            cb.remove()\n",
    "            im.append(img)\n",
    "        ims.append(im)\n",
    "    ani = animation.ArtistAnimation(fig, ims, \n",
    "                                    interval=interval, blit=True,\n",
    "                                    repeat_delay=1000)\n",
    "    return ani"
   ]
  },
  {
   "cell_type": "code",
   "execution_count": null,
   "metadata": {},
   "outputs": [],
   "source": [
    "client = mlflow.tracking.MlflowClient()\n",
    "client.list_experiments()"
   ]
  },
  {
   "cell_type": "code",
   "execution_count": null,
   "metadata": {},
   "outputs": [],
   "source": [
    "import pandas as pd\n",
    "def select_run(limit=1000, sort_by=None, cols=None, merge=None, *args, **kargs):\n",
    "    \"\"\"Allows to select a run from the tracking store interactively\"\"\"\n",
    "    mlflow_runs = mlflow.search_runs(*args, **kargs)\n",
    "    if cols is None:\n",
    "        cols = list()\n",
    "    cols = ['run_id', 'experiment_id' ] + cols\n",
    "    mlflow_runs = mlflow_runs.iloc[:limit]\n",
    "    # Remove possible duplicate columns\n",
    "    new_cols = list()\n",
    "    for e in cols:\n",
    "        if e not in new_cols:\n",
    "            new_cols.append(e)\n",
    "    cols = new_cols\n",
    "    print(len(mlflow_runs))\n",
    "    if merge is not None:\n",
    "        cols[cols.index('run_id')] = 'run_id_x'\n",
    "        cols[cols.index('experiment_id')] = 'experiment_id_x'\n",
    "        for name, key_left, key_right in merge:\n",
    "            experiment = mlflow.get_experiment_by_name(name)\n",
    "            df2 = mlflow.search_runs(experiment_ids=experiment.experiment_id)\n",
    "            mlflow_runs = pd.merge(mlflow_runs, df2, left_on=key_left,\n",
    "                                   right_on=key_right)\n",
    "    print(len(mlflow_runs))\n",
    "    if len(mlflow_runs) == 0:\n",
    "        raise Exception('No data found. Check that you correctly set \\\n",
    "                        the store')\n",
    "    if sort_by is not None:\n",
    "        mlflow_runs = mlflow_runs.sort_values(by=sort_by, ascending=False)\n",
    "        cols.append(sort_by)\n",
    "    print(mlflow_runs[cols])\n",
    "    id_ = int(input('Run id?'))\n",
    "    if id_ < 0:\n",
    "        sys.exit()\n",
    "    return mlflow_runs.loc[id_, :]"
   ]
  },
  {
   "cell_type": "code",
   "execution_count": null,
   "metadata": {},
   "outputs": [],
   "source": [
    "cols = ['start_time_x','params.model_cls_name', 'metrics.test loss', 'params.lat_min', \n",
    "       'params.lat_max', 'params.long_min', 'params.long_max', 'params.n_epochs_x', 'params.model_run_id']\n",
    "run = select_run(sort_by='start_time_x', cols=cols, merge=[('Unet', 'params.model_run_id', 'run_id'),\n",
    "                                  ('forcingdata1pct', 'params.data_run_id', 'run_id')], experiment_ids = ['11',])"
   ]
  },
  {
   "cell_type": "code",
   "execution_count": null,
   "metadata": {},
   "outputs": [],
   "source": [
    "for k,v in run.items():\n",
    "    print(f'{k}: {v}')"
   ]
  },
  {
   "cell_type": "code",
   "execution_count": null,
   "metadata": {},
   "outputs": [],
   "source": [
    "data_run_id = run['params.data_run_id']\n",
    "data_run = client.get_run(data_run_id)"
   ]
  },
  {
   "cell_type": "code",
   "execution_count": null,
   "metadata": {},
   "outputs": [],
   "source": [
    "from analysis.base import get_test_datasets\n",
    "test_datasets = get_test_datasets(run['run_id_x'])"
   ]
  },
  {
   "cell_type": "code",
   "execution_count": null,
   "metadata": {},
   "outputs": [],
   "source": [
    "id = 0\n",
    "error = (test_datasets[id]['S_xpred'] - test_datasets[id]['S_x']) \n",
    "error0 = test_datasets[id]['S_x']"
   ]
  },
  {
   "cell_type": "code",
   "execution_count": null,
   "metadata": {},
   "outputs": [],
   "source": [
    "((error**2).mean(dim='time') / (error0**2).mean(dim='time')).plot(vmin=0.2, vmax=1)"
   ]
  },
  {
   "cell_type": "code",
   "execution_count": null,
   "metadata": {},
   "outputs": [],
   "source": [
    "import numpy as np\n",
    "model_output = test_datasets[id]\n",
    "model_output['S_xscale'] = 1/(model_output['S_xscale'])\n",
    "model_output['S_yscale'] = 1/(model_output['S_yscale'])\n",
    "model_output['err_S_x'] = (model_output['S_x'] - model_output['S_xpred'])**2\n",
    "model_output['err_S_y'] = (model_output['S_y'] - model_output['S_ypred'])**2"
   ]
  },
  {
   "cell_type": "code",
   "execution_count": null,
   "metadata": {},
   "outputs": [],
   "source": [
    "model_output['time_index'] = xr.DataArray(np.arange(len(model_output.coords['time'])),\n",
    "                                       dims = ('time',),\n",
    "                                       coords = {'time' : model_output['time']})\n",
    "model_output = model_output.swap_dims({'time' : 'time_index'})"
   ]
  },
  {
   "cell_type": "code",
   "execution_count": null,
   "metadata": {},
   "outputs": [],
   "source": [
    "from random import randint\n",
    "n_times = len(model_output['time'])\n",
    "random_time = randint(0, n_times)\n",
    "print(random_time)\n",
    "plot_dataset(model_output.isel(time_index=random_time)[['u_surf', 'v_surf', 'S_x', 'S_y', 'S_xpred', 'S_ypred',\n",
    "                                                          'S_xscale', 'S_yscale', 'err_S_x', 'err_S_y']],\n",
    "            vmin = [-2]*6 + [0., 0., 0., 0.], vmax = [2]*6 + [1, 1,1,1])"
   ]
  },
  {
   "cell_type": "code",
   "execution_count": null,
   "metadata": {},
   "outputs": [],
   "source": [
    "(model_output['err_S_x']).mean(dim='time_index').plot(vmax=1)"
   ]
  },
  {
   "cell_type": "code",
   "execution_count": null,
   "metadata": {},
   "outputs": [],
   "source": [
    "fig = plt.figure(figsize=(30, 30))\n",
    "long = -45\n",
    "lat = 44\n",
    "plt.subplot(2, 1, 1)\n",
    "time = slice(0, 600)\n",
    "model_output['S_x'].isel(time_index=time).sel(longitude=long, latitude=lat, method='nearest').plot(linewidth=3)\n",
    "model_output['S_xpred'].isel(time_index=time).sel(longitude=long, latitude=lat, method='nearest').plot(linewidth=3)\n",
    "uB = model_output['S_xpred'] + 1.96 * model_output['S_xscale']\n",
    "lB = model_output['S_xpred'] - 1.96 * model_output['S_xscale']\n",
    "uB.isel(time_index=time).sel(longitude=long, latitude=lat, method='nearest').plot(linestyle='--',color='gray')\n",
    "lB.isel(time_index=time).sel(longitude=long, latitude=lat, method='nearest').plot(linestyle='--',color='gray')\n",
    "plt.legend(('Sx', 'Sx_pred'))"
   ]
  },
  {
   "cell_type": "code",
   "execution_count": null,
   "metadata": {},
   "outputs": [],
   "source": [
    "correlations = (model_output['S_y'] * model_output['S_ypred']).mean(dim='time_index') / np.sqrt((model_output['S_y']**2).mean(dim='time_index') * (model_output['S_ypred']**2).mean(dim='time_index'))"
   ]
  },
  {
   "cell_type": "code",
   "execution_count": null,
   "metadata": {},
   "outputs": [],
   "source": [
    "correlations.plot(vmin=0.1, vmax=1)"
   ]
  }
 ],
 "metadata": {
  "kernelspec": {
   "display_name": "Python 3 (ipykernel)",
   "language": "python",
   "name": "python3"
  },
  "language_info": {
   "codemirror_mode": {
    "name": "ipython",
    "version": 3
   },
   "file_extension": ".py",
   "mimetype": "text/x-python",
   "name": "python",
   "nbconvert_exporter": "python",
   "pygments_lexer": "ipython3",
   "version": "3.11.2"
  }
 },
 "nbformat": 4,
 "nbformat_minor": 4
}
