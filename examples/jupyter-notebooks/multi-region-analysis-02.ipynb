{
 "cells": [
  {
   "cell_type": "markdown",
   "metadata": {},
   "source": [
    "###### Multi-region analysis "
   ]
  },
  {
   "cell_type": "markdown",
   "metadata": {},
   "source": [
    "In this notebook we analyse the ability of a model trained on a region A to infer the subgrid forcing to achieve the same task on a different region, say region B. "
   ]
  },
  {
   "cell_type": "code",
   "execution_count": null,
   "metadata": {
    "scrolled": true
   },
   "outputs": [],
   "source": [
    "import mlflow\n",
    "import xarray as xr\n",
    "import matplotlib.pyplot as plt\n",
    "import os,sys\n",
    "sys.path.insert(1, os.path.join(os.getcwd()  , '../../src/gz21_ocean_momentum'))\n",
    "from utils import select_run"
   ]
  },
  {
   "cell_type": "code",
   "execution_count": null,
   "metadata": {},
   "outputs": [],
   "source": [
    "plt.rcParams[\"figure.figsize\"] = (20, 15)"
   ]
  },
  {
   "cell_type": "code",
   "execution_count": null,
   "metadata": {},
   "outputs": [],
   "source": [
    "def plot_dataset(dataset : xr.Dataset, plot_type = None, *args, **kargs):\n",
    "    \"\"\"Calls the plot function of each variable in the dataset\"\"\"\n",
    "    plt.figure(figsize = (20, 5 * int(len(dataset) / 2)))\n",
    "    kargs_ = [dict() for i in range(len(dataset))]\n",
    "    def process_list_of_args(name: str):\n",
    "        if name in kargs:\n",
    "            if isinstance(kargs[name], list):\n",
    "                for i, arg_value in enumerate(kargs[name]):\n",
    "                    kargs_[i][name] = arg_value\n",
    "            else:\n",
    "                for i in range(len(dataset)):\n",
    "                    kargs_[i][name] = kargs[name]\n",
    "            kargs.pop(name)\n",
    "    process_list_of_args('vmin')\n",
    "    process_list_of_args('vmax')\n",
    "    for i, variable in enumerate(dataset):\n",
    "        plt.subplot(int(len(dataset) / 2), 2, i + 1)\n",
    "        if plot_type is None:\n",
    "            try:\n",
    "                # By default we set the cmap to coolwarm\n",
    "                kargs.setdefault('cmap', 'coolwarm')\n",
    "                dataset[variable].plot(*args, **kargs_[i], **kargs)\n",
    "            except AttributeError as e:\n",
    "                kargs.pop('cmap', None)\n",
    "                dataset[variable].plot(*args, **kargs)\n",
    "        else:\n",
    "            plt_func = getattr(dataset[variable].plot, plot_type)\n",
    "            plt_func(*args, **kargs)\n",
    "import matplotlib.animation as animation\n",
    "\n",
    "def dataset_to_movie(dataset : xr.Dataset, interval : int = 50,\n",
    "                    *args, **kargs):\n",
    "    \"\"\"Generates animations for all the variables in the dataset\"\"\"\n",
    "    fig = plt.figure(figsize = (20, 5 * int(len(dataset) / 2)))\n",
    "    axes = list()\n",
    "    ims = list()\n",
    "    for i, variable in enumerate(dataset.keys()):\n",
    "        axes.append(fig.add_subplot(int(len(dataset) / 2), 2, i + 1))\n",
    "    for i, t in enumerate(dataset['time']):\n",
    "        im = list()\n",
    "        for axis, variable in zip(axes, dataset.keys()):\n",
    "            plt.sca(axis)\n",
    "            img = dataset[variable].isel(time=i).plot(vmin=-2, vmax=2,\n",
    "                                                      cmap='coolwarm')\n",
    "            cb = img.colorbar\n",
    "            cb.remove()\n",
    "            im.append(img)\n",
    "        ims.append(im)\n",
    "    ani = animation.ArtistAnimation(fig, ims, \n",
    "                                    interval=interval, blit=True,\n",
    "                                    repeat_delay=1000)\n",
    "    return ani"
   ]
  },
  {
   "cell_type": "code",
   "execution_count": null,
   "metadata": {},
   "outputs": [],
   "source": [
    "client = mlflow.tracking.MlflowClient()"
   ]
  },
  {
   "cell_type": "code",
   "execution_count": null,
   "metadata": {},
   "outputs": [],
   "source": [
    "import pandas as pd\n",
    "def select_run(limit=1000, sort_by=None, cols=None, merge=None, *args, **kargs):\n",
    "    \"\"\"Allows to select a run from the tracking store interactively\"\"\"\n",
    "    mlflow_runs = mlflow.search_runs(*args, **kargs)\n",
    "    if cols is None:\n",
    "        cols = list()\n",
    "    cols = ['run_id', 'experiment_id' ] + cols\n",
    "    mlflow_runs = mlflow_runs.iloc[:limit]\n",
    "    # Remove possible duplicate columns\n",
    "    new_cols = list()\n",
    "    for e in cols:\n",
    "        if e not in new_cols:\n",
    "            new_cols.append(e)\n",
    "    cols = new_cols\n",
    "    print(len(mlflow_runs))\n",
    "    if merge is not None:\n",
    "        cols[cols.index('run_id')] = 'run_id_x'\n",
    "        cols[cols.index('experiment_id')] = 'experiment_id_x'\n",
    "        for name, key_left, key_right in merge:\n",
    "            experiment = mlflow.get_experiment_by_name(name)\n",
    "            df2 = mlflow.search_runs(experiment_ids=experiment.experiment_id)\n",
    "            mlflow_runs = pd.merge(mlflow_runs, df2, left_on=key_left,\n",
    "                                   right_on=key_right)\n",
    "    print(len(mlflow_runs))\n",
    "    if len(mlflow_runs) == 0:\n",
    "        raise Exception('No data found. Check that you correctly set \\\n",
    "                        the store')\n",
    "    if sort_by is not None:\n",
    "        mlflow_runs = mlflow_runs.sort_values(by=sort_by, ascending=False)\n",
    "        cols.append(sort_by)\n",
    "    print(mlflow_runs[cols])\n",
    "    id_ = int(input('Run id?'))\n",
    "    if id_ < 0:\n",
    "        sys.exit()\n",
    "    return mlflow_runs.loc[id_, :]"
   ]
  },
  {
   "cell_type": "code",
   "execution_count": null,
   "metadata": {},
   "outputs": [],
   "source": [
    "cols = ['start_time_x','params.model_cls_name', 'metrics.test loss', 'params.lat_min', \n",
    "       'params.lat_max', 'params.long_min', 'params.long_max', 'params.n_epochs_x', 'params.model_run_id']\n",
    "run = select_run(sort_by='start_time_x', cols=cols, merge=[('meeting22july', 'params.model_run_id', 'run_id'),\n",
    "                                  ('forcingdatav3', 'params.data_run_id', 'run_id')], experiment_ids = ['12',])"
   ]
  },
  {
   "cell_type": "code",
   "execution_count": null,
   "metadata": {},
   "outputs": [],
   "source": [
    "for k,v in run.items():\n",
    "    print(f'{k}: {v}')"
   ]
  },
  {
   "cell_type": "code",
   "execution_count": null,
   "metadata": {},
   "outputs": [],
   "source": [
    "data_run_id = run['params.data_run_id']\n",
    "data_run = client.get_run(data_run_id)"
   ]
  },
  {
   "cell_type": "code",
   "execution_count": null,
   "metadata": {},
   "outputs": [],
   "source": [
    "import numpy as np\n",
    "data_file = client.download_artifacts(data_run_id, 'forcing')\n",
    "data = xr.open_zarr(data_file)\n",
    "data['time_index'] = xr.DataArray(np.arange(len(data.coords['time'])),\n",
    "                                       dims = ('time',),\n",
    "                                       coords = {'time' : data['time']})\n",
    "data = data.swap_dims({'time' : 'time_index'})"
   ]
  },
  {
   "cell_type": "code",
   "execution_count": null,
   "metadata": {},
   "outputs": [],
   "source": [
    "from random import randint\n",
    "plot_dataset(data[['usurf', 'vsurf']].isel(xu_ocean=randint(0, len(data['xu_ocean'])),\n",
    "                                           yu_ocean=randint(0, len(data['yu_ocean']))))"
   ]
  },
  {
   "cell_type": "code",
   "execution_count": null,
   "metadata": {},
   "outputs": [],
   "source": [
    "plot_dataset(data[['usurf', 'vsurf']].mean(dim='time_index'), cmap='coolwarm', vmin=-1, vmax=1)\n",
    "_ = plt.suptitle('Mean flow')"
   ]
  },
  {
   "cell_type": "code",
   "execution_count": null,
   "metadata": {},
   "outputs": [],
   "source": [
    "plot_dataset(data[['S_x', 'S_y']].mean(dim='time_index'), cmap='coolwarm', vmin=-1e-7, vmax=1e-7)\n",
    "_ = plt.suptitle('Average forcing')"
   ]
  },
  {
   "cell_type": "code",
   "execution_count": null,
   "metadata": {},
   "outputs": [],
   "source": [
    "plot_dataset(data[['S_x', 'S_y']].std(dim='time_index'), cmap='coolwarm', vmin=0, vmax=2e-7)\n",
    "_ = plt.suptitle('forcing std')"
   ]
  },
  {
   "cell_type": "code",
   "execution_count": null,
   "metadata": {},
   "outputs": [],
   "source": [
    "data[['usurf', 'vsurf', 'S_x', 'S_y']].std().compute()"
   ]
  },
  {
   "cell_type": "code",
   "execution_count": null,
   "metadata": {},
   "outputs": [],
   "source": [
    "eddy_data = data[['usurf', 'vsurf']] - data[['usurf', 'vsurf']].mean(dim='time_index')\n",
    "eddy_data['usurf'].attrs['units'] = r'$m \\ s^{-1}$'\n",
    "eddy_data['vsurf'].attrs['units'] = r'$m \\ s^{-1}$'\n",
    "eddy_data['usurf'].attrs['long_name'] = 'eddy usurf'\n",
    "eddy_data['vsurf'].attrs['long_name'] = 'eddy vsurf'"
   ]
  },
  {
   "cell_type": "code",
   "execution_count": null,
   "metadata": {},
   "outputs": [],
   "source": [
    "random_time = randint(0, len(eddy_data['time_index']))\n",
    "fig = plt.figure(figsize=(20, 10))\n",
    "plot_dataset(data[['usurf', 'vsurf']].isel(time_index=random_time))\n",
    "_ = plt.suptitle('Velocities at day {}'.format(random_time))\n",
    "plot_dataset(eddy_data[['usurf', 'vsurf']].isel(time_index=random_time))\n",
    "_ = plt.suptitle('Eddy velocities at day {}'.format(random_time))"
   ]
  },
  {
   "cell_type": "code",
   "execution_count": null,
   "metadata": {},
   "outputs": [],
   "source": [
    "data['kinetic energy'] = 1/2*1e4*(data['usurf']**2 + data['vsurf']**2)\n",
    "data['kinetic energy'].attrs['units'] = r'$(cm/s)^2$'\n",
    "eddy_data['eddy kinetic energy'] = 1/2*1e4*(eddy_data['usurf']**2 + eddy_data['vsurf']**2)\n",
    "eddy_data['eddy kinetic energy'].attrs['units'] = r'$(cm/s)^2$'"
   ]
  },
  {
   "cell_type": "code",
   "execution_count": null,
   "metadata": {},
   "outputs": [],
   "source": [
    "mean_kinetic_energy = data['kinetic energy'].mean(dim='time_index')\n",
    "mean_kinetic_energy.attrs['units'] = r'$(cm/s)^2$'\n",
    "mean_eddy_kinetic_energy = eddy_data['eddy kinetic energy'].mean(dim='time_index')\n",
    "mean_eddy_kinetic_energy.attrs['units'] = r'$(cm/s)^2$'"
   ]
  },
  {
   "cell_type": "code",
   "execution_count": null,
   "metadata": {},
   "outputs": [],
   "source": [
    "mean_kinetic_energy.plot()\n",
    "_ = plt.title('Time-averaged total kinetic energy')"
   ]
  },
  {
   "cell_type": "code",
   "execution_count": null,
   "metadata": {},
   "outputs": [],
   "source": [
    "mean_eddy_kinetic_energy.plot()\n",
    "_ = plt.title('Time-averaged eddy kinetic energy')"
   ]
  },
  {
   "cell_type": "code",
   "execution_count": null,
   "metadata": {},
   "outputs": [],
   "source": [
    "from analysis.base import get_test_datasets\n",
    "test_datasets = get_test_datasets(run['run_id_x'])"
   ]
  },
  {
   "cell_type": "code",
   "execution_count": null,
   "metadata": {},
   "outputs": [],
   "source": [
    "import numpy as np\n",
    "lat = np.arange(-80, 80, 1)\n",
    "lon = np.arange(-279.9, 80.1, 1)\n",
    "interp_dss = []\n",
    "for ds in test_datasets:\n",
    "    ds = ds.ds\n",
    "    ds = ds.chunk(dict(time=1, latitude=None, longitude=None))\n",
    "    interp_dss.append(ds.interp(dict(latitude=lat, longitude=lon),\n",
    "                                method='nearest', kwargs=dict(bounds_error=False, fill_value=0.)))\n",
    "    interp_dss[-1] = interp_dss[-1].chunk(dict(latitude=None, longitude=None))"
   ]
  },
  {
   "cell_type": "code",
   "execution_count": null,
   "metadata": {},
   "outputs": [],
   "source": [
    "final_ds = sum(interp_dss)"
   ]
  },
  {
   "cell_type": "code",
   "execution_count": null,
   "metadata": {},
   "outputs": [],
   "source": [
    "import cartopy.crs as ccrs\n",
    "final_ds = final_ds.where(abs(final_ds) > 0)\n",
    "ax = plt.axes(projection=ccrs.PlateCarree())\n",
    "squared_error = ((final_ds['S_xpred'] - final_ds['S_x']))**2\n",
    "(squared_error.mean(dim='time') / (final_ds['S_x']**2).mean(dim='time')).plot(ax=ax, transform = ccrs.PlateCarree(), vmin=0, vmax=1, cmap='coolwarm')\n",
    "ax.set_global()\n",
    "ax.coastlines()\n",
    "plt.xticks(final_ds.longitude[::30] + 99.9)\n",
    "plt.yticks(final_ds.latitude[::30])"
   ]
  },
  {
   "cell_type": "code",
   "execution_count": null,
   "metadata": {},
   "outputs": [],
   "source": [
    "test_datasets[0]"
   ]
  },
  {
   "cell_type": "code",
   "execution_count": null,
   "metadata": {},
   "outputs": [],
   "source": [
    "id = 0\n",
    "error = (test_datasets[id]['S_xpred'] - test_datasets[id]['S_x']) \n",
    "error0 = test_datasets[id]['S_x']"
   ]
  },
  {
   "cell_type": "code",
   "execution_count": null,
   "metadata": {},
   "outputs": [],
   "source": [
    "((error**2).mean(dim='time') / (error0**2).mean(dim='time')).plot(vmin=0., vmax=1)"
   ]
  },
  {
   "cell_type": "code",
   "execution_count": null,
   "metadata": {},
   "outputs": [],
   "source": [
    "import numpy as np\n",
    "model_output = test_datasets[id]\n",
    "model_output['S_xscale'] = 1/(model_output['S_xscale'])\n",
    "model_output['S_yscale'] = 1/(model_output['S_yscale'])\n",
    "model_output['err_S_x'] = (model_output['S_x'] - model_output['S_xpred'])**2\n",
    "model_output['err_S_y'] = (model_output['S_y'] - model_output['S_ypred'])**2"
   ]
  },
  {
   "cell_type": "code",
   "execution_count": null,
   "metadata": {},
   "outputs": [],
   "source": [
    "model_output['time_index'] = xr.DataArray(np.arange(len(model_output.coords['time'])),\n",
    "                                       dims = ('time',),\n",
    "                                       coords = {'time' : model_output['time']})\n",
    "model_output = model_output.swap_dims({'time' : 'time_index'})"
   ]
  },
  {
   "cell_type": "code",
   "execution_count": null,
   "metadata": {},
   "outputs": [],
   "source": [
    "# Random snapshot of the forcing for Laure\n",
    "from random import randint\n",
    "n_times = len(model_output['time'])\n",
    "random_time = randint(0, n_times)\n",
    "print('Random time index: ', random_time)\n",
    "(model_output['S_x'].isel(time_index=random_time)).plot(vmin=-1., vmax=1., cmap='coolwarm')\n",
    "plt.legend(r'S_x ($m^4s^{-3})')"
   ]
  },
  {
   "cell_type": "code",
   "execution_count": null,
   "metadata": {},
   "outputs": [],
   "source": [
    "from random import randint\n",
    "random_time = randint(0, n_times)\n",
    "print(random_time)\n",
    "plot_dataset(model_output.isel(time_index=random_time)[['u_surf', 'v_surf', 'S_x', 'S_y', 'S_xpred', 'S_ypred',\n",
    "                                                          'S_xscale', 'S_yscale', 'err_S_x', 'err_S_y']],\n",
    "            vmin = [-2]*6 + [0., 0., 0., 0.], vmax = [2]*6 + [2, 2,2,2])"
   ]
  },
  {
   "cell_type": "code",
   "execution_count": null,
   "metadata": {},
   "outputs": [],
   "source": [
    "(abs(model_output['S_x'])).mean(dim='time_index').plot(vmin=0, vmax=1)"
   ]
  },
  {
   "cell_type": "code",
   "execution_count": null,
   "metadata": {},
   "outputs": [],
   "source": [
    "fig = plt.figure(figsize=(30, 30))\n",
    "long = -172\n",
    "lat = -32\n",
    "plt.subplot(2, 1, 1)\n",
    "time = slice(0, 500)\n",
    "model_output['S_y'].isel(time_index=time).sel(longitude=long, latitude=lat, method='nearest').plot(linewidth=3)\n",
    "model_output['S_ypred'].isel(time_index=time).sel(longitude=long, latitude=lat, method='nearest').plot(linewidth=3)\n",
    "uB = model_output['S_ypred'] + 1.96 * model_output['S_yscale']\n",
    "lB = model_output['S_ypred'] - 1.96 * model_output['S_yscale']\n",
    "uB.isel(time_index=time).sel(longitude=long, latitude=lat, method='nearest').plot(linestyle='--',color='gray')\n",
    "lB.isel(time_index=time).sel(longitude=long, latitude=lat, method='nearest').plot(linestyle='--',color='gray')\n",
    "plt.legend(('Sy', 'Sy_pred'))"
   ]
  },
  {
   "cell_type": "code",
   "execution_count": null,
   "metadata": {},
   "outputs": [],
   "source": [
    "correlations = (model_output['S_y'] * model_output['S_ypred']).mean(dim='time_index') / np.sqrt((model_output['S_y']**2).mean(dim='time_index') * (model_output['S_ypred']**2).mean(dim='time_index'))"
   ]
  },
  {
   "cell_type": "code",
   "execution_count": null,
   "metadata": {},
   "outputs": [],
   "source": [
    "correlations.plot(vmin=0., vmax=1)"
   ]
  },
  {
   "cell_type": "code",
   "execution_count": null,
   "metadata": {},
   "outputs": [],
   "source": []
  }
 ],
 "metadata": {
  "kernelspec": {
   "display_name": "Python 3 (ipykernel)",
   "language": "python",
   "name": "python3"
  },
  "language_info": {
   "codemirror_mode": {
    "name": "ipython",
    "version": 3
   },
   "file_extension": ".py",
   "mimetype": "text/x-python",
   "name": "python",
   "nbconvert_exporter": "python",
   "pygments_lexer": "ipython3",
   "version": "3.11.2"
  }
 },
 "nbformat": 4,
 "nbformat_minor": 4
}
